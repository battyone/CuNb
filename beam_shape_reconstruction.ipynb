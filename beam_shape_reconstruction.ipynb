{
 "cells": [
  {
   "cell_type": "code",
   "execution_count": 6,
   "metadata": {},
   "outputs": [],
   "source": [
    "import numpy as np\n",
    "import matplotlib.pylab as plt"
   ]
  },
  {
   "cell_type": "code",
   "execution_count": 100,
   "metadata": {},
   "outputs": [],
   "source": [
    "def phi(x):\n",
    "    phi = np.piecewise(x, [x <= -1,\n",
    "                     (x > -1)&(x<0),\n",
    "                     (x >= 0)&(x < 1),\n",
    "                      x >= 1],\n",
    "                    [0,\n",
    "                     lambda x: x+1,\n",
    "                     lambda x: -x+1,\n",
    "                     0])\n",
    "    return phi\n",
    "\n",
    "def Phi(x):\n",
    "    Phi = np.piecewise(x, [x <= -1,\n",
    "                     (x > -1)&(x<0),\n",
    "                     (x >= 0)&(x < 1),\n",
    "                      x >= 1],\n",
    "                    [0,\n",
    "                     lambda x: .5*(x+1)**2,\n",
    "                     lambda x: -.5*(x-1)**2 + 1,\n",
    "                     1])\n",
    "    return Phi"
   ]
  },
  {
   "cell_type": "code",
   "execution_count": 101,
   "metadata": {},
   "outputs": [
    {
     "data": {
      "image/png": "[encoded data removed]",
      "text/plain": [
       "<Figure size 432x288 with 1 Axes>"
      ]
     },
     "metadata": {
      "needs_background": "light"
     },
     "output_type": "display_data"
    }
   ],
   "source": [
    "x = np.linspace(-2, 2, 103)\n",
    "plt.plot(x, Phi(x));\n",
    "plt.plot(x, phi(x));"
   ]
  },
  {
   "cell_type": "code",
   "execution_count": 102,
   "metadata": {},
   "outputs": [],
   "source": [
    "L = 120 # mm, length of the plates\n",
    "gap = .3 #mm, gap between plates\n",
    "plate = .4 # mm, thickness\n",
    "\n",
    "R = 340 # mm, gonio center to plates distance\n",
    "z0 = .01\n",
    "\n",
    "beam_width = 2.4 # mm, overestimation of the beam footprint"
   ]
  },
  {
   "cell_type": "code",
   "execution_count": 103,
   "metadata": {},
   "outputs": [],
   "source": [
    "def intervalles(theta, z0=0):\n",
    "    shadow = L*np.sin(theta) + plate*np.cos(theta)\n",
    "    period = (gap + plate)*np.cos(theta)\n",
    "    through = period - shadow\n",
    "    \n",
    "    offset = theta*R + z0\n",
    "    return period, through, offset"
   ]
  },
  {
   "cell_type": "code",
   "execution_count": 184,
   "metadata": {},
   "outputs": [
    {
     "data": {
      "text/plain": [
       "(0.6999999440000007, 0.3479999747200002, -0.136)"
      ]
     },
     "execution_count": 184,
     "metadata": {},
     "output_type": "execute_result"
    }
   ],
   "source": [
    "intervalles(-.0004)"
   ]
  },
  {
   "cell_type": "code",
   "execution_count": 186,
   "metadata": {},
   "outputs": [],
   "source": [
    "def A(theta, k, i_max, dz, z0):\n",
    "\n",
    "    period, through, offset = intervalles(theta, z0=z0)\n",
    "    i_range = np.arange(-i_max, +i_max+1)\n",
    "    \n",
    "    return np.sum(  phi((i_range*period + through + offset)/dz - k)\\\n",
    "                  - phi((i_range*period + offset)/dz - k))*dz"
   ]
  },
  {
   "cell_type": "code",
   "execution_count": 205,
   "metadata": {},
   "outputs": [
    {
     "data": {
      "text/plain": [
       "0.0"
      ]
     },
     "execution_count": 205,
     "metadata": {},
     "output_type": "execute_result"
    }
   ],
   "source": [
    "i_max = np.ceil(beam_width/2/(gap+plate)) + 10\n",
    "\n",
    "dz = .03\n",
    "z0 = 0\n",
    "\n",
    "theta = 0.004\n",
    "k = 2\n",
    "A(theta, k, i_max, dz, z0)"
   ]
  },
  {
   "cell_type": "code",
   "execution_count": 219,
   "metadata": {},
   "outputs": [],
   "source": [
    "k_max = 10\n",
    "k_range = np.arange(-k_max, +k_max+1)\n",
    "theta_range = np.linspace(-.04, .04, 20)\n",
    "\n",
    "dz = theta_range.ptp()/len(theta_range) * R"
   ]
  },
  {
   "cell_type": "code",
   "execution_count": 221,
   "metadata": {},
   "outputs": [],
   "source": [
    "A_mat = np.zeros((len(theta_range), len(k_range)))\n",
    "for i, theta in enumerate(theta_range):\n",
    "    for j, k in enumerate(k_range):\n",
    "        A_mat[i, j] = A(theta, k, i_max, dz, z0)"
   ]
  },
  {
   "cell_type": "code",
   "execution_count": 224,
   "metadata": {},
   "outputs": [
    {
     "data": {
      "image/png": "[encoded data removed]",
      "text/plain": [
       "<Figure size 432x288 with 2 Axes>"
      ]
     },
     "metadata": {
      "needs_background": "light"
     },
     "output_type": "display_data"
    }
   ],
   "source": [
    "plt.pcolor(k_range, theta_range, A_mat); plt.colorbar();\n",
    "plt.xlabel('k'); plt.ylabel('theta');"
   ]
  },
  {
   "cell_type": "code",
   "execution_count": null,
   "metadata": {},
   "outputs": [],
   "source": []
  },
  {
   "cell_type": "code",
   "execution_count": null,
   "metadata": {},
   "outputs": [],
   "source": []
  }
 ],
 "metadata": {
  "kernelspec": {
   "display_name": "firedrake",
   "language": "python",
   "name": "firedrake"
  },
  "language_info": {
   "codemirror_mode": {
    "name": "ipython",
    "version": 3
   },
   "file_extension": ".py",
   "mimetype": "text/x-python",
   "name": "python",
   "nbconvert_exporter": "python",
   "pygments_lexer": "ipython3",
   "version": "3.5.2"
  }
 },
 "nbformat": 4,
 "nbformat_minor": 2
}
