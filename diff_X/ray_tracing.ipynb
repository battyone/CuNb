{
 "cells": [
  {
   "cell_type": "code",
   "execution_count": 1,
   "metadata": {},
   "outputs": [],
   "source": [
    "import numpy as np\n",
    "import matplotlib.pylab as plt"
   ]
  },
  {
   "cell_type": "code",
   "execution_count": 2,
   "metadata": {},
   "outputs": [],
   "source": [
    "EPSILON = 1e-8 # np.finfo(float).eps  # machine precision"
   ]
  },
  {
   "cell_type": "code",
   "execution_count": 3,
   "metadata": {},
   "outputs": [],
   "source": [
    "def plane_intersection(ray, plane):\n",
    "    ''' Find the intersection point between a ray and a plane\n",
    "            ray: tuple (A, u) starting point and direction\n",
    "            plane: tuple (P, n, ux) origin, normal direction and in-plane x-axis\n",
    "            \n",
    "        Returns:\n",
    "            coordinates of the intersection point in the 3D ref. frame\n",
    "            coordinates of the intersection point in the plane ref. frame (u, v)\n",
    "    '''\n",
    "    A, u = ray\n",
    "    P, n, plane_x = plane\n",
    "    \n",
    "    A, P = np.asarray(A), np.asarray(P)\n",
    "    u, n, plane_x = np.asarray(u), np.asarray(n), np.asarray(plane_x)\n",
    "    \n",
    "    u_dot_n = np.inner(u, n)\n",
    "    AP_dot_n = np.inner(P - A, n)\n",
    "    \n",
    "    if u_dot_n >= -EPSILON and AP_dot_n >= -EPSILON:    \n",
    "        # print('do not colide')\n",
    "        return None, None\n",
    "    else:\n",
    "        t = AP_dot_n / u_dot_n  # time of collision\n",
    "        B = A + u*t   # collision point\n",
    "        \n",
    "        plane_y = np.cross(n, plane_x)\n",
    "        proj_x = np.inner(plane_x, B-P)\n",
    "        proj_y = np.inner(plane_y, B-P)\n",
    "        return B, (proj_x, proj_y)\n",
    "\n",
    "# test\n",
    "A = (1.2, 0, 0)\n",
    "u = (-1, 0, 0)\n",
    "ray = (A, u)\n",
    "\n",
    "P = (0, 0, 0)\n",
    "n = (1, 1, 4)\n",
    "plane_x = (-1, 1, 0)\n",
    "plane = (P, n, plane_x)\n",
    "\n",
    "assert np.allclose(plane_intersection(ray, plane)[0], [0., 0., 0.])"
   ]
  },
  {
   "cell_type": "code",
   "execution_count": 4,
   "metadata": {},
   "outputs": [],
   "source": [
    "def rodrigues_rotation(vector, axis, theta):\n",
    "    ''' Rotate the vector arround the direction \n",
    "        of an angle theta (radian)\n",
    "        using the Rodrigues formula\n",
    "    '''\n",
    "    vector, axis = np.asarray(vector), np.asarray(axis)\n",
    "\n",
    "    axis = axis/np.linalg.norm(axis)\n",
    "\n",
    "    rotated = vector*np.cos(theta) + np.cross(axis, vector)*np.sin(theta)\\\n",
    "                + axis*np.inner(axis, vector)*(1-np.cos(theta))\n",
    "    return rotated\n",
    "\n",
    "# test\n",
    "theta = np.pi/4\n",
    "axis = (0, 0, 1)\n",
    "vector = (1, 0, 0)\n",
    "\n",
    "rotated = rodrigues_rotation(vector, axis, theta)\n",
    "assert np.allclose(rotated, [np.sqrt(2)/2, np.sqrt(2)/2, 0.])"
   ]
  },
  {
   "cell_type": "code",
   "execution_count": 5,
   "metadata": {},
   "outputs": [],
   "source": [
    "# Diffraction by a powder\n",
    "def diffraction_cone(u_incident, deuxtheta):\n",
    "    ''' Generate diffraction direction by a powder\n",
    "        i.e. a cone of semi-angle deuxtheta (radian)  and axis u_incident\n",
    "        \n",
    "        return a function:\n",
    "            - the input is the out-of-plane diffraction angle alpha\n",
    "            - output the diffracted direction vector\n",
    "    '''\n",
    "    y_axis = (0, 1, 0)\n",
    "\n",
    "    generatrice = rodrigues_rotation(u, y_axis, deuxtheta)\n",
    "\n",
    "    u_diff = lambda alpha: rodrigues_rotation(generatrice, u, alpha)\n",
    "    return u_diff\n",
    "\n",
    "# test\n",
    "u_incident = (-1, 0, 0)\n",
    "deuxtheta = np.pi/4\n",
    "u_diff = diffraction_cone(u_incident, deuxtheta)\n",
    "\n",
    "assert np.allclose(u_diff(0), [-np.sqrt(2)/2, 0, np.sqrt(2)/2])\n",
    "assert np.allclose(u_diff(np.pi), [-np.sqrt(2)/2, 0, -np.sqrt(2)/2])"
   ]
  },
  {
   "cell_type": "code",
   "execution_count": 6,
   "metadata": {},
   "outputs": [
    {
     "data": {
      "text/plain": [
       "array([-7.07106781e-01,  8.65956056e-17, -7.07106781e-01])"
      ]
     },
     "execution_count": 6,
     "metadata": {},
     "output_type": "execute_result"
    }
   ],
   "source": [
    "u_diff(np.pi)"
   ]
  },
  {
   "cell_type": "code",
   "execution_count": 7,
   "metadata": {},
   "outputs": [],
   "source": [
    "def diffract(incident_direction, B, detector_plane, deuxtheta, alpha):\n",
    "    \n",
    "    u_diff = diffraction_cone(incident_direction, deuxtheta)\n",
    "    uB = u_diff(alpha)\n",
    "    diffracted_ray = (B, uB)\n",
    "    C, uv = plane_intersection(diffracted_ray, detector_plane)\n",
    "    return uv"
   ]
  },
  {
   "cell_type": "code",
   "execution_count": 8,
   "metadata": {},
   "outputs": [],
   "source": [
    "# Define detector\n",
    "deuxtheta = np.pi/4\n",
    "rayon_gonio = 420 # mm\n",
    "detector_position  = (-rayon_gonio*np.cos(deuxtheta),\n",
    "                      0,\n",
    "                      +rayon_gonio*np.sin(deuxtheta))\n",
    "detector_normal = (+np.cos(deuxtheta),\n",
    "                   0,\n",
    "                   -np.sin(deuxtheta))\n",
    "detector_x_axis = (+np.sin(deuxtheta),\n",
    "                    0,\n",
    "                   +np.cos(deuxtheta))\n",
    "\n",
    "detector_plane = (detector_position, detector_normal, detector_x_axis)"
   ]
  },
  {
   "cell_type": "code",
   "execution_count": 9,
   "metadata": {},
   "outputs": [],
   "source": [
    "import itertools as it"
   ]
  },
  {
   "cell_type": "code",
   "execution_count": 10,
   "metadata": {},
   "outputs": [],
   "source": [
    "alpha_range = np.pi/40\n",
    "beam_height = 1.2 # mm\n",
    "beam_width = 0.5 # mm\n",
    "\n",
    "alpha_span = np.linspace(-alpha_range/2, +alpha_range/2, 11)\n",
    "Ay_span = np.linspace(-beam_height/2, +beam_height/2, 11)\n",
    "Az_span = np.linspace(-beam_width/2, +beam_width/2, 11)\n",
    "\n",
    "points = []\n",
    "for Az, Ay, alpha in it.product(Az_span, Ay_span, alpha_span):\n",
    "    u_incident = (-1, 0, 0)\n",
    "    B = (0, Ay, Az)\n",
    "    uv = diffract(u_incident, B, detector_plane, deuxtheta, alpha)\n",
    "    points.append( uv )"
   ]
  },
  {
   "cell_type": "code",
   "execution_count": 11,
   "metadata": {},
   "outputs": [
    {
     "data": {
      "image/png": "[encoded data removed]",
      "text/plain": [
       "<Figure size 360x360 with 1 Axes>"
      ]
     },
     "metadata": {
      "needs_background": "light"
     },
     "output_type": "display_data"
    }
   ],
   "source": [
    "u, v = list(zip(*points))\n",
    "u_deuxtheta = np.array(u)/rayon_gonio*180/np.pi\n",
    "plt.figure(figsize=(5, 5))\n",
    "plt.axvline(x=0, color='black', linewidth=1, alpha=0.27);\n",
    "plt.axhline(y=0, color='black', linewidth=1, alpha=0.27);\n",
    "plt.plot(u_deuxtheta, v, ',k');\n",
    "#plt.axis('square');\n",
    "plt.xlabel('deux theta (deg)');\n",
    "plt.ylabel('height (mm)');\n",
    "plt.title('detector plane');"
   ]
  },
  {
   "cell_type": "code",
   "execution_count": 12,
   "metadata": {},
   "outputs": [
    {
     "data": {
      "text/plain": [
       "(0.7071067811865476, 0, -0.7071067811865475)"
      ]
     },
     "execution_count": 12,
     "metadata": {},
     "output_type": "execute_result"
    }
   ],
   "source": [
    "detector_normal"
   ]
  },
  {
   "cell_type": "code",
   "execution_count": 13,
   "metadata": {},
   "outputs": [
    {
     "data": {
      "text/plain": [
       "(-296.98484809834997, 0, 296.9848480983499)"
      ]
     },
     "execution_count": 13,
     "metadata": {},
     "output_type": "execute_result"
    }
   ],
   "source": [
    "detector_position"
   ]
  },
  {
   "cell_type": "code",
   "execution_count": 14,
   "metadata": {},
   "outputs": [
    {
     "data": {
      "text/plain": [
       "(array([0., 0., 0.]), (0.0, 0.0))"
      ]
     },
     "execution_count": 14,
     "metadata": {},
     "output_type": "execute_result"
    }
   ],
   "source": []
  }
 ],
 "metadata": {
  "kernelspec": {
   "display_name": "py3 venv",
   "language": "python",
   "name": "py3"
  },
  "language_info": {
   "codemirror_mode": {
    "name": "ipython",
    "version": 3
   },
   "file_extension": ".py",
   "mimetype": "text/x-python",
   "name": "python",
   "nbconvert_exporter": "python",
   "pygments_lexer": "ipython3",
   "version": "3.6.7"
  }
 },
 "nbformat": 4,
 "nbformat_minor": 2
}
