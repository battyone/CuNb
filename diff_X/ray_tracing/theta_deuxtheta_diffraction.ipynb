{
 "cells": [
  {
   "cell_type": "code",
   "execution_count": 4,
   "metadata": {},
   "outputs": [],
   "source": [
    "%load_ext autoreload\n",
    "%autoreload 2\n",
    "\n",
    "import numpy as np\n",
    "import matplotlib.pylab as plt\n",
    "import raytracing as rt"
   ]
  },
  {
   "cell_type": "code",
   "execution_count": 35,
   "metadata": {},
   "outputs": [],
   "source": [
    "def scan_2theta(deuxtheta_span, N,\n",
    "                source_param, sample_params, sample_position,\n",
    "                detector, detector_param):\n",
    "    \"\"\"\n",
    "    Direct beam 2theta scan\n",
    "    \"\"\"\n",
    "    I_measure = []\n",
    "    for deuxtheta in deuxtheta_span:\n",
    " \n",
    "        # Source\n",
    "        A, u = rt.source(N, **source_param)\n",
    "\n",
    "        \n",
    "        # Diffraction\n",
    "        sample_position['omega'] = deuxtheta/2\n",
    "        B, d, throught_sample, uv_sample = rt.planar_powder(A, u,\n",
    "                                                           **sample_position,\n",
    "                                                           **sample_params)\n",
    "        # Detector\n",
    "        if detector == 'plate':\n",
    "            through_detect, uv_detec = rt.plate_collim_detector(B, d, deuxtheta,\n",
    "                                                 **detector_param)\n",
    "        else:\n",
    "            through_detect, uv_detec = rt.slit_detector(B, d, deuxtheta,\n",
    "                                                 **detector_param)\n",
    "\n",
    "        detected = np.logical_and(throught_sample, through_detect)\n",
    "        I = np.count_nonzero(detected)\n",
    "        I_measure.append(I)\n",
    "\n",
    "    I_measure = np.array(I_measure)\n",
    "\n",
    "    return I_measure"
   ]
  },
  {
   "cell_type": "markdown",
   "metadata": {},
   "source": [
    "# Calibration using direct beam measurement"
   ]
  },
  {
   "cell_type": "code",
   "execution_count": 54,
   "metadata": {},
   "outputs": [],
   "source": [
    "# source\n",
    "hybride_collim_params = {\n",
    "    'width':.5,\n",
    "    'height':10,\n",
    "    'divergence_z':.65/100,\n",
    "    'divergence_y':1,\n",
    "    'position':130\n",
    "}\n",
    "\n",
    "# Sample\n",
    "sample_params = {\n",
    "    'width': 12, # mm\n",
    "    'height': 10, # mm\n",
    "    'deuxtheta_diff': 45, # degree\n",
    "    'gamma_range':20, # degree\n",
    "}\n",
    "\n",
    "# Detectors\n",
    "plate_collimator_params = {\n",
    "    'distance':360, # mm, distance from gonio center to receving slit\n",
    "    'offset':-0.18, # mm, offset along Z\n",
    "    'length':96, # mm, from spec.\n",
    "    'width':22,\n",
    "    'height':20,\n",
    "    'nbr_plates':39,\n",
    "    'acceptance':0.27 # degree, from spec.\n",
    "}\n",
    "\n",
    "slit_angle = 0.25\n",
    "slit_conversion_distance = 90 # mm\n",
    "slit_width = slit_conversion_distance*slit_angle *np.pi/180 # mm\n",
    "    \n",
    "slit_detector_params = {\n",
    "    'distance':380, # mm, distance from gonio center to receving slit\n",
    "    'offset':0, # mm, offset along Z\n",
    "    'width':slit_width, # mm\n",
    "    'height':20, # mm\n",
    "}"
   ]
  },
  {
   "cell_type": "markdown",
   "metadata": {},
   "source": [
    "## Detecteur fente"
   ]
  },
  {
   "cell_type": "code",
   "execution_count": 64,
   "metadata": {},
   "outputs": [
    {
     "data": {
      "image/png": "[encoded data removed]",
      "text/plain": [
       "<Figure size 432x288 with 1 Axes>"
      ]
     },
     "metadata": {
      "needs_background": "light"
     },
     "output_type": "display_data"
    }
   ],
   "source": [
    "# Experiment\n",
    "\n",
    "sample_position = {\n",
    "    'omega':0, 'psi':10, 'phi':0,  # degree\n",
    "    'X':0, 'Y':0, 'Z':0, # mm\n",
    "}\n",
    "\n",
    "deuxtheta_center = 80.\n",
    "deuxtheta_range = 0.8\n",
    "nbr_points = 91\n",
    "\n",
    "deuxtheta_span = np.linspace(deuxtheta_center - deuxtheta_range/2,\n",
    "                             deuxtheta_center + deuxtheta_range/2, nbr_points)\n",
    "\n",
    "sample_params['deuxtheta_diff'] = deuxtheta_center\n",
    "\n",
    "N = 50000\n",
    "I_slit = scan_2theta(deuxtheta_span, N,\n",
    "                hybride_collim_params, sample_params, sample_position,\n",
    "                'slit', slit_detector_params)\n",
    "I_plate = scan_2theta(deuxtheta_span, N,\n",
    "                hybride_collim_params, sample_params, sample_position,\n",
    "                'plate', plate_collimator_params)\n",
    "\n",
    "# Graph\n",
    "plt.axvline(x=deuxtheta_center, linewidth=1, color='black')\n",
    "plt.plot(deuxtheta_span, I_slit, 'r', label='slit');\n",
    "plt.plot(deuxtheta_span, I_plate, 'b', label='plate');\n",
    "\n",
    "plt.xlabel('deux theta (deg)');\n",
    "plt.ylabel('I'); plt.legend();\n",
    "plt.xlim([deuxtheta_span.min(), deuxtheta_span.max()]);"
   ]
  },
  {
   "cell_type": "code",
   "execution_count": null,
   "metadata": {},
   "outputs": [],
   "source": []
  },
  {
   "cell_type": "code",
   "execution_count": null,
   "metadata": {},
   "outputs": [],
   "source": []
  }
 ],
 "metadata": {
  "kernelspec": {
   "display_name": "py3 venv",
   "language": "python",
   "name": "py3"
  },
  "language_info": {
   "codemirror_mode": {
    "name": "ipython",
    "version": 3
   },
   "file_extension": ".py",
   "mimetype": "text/x-python",
   "name": "python",
   "nbconvert_exporter": "python",
   "pygments_lexer": "ipython3",
   "version": "3.6.8"
  }
 },
 "nbformat": 4,
 "nbformat_minor": 2
}
