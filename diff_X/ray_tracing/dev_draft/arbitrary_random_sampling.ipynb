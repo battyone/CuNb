{
 "cells": [
  {
   "cell_type": "markdown",
   "metadata": {},
   "source": [
    "# Random sampling from an arbitrary distribution\n",
    "\n",
    "* Inverse of the cdf:  \n",
    "https://stackoverflow.com/questions/21100716/fast-arbitrary-distribution-random-sampling  \n",
    "--> https://en.wikipedia.org/wiki/Inverse_transform_sampling\n",
    "\n",
    "\n",
    "https://github.com/scipy/scipy/issues/3747\n",
    "\n",
    "\n",
    "* Ratio-of-uniforms methodmethod:\n",
    "\n",
    "https://docs.scipy.org/doc/scipy/reference/generated/scipy.stats.rvs_ratio_uniforms.html#scipy.stats.rvs_ratio_uniforms\n"
   ]
  },
  {
   "cell_type": "code",
   "execution_count": null,
   "metadata": {},
   "outputs": [],
   "source": []
  }
 ],
 "metadata": {
  "kernelspec": {
   "display_name": "py3 venv",
   "language": "python",
   "name": "py3"
  },
  "language_info": {
   "codemirror_mode": {
    "name": "ipython",
    "version": 3
   },
   "file_extension": ".py",
   "mimetype": "text/x-python",
   "name": "python",
   "nbconvert_exporter": "python",
   "pygments_lexer": "ipython3",
   "version": "3.6.8"
  }
 },
 "nbformat": 4,
 "nbformat_minor": 2
}
