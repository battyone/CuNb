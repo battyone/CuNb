{
 "cells": [
  {
   "cell_type": "code",
   "execution_count": 1,
   "metadata": {},
   "outputs": [
    {
     "name": "stdout",
     "output_type": "stream",
     "text": [
      "itn   integral        wgt average     chi2/dof        Q\n",
      "-------------------------------------------------------\n",
      "  1   0.20(11)        0.20(11)            0.00     1.00\n",
      "  2   0.65(12)        0.404(80)           7.70     0.01\n",
      "  3   1.09(11)        0.634(66)          16.04     0.00\n",
      "  4   0.962(54)       0.830(42)          15.66     0.00\n",
      "  5   1.026(44)       0.924(30)          14.40     0.00\n",
      "  6   1.020(38)       0.960(24)          12.30     0.00\n",
      "  7   1.055(30)       0.997(19)          11.27     0.00\n",
      "  8   0.969(23)       0.986(15)           9.79     0.00\n",
      "  9   0.991(20)       0.988(12)           8.57     0.00\n",
      " 10   1.010(16)       0.9953(96)          7.75     0.00\n",
      "\n",
      "result = 0.9953(96)    Q = 0.00\n"
     ]
    }
   ],
   "source": [
    "import vegas\n",
    "import math\n",
    "\n",
    "def f(x):\n",
    "    dx2 = 0\n",
    "    for d in range(4):\n",
    "        dx2 += (x[d] - 0.5) ** 2\n",
    "    return math.exp(-dx2 * 100.) * 1013.2118364296088\n",
    "\n",
    "integ = vegas.Integrator([[-1, 1], [0, 1], [0, 1], [0, 1]])\n",
    "\n",
    "result = integ(f, nitn=10, neval=1000)\n",
    "print(result.summary())\n",
    "print('result = %s    Q = %.2f' % (result, result.Q))"
   ]
  },
  {
   "cell_type": "code",
   "execution_count": null,
   "metadata": {},
   "outputs": [],
   "source": []
  }
 ],
 "metadata": {
  "kernelspec": {
   "display_name": "py3 venv",
   "language": "python",
   "name": "py3"
  },
  "language_info": {
   "codemirror_mode": {
    "name": "ipython",
    "version": 3
   },
   "file_extension": ".py",
   "mimetype": "text/x-python",
   "name": "python",
   "nbconvert_exporter": "python",
   "pygments_lexer": "ipython3",
   "version": "3.6.8"
  }
 },
 "nbformat": 4,
 "nbformat_minor": 2
}
