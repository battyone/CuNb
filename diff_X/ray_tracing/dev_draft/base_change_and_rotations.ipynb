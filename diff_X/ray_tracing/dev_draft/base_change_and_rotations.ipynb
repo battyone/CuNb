{
 "cells": [
  {
   "cell_type": "code",
   "execution_count": 278,
   "metadata": {},
   "outputs": [],
   "source": [
    "import numpy as np\n",
    "import matplotlib.pylab as plt"
   ]
  },
  {
   "cell_type": "code",
   "execution_count": 20,
   "metadata": {},
   "outputs": [],
   "source": [
    "import sympy as sp\n",
    "from sympy.vector import CoordSys3D, BodyOrienter\n",
    "from sympy import symbols"
   ]
  },
  {
   "cell_type": "markdown",
   "metadata": {},
   "source": [
    "## Matrice de changement de base"
   ]
  },
  {
   "cell_type": "code",
   "execution_count": 8,
   "metadata": {},
   "outputs": [],
   "source": [
    "omega, phi, psi = symbols('omega, phi, psi')"
   ]
  },
  {
   "cell_type": "markdown",
   "metadata": {},
   "source": [
    "from https://docs.sympy.org/latest/_modules/sympy/vector/orienters.html\n",
    "\n",
    "        A 'Body' fixed rotation is described by three angles and\n",
    "        three body-fixed rotation axes. To orient a coordinate system D\n",
    "        with respect to N, each sequential rotation is always about\n",
    "        the orthogonal unit vectors fixed to D. For example, a '123'\n",
    "        rotation will specify rotations about N.i, then D.j, then\n",
    "        D.k. (Initially, D.i is same as N.i)"
   ]
  },
  {
   "cell_type": "code",
   "execution_count": 14,
   "metadata": {},
   "outputs": [],
   "source": [
    "body_orienter = BodyOrienter(omega, psi, phi, 'YXZ')"
   ]
  },
  {
   "cell_type": "code",
   "execution_count": 64,
   "metadata": {},
   "outputs": [
    {
     "data": {
      "text/latex": [
       "$\\displaystyle \\left[\\begin{matrix}\\sin{\\left(\\omega \\right)} \\sin{\\left(\\phi \\right)} \\sin{\\left(\\psi \\right)} + \\cos{\\left(\\omega \\right)} \\cos{\\left(\\phi \\right)} & \\sin{\\left(\\phi \\right)} \\cos{\\left(\\psi \\right)} & - \\sin{\\left(\\omega \\right)} \\cos{\\left(\\phi \\right)} + \\sin{\\left(\\phi \\right)} \\sin{\\left(\\psi \\right)} \\cos{\\left(\\omega \\right)}\\\\\\sin{\\left(\\omega \\right)} \\sin{\\left(\\psi \\right)} \\cos{\\left(\\phi \\right)} - \\sin{\\left(\\phi \\right)} \\cos{\\left(\\omega \\right)} & \\cos{\\left(\\phi \\right)} \\cos{\\left(\\psi \\right)} & \\sin{\\left(\\omega \\right)} \\sin{\\left(\\phi \\right)} + \\sin{\\left(\\psi \\right)} \\cos{\\left(\\omega \\right)} \\cos{\\left(\\phi \\right)}\\\\\\sin{\\left(\\omega \\right)} \\cos{\\left(\\psi \\right)} & - \\sin{\\left(\\psi \\right)} & \\cos{\\left(\\omega \\right)} \\cos{\\left(\\psi \\right)}\\end{matrix}\\right]$"
      ],
      "text/plain": [
       "Matrix([\n",
       "[sin(omega)*sin(phi)*sin(psi) + cos(omega)*cos(phi), sin(phi)*cos(psi), -sin(omega)*cos(phi) + sin(phi)*sin(psi)*cos(omega)],\n",
       "[sin(omega)*sin(psi)*cos(phi) - sin(phi)*cos(omega), cos(phi)*cos(psi),  sin(omega)*sin(phi) + sin(psi)*cos(omega)*cos(phi)],\n",
       "[                               sin(omega)*cos(psi),         -sin(psi),                                 cos(omega)*cos(psi)]])"
      ]
     },
     "execution_count": 64,
     "metadata": {},
     "output_type": "execute_result"
    }
   ],
   "source": [
    "R = body_orienter.rotation_matrix()\n",
    "R"
   ]
  },
  {
   "cell_type": "code",
   "execution_count": 80,
   "metadata": {},
   "outputs": [],
   "source": [
    "code = sp.python(R)"
   ]
  },
  {
   "cell_type": "code",
   "execution_count": 81,
   "metadata": {},
   "outputs": [
    {
     "name": "stdout",
     "output_type": "stream",
     "text": [
      "omega = Symbol('omega')\n",
      "phi = Symbol('phi')\n",
      "psi = Symbol('psi')\n",
      "e = ImmutableDenseMatrix([[sin(omega)*sin(phi)*sin(psi) + cos(omega)*cos(phi), sin(phi)*cos(psi), -sin(omega)*cos(phi) + sin(phi)*sin(psi)*cos(omega)], [sin(omega)*sin(psi)*cos(phi) - sin(phi)*cos(omega), cos(phi)*cos(psi), sin(omega)*sin(phi) + sin(psi)*cos(omega)*cos(phi)], [sin(omega)*cos(psi), -sin(psi), cos(omega)*cos(psi)]])\n"
     ]
    }
   ],
   "source": [
    "print(code)"
   ]
  },
  {
   "cell_type": "code",
   "execution_count": 82,
   "metadata": {},
   "outputs": [],
   "source": [
    "M_text = \"[[sin(omega)*sin(phi)*sin(psi) + cos(omega)*cos(phi), sin(phi)*cos(psi), -sin(omega)*cos(phi) + sin(phi)*sin(psi)*cos(omega)], [sin(omega)*sin(psi)*cos(phi) - sin(phi)*cos(omega), cos(phi)*cos(psi), sin(omega)*sin(phi) + sin(psi)*cos(omega)*cos(phi)], [sin(omega)*cos(psi), -sin(psi), cos(omega)*cos(psi)]]\""
   ]
  },
  {
   "cell_type": "code",
   "execution_count": 73,
   "metadata": {},
   "outputs": [
    {
     "name": "stdout",
     "output_type": "stream",
     "text": [
      "[[s_omega*s_phi*s_psi + c_omega*c_phi,\n",
      "s_phi*c_psi,\n",
      "-s_omega*c_phi + s_phi*s_psi*c_omega],\n",
      "[s_omega*s_psi*c_phi - s_phi*c_omega,\n",
      "c_phi*c_psi,\n",
      "s_omega*s_phi + s_psi*c_omega*c_phi],\n",
      "[s_omega*c_psi,\n",
      "-s_psi,\n",
      "c_omega*c_psi]]\n"
     ]
    }
   ],
   "source": [
    "M_text = M_text.replace('sin', 's_').replace('cos', 'c_')\n",
    "M_text = M_text.replace('(omega)', 'omega').replace('(phi)', 'phi').replace('(psi)', 'psi')\n",
    "M_text = M_text.replace(', ', ',\\n')\n",
    "print(M_text)"
   ]
  },
  {
   "cell_type": "code",
   "execution_count": 50,
   "metadata": {},
   "outputs": [
    {
     "name": "stdout",
     "output_type": "stream",
     "text": [
      "21.2 µs ± 531 ns per loop (mean ± std. dev. of 7 runs, 10000 loops each)\n"
     ]
    }
   ],
   "source": [
    "%%timeit\n",
    "omega, psi, phi = np.pi/2, 0, 0\n",
    "\n",
    "u = [np.sin(omega)*np.sin(phi)*np.sin(psi) + np.cos(omega)*np.cos(phi),\n",
    "     np.sin(omega)*np.sin(psi)*np.cos(phi) - np.sin(phi)*np.cos(omega),\n",
    "     np.sin(omega)*np.cos(psi)]\n",
    "     \n",
    "v = [ np.sin(phi)*np.cos(psi),\n",
    "      np.cos(phi)*np.cos(psi),\n",
    "     -np.sin(psi)]\n",
    "\n",
    "w = [-np.sin(omega)*np.cos(phi) + np.sin(phi)*np.sin(psi)*np.cos(omega),\n",
    "      np.sin(omega)*np.sin(phi) + np.sin(psi)*np.cos(omega)*np.cos(phi),\n",
    "      np.cos(omega)*np.cos(psi)]"
   ]
  },
  {
   "cell_type": "code",
   "execution_count": 85,
   "metadata": {},
   "outputs": [
    {
     "name": "stdout",
     "output_type": "stream",
     "text": [
      "10.8 µs ± 106 ns per loop (mean ± std. dev. of 7 runs, 100000 loops each)\n"
     ]
    }
   ],
   "source": [
    "%%timeit\n",
    "omega, psi, phi = np.pi/2, 0, 1.1\n",
    "\n",
    "s_omega, c_omega = np.sin(omega), np.cos(omega)\n",
    "s_psi, c_psi = np.sin(psi), np.cos(psi)\n",
    "s_phi, c_phi = np.sin(phi), np.cos(phi)\n",
    "\n",
    "u = np.array([s_omega*s_phi*s_psi + c_omega*c_phi,\n",
    "              s_omega*s_psi*c_phi - s_phi*c_omega,\n",
    "              s_omega*c_psi])\n",
    "     \n",
    "v = np.array([ s_phi*c_psi,\n",
    "               c_phi*c_psi,\n",
    "              -s_psi])\n",
    "\n",
    "w = np.array([-s_omega*c_phi + s_phi*s_psi*c_omega,\n",
    "               s_omega*s_phi + s_psi*c_omega*c_phi,\n",
    "               c_omega*c_psi])\n",
    "\n",
    "u, v, w = (np.asarray(a, dtype=np.float64) for a in (u, v, w))"
   ]
  },
  {
   "cell_type": "markdown",
   "metadata": {},
   "source": [
    "## Functions"
   ]
  },
  {
   "cell_type": "code",
   "execution_count": 280,
   "metadata": {},
   "outputs": [],
   "source": [
    "def rotation_matrix(omega, psi, phi):\n",
    "    '''Rotation matrix defined with Euler's angles\n",
    "        i.e. Body Rotation around axis 'YXZ'\n",
    "    '''\n",
    "    s_omega, c_omega = np.sin(omega), np.cos(omega)\n",
    "    s_psi, c_psi = np.sin(psi), np.cos(psi)\n",
    "    s_phi, c_phi = np.sin(phi), np.cos(phi)\n",
    "\n",
    "    R = np.array([[ s_omega*s_phi*s_psi + c_omega*c_phi,\n",
    "                    s_phi*c_psi,\n",
    "                   -s_omega*c_phi + s_phi*s_psi*c_omega],\n",
    "                  [ s_omega*s_psi*c_phi - s_phi*c_omega,\n",
    "                    c_phi*c_psi,\n",
    "                    s_omega*s_phi + s_psi*c_omega*c_phi],\n",
    "                  [ s_omega*c_psi,\n",
    "                   -s_psi,\n",
    "                    c_omega*c_psi]])\n",
    "    \n",
    "    return R"
   ]
  },
  {
   "cell_type": "code",
   "execution_count": 282,
   "metadata": {},
   "outputs": [
    {
     "data": {
      "text/plain": [
       "(array([[6.123234e-16, 0.000000e+00, 1.000000e+01]]),\n",
       " array([[-6.123234e-17,  0.000000e+00, -1.000000e+00]]))"
      ]
     },
     "execution_count": 282,
     "metadata": {},
     "output_type": "execute_result"
    }
   ],
   "source": [
    "def change_base(A, u, angles, offset):\n",
    "    omega, psi, phi = angles\n",
    "    offset = np.asarray(offset)\n",
    "\n",
    "    R = rotation_matrix(omega, psi, phi)\n",
    "\n",
    "    A_prime = np.matmul(A, R.T) - offset\n",
    "    u_prime = np.matmul(u, R.T)\n",
    "    \n",
    "    return A_prime, u_prime\n",
    "\n",
    "# test\n",
    "u = np.array([[-1, 0, 0], ])\n",
    "A = np.array([[10, 0, 0], ])\n",
    "\n",
    "change_base(A, u, (np.pi/2, 0, 0), (0, 0, 0))"
   ]
  },
  {
   "cell_type": "code",
   "execution_count": null,
   "metadata": {},
   "outputs": [],
   "source": []
  }
 ],
 "metadata": {
  "kernelspec": {
   "display_name": "py3 venv",
   "language": "python",
   "name": "py3"
  },
  "language_info": {
   "codemirror_mode": {
    "name": "ipython",
    "version": 3
   },
   "file_extension": ".py",
   "mimetype": "text/x-python",
   "name": "python",
   "nbconvert_exporter": "python",
   "pygments_lexer": "ipython3",
   "version": "3.6.8"
  }
 },
 "nbformat": 4,
 "nbformat_minor": 2
}
