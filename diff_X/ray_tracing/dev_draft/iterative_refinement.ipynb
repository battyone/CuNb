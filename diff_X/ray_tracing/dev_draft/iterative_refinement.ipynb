{
 "cells": [
  {
   "cell_type": "markdown",
   "metadata": {},
   "source": [
    "# iterative sampling refinement"
   ]
  },
  {
   "cell_type": "code",
   "execution_count": 1,
   "metadata": {},
   "outputs": [],
   "source": [
    "import numpy as np\n",
    "import matplotlib.pyplot as plt"
   ]
  },
  {
   "cell_type": "code",
   "execution_count": 26,
   "metadata": {},
   "outputs": [],
   "source": [
    "from scipy.interpolate import interp1d"
   ]
  },
  {
   "cell_type": "code",
   "execution_count": 125,
   "metadata": {},
   "outputs": [],
   "source": [
    "def refine(x_coarse, y_coarse, fun):\n",
    "\n",
    "    int_lin = interp1d(x_coarse, y_coarse, kind='linear')\n",
    "    int_quad = interp1d(x_coarse, y_coarse, kind='quadratic')\n",
    "\n",
    "    new_xy = []\n",
    "    for xL, xR, yL in zip(x_coarse[:-1], x_coarse[1:], y_coarse[:-1]):\n",
    "        new_xy.append( (xL, yL)  )\n",
    "        \n",
    "        x_middle = (xL+xR)/2\n",
    "\n",
    "        y_linear = int_lin(x_middle)\n",
    "        y_quad = int_quad(x_middle)\n",
    "\n",
    "        error = np.abs(y_quad-y_linear)/np.ptp(y_coarse)\n",
    "        if error > 0.0001:\n",
    "            #print(error, )\n",
    "            new_xy.append( (x_middle, fun(x_middle)) )\n",
    "            \n",
    "\n",
    "    new_xy.append( (x_coarse[-1], y_coarse[-1]) )\n",
    "\n",
    "    return zip(*new_xy)"
   ]
  },
  {
   "cell_type": "code",
   "execution_count": 126,
   "metadata": {},
   "outputs": [],
   "source": [
    "def gauss(x):\n",
    "    return np.exp(-(x-0.2)**2/0.05)"
   ]
  },
  {
   "cell_type": "code",
   "execution_count": 130,
   "metadata": {},
   "outputs": [
    {
     "data": {
      "image/png": "[encoded data removed]",
      "text/plain": [
       "<Figure size 432x288 with 1 Axes>"
      ]
     },
     "metadata": {
      "needs_background": "light"
     },
     "output_type": "display_data"
    }
   ],
   "source": [
    "x_fine = np.linspace(-5, 5, 881)\n",
    "y_fine = gauss(x_fine)\n",
    "\n",
    "x_coarse = np.linspace(-5, 5, 7)\n",
    "y_coarse = np.array([gauss(u) for u in x_coarse])\n",
    "\n",
    "xn, yn = refine(x_coarse, y_coarse, gauss)\n",
    "xn, yn = refine(xn, yn, gauss)\n",
    "xn, yn = refine(xn, yn, gauss)\n",
    "xn, yn = refine(xn, yn, gauss)\n",
    "\n",
    "plt.plot(x_fine, y_fine);\n",
    "plt.plot(xn, yn, 'o-');\n",
    "\n",
    "plt.plot(x_fine, interp1d(xn, yn, kind='quadratic')(x_fine), 'r');\n",
    "\n"
   ]
  },
  {
   "cell_type": "code",
   "execution_count": 131,
   "metadata": {},
   "outputs": [
    {
     "data": {
      "image/png": "[encoded data removed]",
      "text/plain": [
       "<Figure size 432x288 with 1 Axes>"
      ]
     },
     "metadata": {
      "needs_background": "light"
     },
     "output_type": "display_data"
    }
   ],
   "source": [
    "plt.plot(x_fine, y_fine-interp1d(xn, yn, kind='quadratic')(x_fine), 'r');"
   ]
  },
  {
   "cell_type": "code",
   "execution_count": null,
   "metadata": {},
   "outputs": [],
   "source": []
  }
 ],
 "metadata": {
  "kernelspec": {
   "display_name": "py3 venv",
   "language": "python",
   "name": "py3"
  },
  "language_info": {
   "codemirror_mode": {
    "name": "ipython",
    "version": 3
   },
   "file_extension": ".py",
   "mimetype": "text/x-python",
   "name": "python",
   "nbconvert_exporter": "python",
   "pygments_lexer": "ipython3",
   "version": "3.6.8"
  }
 },
 "nbformat": 4,
 "nbformat_minor": 2
}
