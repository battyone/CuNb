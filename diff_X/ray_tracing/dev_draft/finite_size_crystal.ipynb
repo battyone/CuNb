{
 "cells": [
  {
   "cell_type": "markdown",
   "metadata": {},
   "source": [
    "# Diffraction by a finite size crystal\n",
    "\n",
    "A. Guinier 1956 - page 28\n",
    "\n",
    "$$\n",
    "A(s) = \\int \\rho(x)\\exp(-2\\pi i s \\dot x) \\, dv_x\n",
    "$$\n",
    "where\n",
    "* $A(s)$ is the diffracted amplitude\n",
    "* $s = \\frac{S - S_0}{\\lambda}$ position in reciprocal space\n",
    "* $\\rho$ is the electron density"
   ]
  },
  {
   "cell_type": "markdown",
   "metadata": {},
   "source": [
    "Intensity:\n",
    "$$\n",
    "I(s) = A\\,A^\\star = \\sum_n  \\sum_{n'} f_n f_{n'} \\,exp\\left(-2\\pi i s \\dot (x_n - x_{n'})\\right)\n",
    "$$"
   ]
  },
  {
   "cell_type": "markdown",
   "metadata": {},
   "source": [
    "eq. 2.27, TF of the form function $\\sigma$:\n",
    "$$\n",
    "\\Sigma(s) = \\int \\sigma(x)\\, \\exp\\left(-2\\pi i \\, s\\cdot x\\right) dv_x \n",
    "$$"
   ]
  },
  {
   "cell_type": "code",
   "execution_count": 1,
   "metadata": {},
   "outputs": [],
   "source": [
    "import sympy as sp"
   ]
  },
  {
   "cell_type": "code",
   "execution_count": 27,
   "metadata": {},
   "outputs": [],
   "source": [
    "theta, rho, u, v, R = sp.symbols('theta, rho, u, v, R', real=True)"
   ]
  },
  {
   "cell_type": "code",
   "execution_count": 29,
   "metadata": {},
   "outputs": [
    {
     "data": {
      "text/latex": [
       "$\\displaystyle e^{- 2.0 i \\pi \\rho u \\cos{\\left(\\theta \\right)} + v \\sin{\\left(\\theta \\right)}}$"
      ],
      "text/plain": [
       "exp(-2.0*I*pi*rho*u*cos(theta) + v*sin(theta))"
      ]
     },
     "execution_count": 29,
     "metadata": {},
     "output_type": "execute_result"
    }
   ],
   "source": [
    "f = sp.exp(-2*sp.pi*1j*rho*(sp.cos(theta)*u) + sp.sin(theta)*v)\n",
    "f"
   ]
  },
  {
   "cell_type": "code",
   "execution_count": 33,
   "metadata": {},
   "outputs": [],
   "source": [
    "sigma = sp.integrate(f*rho, (rho, -R, R), (theta, 0, sp.pi))"
   ]
  },
  {
   "cell_type": "code",
   "execution_count": 34,
   "metadata": {},
   "outputs": [
    {
     "data": {
      "text/latex": [
       "$\\displaystyle \\begin{cases} 0 & \\text{for}\\: u = 0 \\\\- \\frac{0.5 \\left(\\int\\limits^{0} \\frac{0.5 e^{v \\sin{\\left(\\theta \\right)}} e^{- 2.0 i \\pi R u \\cos{\\left(\\theta \\right)}}}{\\cos^{2}{\\left(\\theta \\right)}}\\, d\\theta + \\int\\limits^{0} \\left(- \\frac{0.5 e^{v \\sin{\\left(\\theta \\right)}} e^{2.0 i \\pi R u \\cos{\\left(\\theta \\right)}}}{\\cos^{2}{\\left(\\theta \\right)}}\\right)\\, d\\theta + \\int\\limits^{0} \\frac{1.0 i \\pi R u e^{v \\sin{\\left(\\theta \\right)}} e^{- 2.0 i \\pi R u \\cos{\\left(\\theta \\right)}}}{\\cos{\\left(\\theta \\right)}}\\, d\\theta + \\int\\limits^{0} \\frac{1.0 i \\pi R u e^{v \\sin{\\left(\\theta \\right)}} e^{2.0 i \\pi R u \\cos{\\left(\\theta \\right)}}}{\\cos{\\left(\\theta \\right)}}\\, d\\theta\\right)}{\\pi^{2} u^{2}} + \\frac{0.5 \\left(\\int\\limits^{\\pi} \\frac{0.5 e^{v \\sin{\\left(\\theta \\right)}} e^{- 2.0 i \\pi R u \\cos{\\left(\\theta \\right)}}}{\\cos^{2}{\\left(\\theta \\right)}}\\, d\\theta + \\int\\limits^{\\pi} \\left(- \\frac{0.5 e^{v \\sin{\\left(\\theta \\right)}} e^{2.0 i \\pi R u \\cos{\\left(\\theta \\right)}}}{\\cos^{2}{\\left(\\theta \\right)}}\\right)\\, d\\theta + \\int\\limits^{\\pi} \\frac{1.0 i \\pi R u e^{v \\sin{\\left(\\theta \\right)}} e^{- 2.0 i \\pi R u \\cos{\\left(\\theta \\right)}}}{\\cos{\\left(\\theta \\right)}}\\, d\\theta + \\int\\limits^{\\pi} \\frac{1.0 i \\pi R u e^{v \\sin{\\left(\\theta \\right)}} e^{2.0 i \\pi R u \\cos{\\left(\\theta \\right)}}}{\\cos{\\left(\\theta \\right)}}\\, d\\theta\\right)}{\\pi^{2} u^{2}} & \\text{otherwise} \\end{cases}$"
      ],
      "text/plain": [
       "Piecewise((0, Eq(u, 0)), (-0.5*(Integral(0.5*exp(v*sin(theta))*exp(-2.0*I*pi*R*u*cos(theta))/cos(theta)**2, (theta, 0)) + Integral(-0.5*exp(v*sin(theta))*exp(2.0*I*pi*R*u*cos(theta))/cos(theta)**2, (theta, 0)) + Integral(1.0*I*pi*R*u*exp(v*sin(theta))*exp(-2.0*I*pi*R*u*cos(theta))/cos(theta), (theta, 0)) + Integral(1.0*I*pi*R*u*exp(v*sin(theta))*exp(2.0*I*pi*R*u*cos(theta))/cos(theta), (theta, 0)))/(pi**2*u**2) + 0.5*(Integral(0.5*exp(v*sin(theta))*exp(-2.0*I*pi*R*u*cos(theta))/cos(theta)**2, (theta, pi)) + Integral(-0.5*exp(v*sin(theta))*exp(2.0*I*pi*R*u*cos(theta))/cos(theta)**2, (theta, pi)) + Integral(1.0*I*pi*R*u*exp(v*sin(theta))*exp(-2.0*I*pi*R*u*cos(theta))/cos(theta), (theta, pi)) + Integral(1.0*I*pi*R*u*exp(v*sin(theta))*exp(2.0*I*pi*R*u*cos(theta))/cos(theta), (theta, pi)))/(pi**2*u**2), True))"
      ]
     },
     "execution_count": 34,
     "metadata": {},
     "output_type": "execute_result"
    }
   ],
   "source": [
    "sigma"
   ]
  },
  {
   "cell_type": "code",
   "execution_count": 35,
   "metadata": {},
   "outputs": [
    {
     "data": {
      "text/latex": [
       "$\\displaystyle \\begin{cases} 0 & \\text{for}\\: u = 0 \\\\\\frac{0.5 \\left(- \\int\\limits^{0} \\frac{0.5 e^{- 2.0 i \\pi R u \\cos{\\left(\\theta \\right)} + v \\sin{\\left(\\theta \\right)}}}{\\cos^{2}{\\left(\\theta \\right)}}\\, d\\theta + \\int\\limits^{\\pi} \\frac{0.5 e^{- 2.0 i \\pi R u \\cos{\\left(\\theta \\right)} + v \\sin{\\left(\\theta \\right)}}}{\\cos^{2}{\\left(\\theta \\right)}}\\, d\\theta - \\int\\limits^{0} \\left(- \\frac{0.5 e^{2.0 i \\pi R u \\cos{\\left(\\theta \\right)} + v \\sin{\\left(\\theta \\right)}}}{\\cos^{2}{\\left(\\theta \\right)}}\\right)\\, d\\theta + \\int\\limits^{\\pi} \\left(- \\frac{0.5 e^{2.0 i \\pi R u \\cos{\\left(\\theta \\right)} + v \\sin{\\left(\\theta \\right)}}}{\\cos^{2}{\\left(\\theta \\right)}}\\right)\\, d\\theta - \\int\\limits^{0} \\frac{1.0 i \\pi R u e^{- 2.0 i \\pi R u \\cos{\\left(\\theta \\right)} + v \\sin{\\left(\\theta \\right)}}}{\\cos{\\left(\\theta \\right)}}\\, d\\theta + \\int\\limits^{\\pi} \\frac{1.0 i \\pi R u e^{- 2.0 i \\pi R u \\cos{\\left(\\theta \\right)} + v \\sin{\\left(\\theta \\right)}}}{\\cos{\\left(\\theta \\right)}}\\, d\\theta - \\int\\limits^{0} \\frac{1.0 i \\pi R u e^{2.0 i \\pi R u \\cos{\\left(\\theta \\right)} + v \\sin{\\left(\\theta \\right)}}}{\\cos{\\left(\\theta \\right)}}\\, d\\theta + \\int\\limits^{\\pi} \\frac{1.0 i \\pi R u e^{2.0 i \\pi R u \\cos{\\left(\\theta \\right)} + v \\sin{\\left(\\theta \\right)}}}{\\cos{\\left(\\theta \\right)}}\\, d\\theta\\right)}{\\pi^{2} u^{2}} & \\text{otherwise} \\end{cases}$"
      ],
      "text/plain": [
       "Piecewise((0, Eq(u, 0)), (0.5*(-Integral(0.5*exp(-2.0*I*pi*R*u*cos(theta) + v*sin(theta))/cos(theta)**2, (theta, 0)) + Integral(0.5*exp(-2.0*I*pi*R*u*cos(theta) + v*sin(theta))/cos(theta)**2, (theta, pi)) - Integral(-0.5*exp(2.0*I*pi*R*u*cos(theta) + v*sin(theta))/cos(theta)**2, (theta, 0)) + Integral(-0.5*exp(2.0*I*pi*R*u*cos(theta) + v*sin(theta))/cos(theta)**2, (theta, pi)) - Integral(1.0*I*pi*R*u*exp(-2.0*I*pi*R*u*cos(theta) + v*sin(theta))/cos(theta), (theta, 0)) + Integral(1.0*I*pi*R*u*exp(-2.0*I*pi*R*u*cos(theta) + v*sin(theta))/cos(theta), (theta, pi)) - Integral(1.0*I*pi*R*u*exp(2.0*I*pi*R*u*cos(theta) + v*sin(theta))/cos(theta), (theta, 0)) + Integral(1.0*I*pi*R*u*exp(2.0*I*pi*R*u*cos(theta) + v*sin(theta))/cos(theta), (theta, pi)))/(pi**2*u**2), True))"
      ]
     },
     "execution_count": 35,
     "metadata": {},
     "output_type": "execute_result"
    }
   ],
   "source": [
    "sp.simplify(sigma)"
   ]
  },
  {
   "cell_type": "code",
   "execution_count": 36,
   "metadata": {},
   "outputs": [
    {
     "name": "stdout",
     "output_type": "stream",
     "text": [
      "# generated using pymatgen\n",
      "data_Al2O3\n",
      "_symmetry_space_group_name_H-M   'P 1'\n",
      "_cell_length_a   16.85338081\n",
      "_cell_length_b   5.65743858\n",
      "_cell_length_c   5.65743507\n",
      "_cell_angle_alpha   90.05237393\n",
      "_cell_angle_beta   60.44602956\n",
      "_cell_angle_gamma   59.14324996\n",
      "_symmetry_Int_Tables_number   1\n",
      "_chemical_formula_structural   Al2O3\n",
      "_chemical_formula_sum   'Al16 O24'\n",
      "_cell_volume   378.81991002\n",
      "_cell_formula_units_Z   8\n",
      "loop_\n",
      " _symmetry_equiv_pos_site_id\n",
      " _symmetry_equiv_pos_as_xyz\n",
      "  1  'x, y, z'\n",
      "loop_\n",
      " _atom_site_type_symbol\n",
      " _atom_site_label\n",
      " _atom_site_symmetry_multiplicity\n",
      " _atom_site_fract_x\n",
      " _atom_site_fract_y\n",
      " _atom_site_fract_z\n",
      " _atom_site_occupancy\n",
      "  Al  Al0  1  1.000000  0.001038  0.001038  1\n",
      "  Al  Al1  1  0.091924  0.344113  0.105901  1\n",
      "  Al  Al2  1  0.090082  0.347086  0.615872  1\n",
      "  Al  Al3  1  0.332075  0.018398  0.006219  1\n",
      "  Al  Al4  1  0.167925  0.731602  0.243781  1\n",
      "  Al  Al5  1  0.250000  0.375000  0.625000  1\n",
      "  Al  Al6  1  0.408076  0.405887  0.144099  1\n",
      "  Al  Al7  1  0.409918  0.402914  0.634128  1\n",
      "  Al  Al8  1  0.667925  0.002444  0.014623  1\n",
      "  Al  Al9  1  0.500000  0.748962  0.248962  1\n",
      "  Al  Al10  1  0.591924  0.368326  0.630114  1\n",
      "  Al  Al11  1  0.750000  0.375000  0.125000  1\n",
      "  Al  Al12  1  0.590082  0.863882  0.632668  1\n",
      "  Al  Al13  1  0.832075  0.747556  0.235377  1\n",
      "  Al  Al14  1  0.908076  0.381674  0.619886  1\n",
      "  Al  Al15  1  0.909918  0.886118  0.617332  1\n",
      "  O  O16  1  0.080882  0.136900  0.376212  1\n",
      "  O  O17  1  0.073458  0.160154  0.887258  1\n",
      "  O  O18  1  0.074921  0.610841  0.384922  1\n",
      "  O  O19  1  0.244844  0.151997  0.387992  1\n",
      "  O  O20  1  0.086395  0.600479  0.867593  1\n",
      "  O  O21  1  0.254581  0.597753  0.370779  1\n",
      "  O  O22  1  0.245419  0.152247  0.879221  1\n",
      "  O  O23  1  0.413605  0.149521  0.382407  1\n",
      "  O  O24  1  0.255156  0.598003  0.862008  1\n",
      "  O  O25  1  0.425079  0.139159  0.865078  1\n",
      "  O  O26  1  0.426542  0.589846  0.362742  1\n",
      "  O  O27  1  0.574921  0.140317  0.414397  1\n",
      "  O  O28  1  0.419118  0.613100  0.873788  1\n",
      "  O  O29  1  0.586395  0.623222  0.390335  1\n",
      "  O  O30  1  0.580882  0.131141  0.870453  1\n",
      "  O  O31  1  0.745419  0.134523  0.361496  1\n",
      "  O  O32  1  0.573458  0.642367  0.869470  1\n",
      "  O  O33  1  0.755157  0.122523  0.886527  1\n",
      "  O  O34  1  0.744843  0.627477  0.363473  1\n",
      "  O  O35  1  0.926542  0.107633  0.380530  1\n",
      "  O  O36  1  0.754581  0.615477  0.888504  1\n",
      "  O  O37  1  0.919118  0.618859  0.379547  1\n",
      "  O  O38  1  0.913605  0.126778  0.859665  1\n",
      "  O  O39  1  0.925079  0.609683  0.835603  1\n",
      "\n"
     ]
    }
   ],
   "source": [
    "print(\"# generated using pymatgen\\ndata_Al2O3\\n_symmetry_space_group_name_H-M   'P 1'\\n_cell_length_a   16.85338081\\n_cell_length_b   5.65743858\\n_cell_length_c   5.65743507\\n_cell_angle_alpha   90.05237393\\n_cell_angle_beta   60.44602956\\n_cell_angle_gamma   59.14324996\\n_symmetry_Int_Tables_number   1\\n_chemical_formula_structural   Al2O3\\n_chemical_formula_sum   'Al16 O24'\\n_cell_volume   378.81991002\\n_cell_formula_units_Z   8\\nloop_\\n _symmetry_equiv_pos_site_id\\n _symmetry_equiv_pos_as_xyz\\n  1  'x, y, z'\\nloop_\\n _atom_site_type_symbol\\n _atom_site_label\\n _atom_site_symmetry_multiplicity\\n _atom_site_fract_x\\n _atom_site_fract_y\\n _atom_site_fract_z\\n _atom_site_occupancy\\n  Al  Al0  1  1.000000  0.001038  0.001038  1\\n  Al  Al1  1  0.091924  0.344113  0.105901  1\\n  Al  Al2  1  0.090082  0.347086  0.615872  1\\n  Al  Al3  1  0.332075  0.018398  0.006219  1\\n  Al  Al4  1  0.167925  0.731602  0.243781  1\\n  Al  Al5  1  0.250000  0.375000  0.625000  1\\n  Al  Al6  1  0.408076  0.405887  0.144099  1\\n  Al  Al7  1  0.409918  0.402914  0.634128  1\\n  Al  Al8  1  0.667925  0.002444  0.014623  1\\n  Al  Al9  1  0.500000  0.748962  0.248962  1\\n  Al  Al10  1  0.591924  0.368326  0.630114  1\\n  Al  Al11  1  0.750000  0.375000  0.125000  1\\n  Al  Al12  1  0.590082  0.863882  0.632668  1\\n  Al  Al13  1  0.832075  0.747556  0.235377  1\\n  Al  Al14  1  0.908076  0.381674  0.619886  1\\n  Al  Al15  1  0.909918  0.886118  0.617332  1\\n  O  O16  1  0.080882  0.136900  0.376212  1\\n  O  O17  1  0.073458  0.160154  0.887258  1\\n  O  O18  1  0.074921  0.610841  0.384922  1\\n  O  O19  1  0.244844  0.151997  0.387992  1\\n  O  O20  1  0.086395  0.600479  0.867593  1\\n  O  O21  1  0.254581  0.597753  0.370779  1\\n  O  O22  1  0.245419  0.152247  0.879221  1\\n  O  O23  1  0.413605  0.149521  0.382407  1\\n  O  O24  1  0.255156  0.598003  0.862008  1\\n  O  O25  1  0.425079  0.139159  0.865078  1\\n  O  O26  1  0.426542  0.589846  0.362742  1\\n  O  O27  1  0.574921  0.140317  0.414397  1\\n  O  O28  1  0.419118  0.613100  0.873788  1\\n  O  O29  1  0.586395  0.623222  0.390335  1\\n  O  O30  1  0.580882  0.131141  0.870453  1\\n  O  O31  1  0.745419  0.134523  0.361496  1\\n  O  O32  1  0.573458  0.642367  0.869470  1\\n  O  O33  1  0.755157  0.122523  0.886527  1\\n  O  O34  1  0.744843  0.627477  0.363473  1\\n  O  O35  1  0.926542  0.107633  0.380530  1\\n  O  O36  1  0.754581  0.615477  0.888504  1\\n  O  O37  1  0.919118  0.618859  0.379547  1\\n  O  O38  1  0.913605  0.126778  0.859665  1\\n  O  O39  1  0.925079  0.609683  0.835603  1\\n\")"
   ]
  },
  {
   "cell_type": "markdown",
   "metadata": {},
   "source": [
    "https://fr.wikipedia.org/wiki/Distance_interr%C3%A9ticulaire\n",
    "\n",
    "https://webmail.im2np.fr/service/home/~/?auth=co&loc=fr&id=1060&part=2\n",
    "\n",
    "http://www-int.impmc.upmc.fr/public/Enseignement/ye/cristallographie/calcul/29.html\n",
    "\n",
    "https://hal.univ-lorraine.fr/hal-01712043/document\n",
    "\n",
    "https://www.ias.ac.in/article/fulltext/seca/064/05/0261-0274"
   ]
  },
  {
   "cell_type": "code",
   "execution_count": null,
   "metadata": {},
   "outputs": [],
   "source": []
  }
 ],
 "metadata": {
  "kernelspec": {
   "display_name": "py3 venv",
   "language": "python",
   "name": "py3"
  },
  "language_info": {
   "codemirror_mode": {
    "name": "ipython",
    "version": 3
   },
   "file_extension": ".py",
   "mimetype": "text/x-python",
   "name": "python",
   "nbconvert_exporter": "python",
   "pygments_lexer": "ipython3",
   "version": "3.6.8"
  }
 },
 "nbformat": 4,
 "nbformat_minor": 2
}
