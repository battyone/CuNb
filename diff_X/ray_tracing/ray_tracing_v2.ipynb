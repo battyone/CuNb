{
 "cells": [
  {
   "cell_type": "code",
   "execution_count": 1,
   "metadata": {},
   "outputs": [],
   "source": [
    "import matplotlib.pylab as plt\n",
    "import numpy as np"
   ]
  },
  {
   "cell_type": "markdown",
   "metadata": {},
   "source": [
    "# Ray tracing Vectorized\n",
    "\n",
    "Notation for the points:  \n",
    "* $A$: beam origin\n",
    "* $B$: beam intersection with sample plane\n",
    "* $C$: diffracted beam intersection with detector plane\n",
    "* $D$: incident beam intersection with detector plane (direct beam)\n"
   ]
  },
  {
   "cell_type": "code",
   "execution_count": 2,
   "metadata": {},
   "outputs": [],
   "source": [
    "def normalize(array_of_vector):\n",
    "    '''Return an array of normed vector.\n",
    "    \n",
    "       (vector along the last dim)\n",
    "       i.e. a (nbre_vector, n_dim) array'''\n",
    "    array_of_vector = np.asarray(array_of_vector)\n",
    "    norm = np.linalg.norm(array_of_vector, axis=-1, keepdims=True)\n",
    "    return  np.divide(array_of_vector, norm, where=norm>0)\n",
    "\n",
    "# test\n",
    "assert np.allclose(normalize(np.array((2, 0, 0))),\n",
    "                   np.array((1, 0, 0)))\n",
    "assert np.allclose(normalize(np.array([(0, 2, 0), (0, -3, 0), (0, 0, 0), (-1, 0, 0)])),\n",
    "                   np.array([(0, 1, 0), (0, -1, 0), (0, 0, 0), (-1, 0, 0)]))"
   ]
  },
  {
   "cell_type": "code",
   "execution_count": 3,
   "metadata": {},
   "outputs": [],
   "source": [
    "def plane_intersection(A, u, plane_center, plane_normal):\n",
    "    '''Intersection point of incident rays with a plane.\n",
    "    \n",
    "    returns naN if no intersection (i.e. when opposite direction or parallel)\n",
    "    \n",
    "    Parameters\n",
    "    ----------\n",
    "    A : (N, dim) ndarray\n",
    "        starting points of the incident rays\n",
    "    u : (N, dim) ndarray\n",
    "        directions of the incident rays\n",
    "    plane_center : (dim, ) vector\n",
    "        position of the intersection plane\n",
    "    plane_normal : (dim, ) vector\n",
    "        normal of the intersection plane\n",
    "        \n",
    "    Returns\n",
    "    -------\n",
    "    B : (N, dim) ndarray\n",
    "        points of intersection for each rays\n",
    "    \n",
    "    '''\n",
    "    # Intersection of incident beams with sample plane:\n",
    "    A = np.asarray(A, dtype=np.float64)\n",
    "    u = np.asarray(u, dtype=np.float64)\n",
    "\n",
    "    AP_dot_n = np.inner((A - plane_center), plane_normal)\n",
    "    u_dot_n = np.inner(u, plane_normal)\n",
    "\n",
    "    t = - np.divide(AP_dot_n, u_dot_n,\n",
    "                    where=np.logical_not(np.isclose(u_dot_n, 0)))\n",
    "    t[t<0] = np.NaN\n",
    "    B = A + u*t[:, np.newaxis]\n",
    "    return B\n",
    "\n",
    "# test\n",
    "A = np.array([(1, 0, 0), (2, 1, 0), (1, 0, 1), (1, 0, 0),\n",
    "              (-1, 0, 0), (-1, 0, 0), (2, 0, 1), (2, 2, -2)])\n",
    "u = np.array([(-1, 0, 0), (-1, 0, 0), (-1, 0, 0), (-1, 0, -1),\n",
    "              (-1, 0, 0), (1, 0, 1), (1, 0, 0), (1, 0, 0)])\n",
    "\n",
    "plane_center = np.array((0, 0, 0))\n",
    "plane_normal = np.array((1, 0, 1))\n",
    "\n",
    "assert np.allclose(plane_intersection(A, u, plane_center, plane_normal),\n",
    "                   np.array([[ 0. ,  0. ,  0. ],\n",
    "                           [ 0. ,  1. ,  0. ],\n",
    "                           [-1. ,  0. ,  1. ],\n",
    "                           [ 0.5,  0. , -0.5],\n",
    "                           [ np.nan,  np.nan,  np.nan],\n",
    "                           [-0.5,  0. ,  0.5],\n",
    "                           [ np.nan,  np.nan,  np.nan],\n",
    "                           [ 2. ,  2. , -2. ]]), equal_nan=True)"
   ]
  },
  {
   "cell_type": "code",
   "execution_count": 72,
   "metadata": {},
   "outputs": [],
   "source": [
    "def projection_detector_plane(A, u, detector_position, detector_normal, detector_vertical):\n",
    "    \"\"\"Projection on a plane, returns coordinates in local in-plane base \"\"\"\n",
    "    detector_vertical = normalize(detector_vertical)\n",
    "    detector_normal = normalize(detector_normal)\n",
    "\n",
    "    detector_horizontal = np.cross(detector_normal, detector_vertical)\n",
    "\n",
    "    P = plane_intersection(A, u, detector_position, detector_normal)\n",
    "\n",
    "    P_prime = P - detector_position\n",
    "    detector_v = np.dot(P_prime, detector_vertical)\n",
    "    detector_u = np.dot(P_prime, detector_horizontal)\n",
    "    \n",
    "    return detector_u, detector_v"
   ]
  },
  {
   "cell_type": "code",
   "execution_count": 81,
   "metadata": {},
   "outputs": [
    {
     "data": {
      "text/plain": [
       "(8, 3)"
      ]
     },
     "execution_count": 81,
     "metadata": {},
     "output_type": "execute_result"
    }
   ],
   "source": [
    "def diffracted_cone(u,\n",
    "                    alpha,\n",
    "                    gamma_span,\n",
    "                    gamma_zero_direction = np.array((0, 0, 1)),\n",
    "                    reshape=True):\n",
    "    ''' Returns diffracted directions by a powder (cone)\n",
    "        \n",
    "        vertical_axis define the gamma=pi/2 '?'\n",
    "        \n",
    "        Parameters\n",
    "        ----------\n",
    "        u : \n",
    "        \n",
    "        alpha : float, radian\n",
    "            demi angle of the cone\n",
    "        gamma_span : array, radian\n",
    "            angle at which new rays are diffracted\n",
    "        gamma_zero_direction : vector\n",
    "            direction along which gamma=0\n",
    "            toward gamma>0\n",
    "        reshape : boolean\n",
    "            if True return a (N * len(gamma_span), dim) array\n",
    "            else a (N, len(gamma_span), dim) array\n",
    "            \n",
    "        Returns\n",
    "        -------\n",
    "        d : array (N * len(gamma_span), dim)\n",
    "            diffracted direction \n",
    "    '''\n",
    "    gamma_span = np.asarray(gamma_span)\n",
    "\n",
    "    # Define a new base\n",
    "    u = normalize( u )\n",
    "    w = normalize( np.cross(u, gamma_zero_direction) )\n",
    "    v = np.cross(w, u)\n",
    "    \n",
    "    cos_gamma = np.cos(gamma_span)\n",
    "    sin_gamma = np.sin(gamma_span) \n",
    "    rho = np.tan(alpha)\n",
    "    \n",
    "    # diffracted directions:\n",
    "    d = u[:, :, np.newaxis] + \\\n",
    "        v[:, :, np.newaxis]*rho * cos_gamma + \\\n",
    "        w[:, :, np.newaxis]*rho * sin_gamma\n",
    "    \n",
    "    d = d.swapaxes(1, 2)  # coordonitates along the last dimension\n",
    "    \n",
    "    if reshape:\n",
    "        d = d.reshape(-1, 3, order='C')\n",
    "    #  ‘C’ means to read / write the elements ... with the last axis index changing fastest, \n",
    "    \n",
    "    return d\n",
    "\n",
    "# test\n",
    "u = np.array(((1, 0, 0), (-10, 0, 0)))\n",
    "\n",
    "d = diffracted_cone(u, np.pi/4, (0, np.pi/2, -np.pi/2, np.pi/3), reshape=True)\n",
    "d.shape"
   ]
  },
  {
   "cell_type": "code",
   "execution_count": 185,
   "metadata": {},
   "outputs": [],
   "source": [
    "def source(N, beam_shape, beam_divergence):\n",
    "    Ax = np.ones((N, 1)) * rayon_gonio\n",
    "    Ay = (np.random.randn(N, 1)) * beam_shape[1]  # Gaussian\n",
    "    Az = (np.random.rand(N, 1)-0.5) * beam_shape[0] # mm, Square\n",
    "\n",
    "    u_incident_x = -np.ones((N, 1))\n",
    "    u_incident_y = np.random.randn(N, 1) * beam_divergence[1]  # divergence\n",
    "    u_incident_z = np.random.randn(N, 1) * beam_divergence[0]\n",
    "\n",
    "    A = np.hstack([Ax, Ay, Az])\n",
    "    u = normalize( np.hstack([u_incident_x, u_incident_y, u_incident_z]) )\n",
    "    \n",
    "    return A, u"
   ]
  },
  {
   "cell_type": "code",
   "execution_count": 186,
   "metadata": {},
   "outputs": [],
   "source": [
    "# Powder diff\n",
    "def powder_diffraction(A, u, deuxtheta, omega,\n",
    "                       nbr_gamma_rays, gamma_range):\n",
    "    \n",
    "    sample_position  = normalize((0, 0, 0))\n",
    "    sample_normal = normalize((+np.sin(omega), 0, +np.cos(omega)))\n",
    "\n",
    "    # Intersection of incident beam with sample plane:\n",
    "    B = plane_intersection(A, u, sample_position, sample_normal)\n",
    "    \n",
    "    \n",
    "    gamma_offset = 0\n",
    "    gamma_span = np.linspace(gamma_offset - gamma_range,\n",
    "                             gamma_offset + gamma_range,\n",
    "                             nbr_gamma_rays)  # bug... no Gamma=0... \n",
    "\n",
    "    d = diffracted_cone(u, deuxtheta,\n",
    "                        gamma_span, reshape=True)\n",
    "\n",
    "    # Broadcast B to the shape of d\n",
    "    B_prime = np.repeat(B[:, :, np.newaxis], nbr_gamma_rays, 2)\n",
    "\n",
    "    B_prime = B_prime.swapaxes(1, 2)  # coordonitates along the last dimension\n",
    "    B_prime = B_prime.reshape(-1, 3, order='C')\n",
    "    \n",
    "    return B_prime, d"
   ]
  },
  {
   "cell_type": "code",
   "execution_count": 187,
   "metadata": {},
   "outputs": [],
   "source": [
    "# inputs\n",
    "rayon_gonio = 320 # mm\n",
    "# Incident beam\n",
    "N = 200\n",
    "beam_shape = (0.5, 10)  # mm, (width, height)\n",
    "beam_divergence = (0, 0)\n",
    "\n",
    "A, u = source(N, beam_shape, beam_divergence)"
   ]
  },
  {
   "cell_type": "code",
   "execution_count": 188,
   "metadata": {},
   "outputs": [
    {
     "data": {
      "image/png": "[encoded data removed]",
      "text/plain": [
       "<Figure size 432x288 with 1 Axes>"
      ]
     },
     "metadata": {
      "needs_background": "light"
     },
     "output_type": "display_data"
    }
   ],
   "source": [
    "# pseudo detector plane\n",
    "detector_normal = np.array((1, 0, 0))\n",
    "detector_vertical = np.array((0, 1, 0))\n",
    "detector_position = np.array((0, 0, 0))\n",
    "\n",
    "detector_u, detector_v = projection_detector_plane(A, u,\n",
    "                                                   detector_position,\n",
    "                                                   detector_normal,\n",
    "                                                   detector_vertical)\n",
    "\n",
    "# Graph\n",
    "plt.plot(detector_u, detector_v, '.', alpha=0.2);\n",
    "plt.axis('equal'); plt.title('normal to the beam');"
   ]
  },
  {
   "cell_type": "code",
   "execution_count": 190,
   "metadata": {},
   "outputs": [],
   "source": [
    "# Diff by the powder\n",
    "deuxtheta = np.pi/3\n",
    "omega = deuxtheta/2\n",
    "nbr_gamma_rays = 15\n",
    "gamma_range = 5 *np.pi/180 # rad\n",
    "\n",
    "B, d = powder_diffraction(A, u, deuxtheta, omega,\n",
    "                       nbr_gamma_rays, gamma_range)"
   ]
  },
  {
   "cell_type": "code",
   "execution_count": 191,
   "metadata": {},
   "outputs": [
    {
     "data": {
      "image/png": "[encoded data removed]",
      "text/plain": [
       "<Figure size 432x1296 with 1 Axes>"
      ]
     },
     "metadata": {
      "needs_background": "light"
     },
     "output_type": "display_data"
    }
   ],
   "source": [
    "# detector plane\n",
    "\n",
    "detector_position  = np.array((-rayon_gonio*np.cos(deuxtheta),\n",
    "                              0,\n",
    "                              +rayon_gonio*np.sin(deuxtheta)))\n",
    "detector_normal = normalize(np.array((+np.cos(deuxtheta),\n",
    "                                  0,\n",
    "                                  -np.sin(deuxtheta))))\n",
    "\n",
    "detector_vertical = normalize(np.array((0, 1, 0)))\n",
    "\n",
    "detector_u, detector_v = projection_detector_plane(B, d,\n",
    "                                                   detector_position,\n",
    "                                                   detector_normal,\n",
    "                                                   detector_vertical)\n",
    "\n",
    "\n",
    "# Graph\n",
    "plt.figure(figsize=(6,18))\n",
    "plt.plot(detector_u, detector_v, '.', alpha=0.2);\n",
    "plt.axis('equal'); plt.title('normal to the beam');"
   ]
  },
  {
   "cell_type": "markdown",
   "metadata": {},
   "source": [
    "## Old"
   ]
  },
  {
   "cell_type": "code",
   "execution_count": 45,
   "metadata": {},
   "outputs": [],
   "source": [
    "def trace(deuxtheta, theta_bragg):\n",
    "    '''Powder diffraction ray tracing\n",
    "    \n",
    "    \n",
    "    '''\n",
    "    # Define detector\n",
    "    detector_position  = np.array((-rayon_gonio*np.cos(deuxtheta),\n",
    "                                  0,\n",
    "                                  +rayon_gonio*np.sin(deuxtheta)))\n",
    "    detector_normal = normed(np.array((+np.cos(deuxtheta),\n",
    "                                      0,\n",
    "                                      -np.sin(deuxtheta))))\n",
    "    detector_vertical = normed(np.array((0, 1, 0)))\n",
    "    detector_horizontal = np.cross(detector_normal, detector_vertical)\n",
    "\n",
    "    # Define sample\n",
    "    omega = deuxtheta/2\n",
    "    sample_position  = normed((0, 0, 0))\n",
    "    sample_normal = normed((+np.sin(omega), 0, +np.cos(omega)))\n",
    "\n",
    "    # Intersection of incident beam with sample plane:\n",
    "    B = plane_intersection(A, u_incident, sample_position, sample_normal)\n",
    "\n",
    "    \n",
    "    # Diffracted cone:\n",
    "\n",
    "    # detector base vector - relative to the cone axis\n",
    "    v_plane = np.cross(detector_normal, u_incident) # vertical\n",
    "    norm_v = np.linalg.norm(v_plane, axis=-1, keepdims=False)\n",
    "    v_plane[np.isclose(norm_v, 0)] = detector_vertical\n",
    "    v_plane = normed(v_plane)\n",
    "\n",
    "    u_plane = np.cross(detector_normal, v_plane)\n",
    "\n",
    "    # faisceau direct dans le plan du detecteur\n",
    "    D = plane_intersection(A, u_incident,\n",
    "                           detector_position,\n",
    "                           detector_normal)\n",
    "\n",
    "    # Inclinaison angle\n",
    "    cos_beta = np.abs(np.dot(u_incident, detector_normal))[:, np.newaxis]\n",
    "    sin_beta = np.linalg.norm( np.cross(u_incident, detector_normal),\n",
    "                              axis=-1 )[:, np.newaxis]\n",
    "\n",
    "    nbr_gamma_rays = 55  # nrb of diffracted rays for each incident ray\n",
    "    gamma_range = 5 *np.pi/180 # rad\n",
    "    gamma_offset = 0\n",
    "    gamma = np.linspace(-gamma_range+gamma_offset,\n",
    "                        +gamma_range+gamma_offset, nbr_gamma_rays)  # no Gamma=0... \n",
    "    cos_Gamma = np.cos(gamma)\n",
    "    sin_Gamma = np.sin(gamma)\n",
    "    tan_alpha = np.tan( 2*theta_bragg )#20*np.pi/180 )  # tan theta\n",
    "\n",
    "    \n",
    "    # Distance du plan par rapport au sommet du cone, sur  l'axe du cone\n",
    "    z0 = np.linalg.norm(D - B, axis=-1, keepdims=True)\n",
    "\n",
    "    racine = np.sqrt(cos_beta**2 * cos_Gamma**2 + sin_Gamma**2)\n",
    "    up = tan_alpha*sin_beta*cos_Gamma - racine\n",
    "    below = -tan_alpha**2 * sin_beta**2 * cos_Gamma**2 + sin_Gamma**2 + cos_Gamma**2*cos_beta**2\n",
    "    rho = -np.divide(tan_alpha * z0 * up, below, where=np.abs(below)>0)  # not true for gamma=0\n",
    "\n",
    "    # Diffracted point on the detecteur plane,\n",
    "    # using absolute coordiantes\n",
    "    C_from_axis = (rho*cos_Gamma)[:, :, np.newaxis] * u_plane[:, np.newaxis, :] \\\n",
    "                 +(rho*sin_Gamma)[:, :, np.newaxis] * v_plane[:, np.newaxis, :]\n",
    "\n",
    "    C = C_from_axis + D[:, np.newaxis, :]\n",
    "    #C = C.reshape((-1, 3))\n",
    "\n",
    "    # Get diffracted ray angle in the XZ plane (true deux-theta)\n",
    "    u_diff = normed( (C - B[:, np.newaxis, :]).reshape((-1, 3)) ) # Direction of the diffracted beams\n",
    "    u_diff_XZ = np.multiply(u_diff, np.array((1, 0, 1))) # projection on the XZ plane\n",
    "    delta_deuxtheta_diffracted = np.arctan2(u_diff[:, 2], -u_diff[:, 0]) - deuxtheta\n",
    "\n",
    "    # Projection back in the detecteur plane\n",
    "    uy_direct_beam = np.dot(D, detector_vertical)\n",
    "    uz_direct_beam = np.dot(D, detector_horizontal)\n",
    "\n",
    "    uz = np.dot(C , detector_horizontal)\n",
    "    uy = np.dot(C , detector_vertical)\n",
    "\n",
    "    # Detector transmitance (clip)\n",
    "    detector_height = 30 # mm\n",
    "    acceptance_deg = 1/4 # degree\n",
    "    detector_width = acceptance_deg *np.pi/180 * rayon_gonio\n",
    "\n",
    "    vertical_clip = np.logical_and(uy < detector_height/2, uy > -detector_height/2)\n",
    "    horizontal_clip = np.logical_and(uz < detector_width/2, uz > -detector_width/2)\n",
    "    # Acceptance clip (on delta_deuxtheta)\n",
    "\n",
    "    total_clip = np.logical_and(vertical_clip, horizontal_clip)\n",
    "\n",
    "    N = total_clip.sum()\n",
    "\n",
    "    return N"
   ]
  },
  {
   "cell_type": "code",
   "execution_count": 58,
   "metadata": {},
   "outputs": [
    {
     "data": {
      "image/png": "[encoded data removed]",
      "text/plain": [
       "<Figure size 432x288 with 1 Axes>"
      ]
     },
     "metadata": {
      "needs_background": "light"
     },
     "output_type": "display_data"
    }
   ],
   "source": [
    "theta_bragg = 10 *np.pi/180\n",
    "\n",
    "angle_range = 0.8 # deg\n",
    "deuxtheta_span = 2*theta_bragg + np.linspace(-angle_range/2, +angle_range/2, 43)*np.pi/180\n",
    "\n",
    "I = [trace(deuxtheta, theta_bragg) for deuxtheta in deuxtheta_span]\n",
    "\n",
    "plt.plot((deuxtheta_span-2*theta_bragg) *180/np.pi, I);\n",
    "plt.xlabel('deux theta (deg)'); plt.ylabel('I');\n",
    "\n",
    "\n",
    "theta_bragg = 15 *np.pi/180\n",
    "\n",
    "angle_range = 0.8 # deg\n",
    "deuxtheta_span = 2*theta_bragg + np.linspace(-angle_range/2, +angle_range/2, 43)*np.pi/180\n",
    "\n",
    "I = [trace(deuxtheta, theta_bragg) for deuxtheta in deuxtheta_span]\n",
    "\n",
    "plt.plot((deuxtheta_span-2*theta_bragg) *180/np.pi, I);\n",
    "plt.xlabel('deux theta (deg)'); plt.ylabel('I');\n",
    "\n",
    "\n",
    "\n",
    "theta_bragg = 30 *np.pi/180\n",
    "\n",
    "angle_range = 0.8 # deg\n",
    "deuxtheta_span = 2*theta_bragg + np.linspace(-angle_range/2, +angle_range/2, 43)*np.pi/180\n",
    "\n",
    "I = [trace(deuxtheta, theta_bragg) for deuxtheta in deuxtheta_span]\n",
    "\n",
    "plt.plot((deuxtheta_span-2*theta_bragg) *180/np.pi, I);\n",
    "plt.xlabel('deux theta (deg)'); plt.ylabel('I');"
   ]
  },
  {
   "cell_type": "code",
   "execution_count": null,
   "metadata": {},
   "outputs": [],
   "source": [
    "\n",
    "\n",
    "#plt.plot(A[:, 2], A[:, 1], 's')\n",
    "#plt.plot(D[:, 2], D[:, 1], 'x')\n",
    "plt.figure(figsize=(5, 10))\n",
    "plt.plot(uz/rayon_gonio *180/np.pi, uy, ',');\n",
    "#plt.plot(uz_direct_beam, uy_direct_beam, 'x', alpha=0.5);\n",
    "#plt.axis('equal');\n",
    "plt.title('detector plane -deuxTheta=%.2f°' % (180/np.pi*deuxtheta))\n",
    "plt.xlabel('z _dect (deg)'); plt.ylabel('y (mm)');"
   ]
  },
  {
   "cell_type": "code",
   "execution_count": null,
   "metadata": {},
   "outputs": [],
   "source": []
  },
  {
   "cell_type": "code",
   "execution_count": null,
   "metadata": {},
   "outputs": [],
   "source": [
    "plt.figure(figsize=(5, 10))\n",
    "plt.plot(uz[total_clip]/rayon_gonio *180/np.pi, uy[total_clip], ',');\n",
    "#plt.plot(uz_direct_beam, uy_direct_beam, 'x', alpha=0.5);\n",
    "#plt.axis('equal');\n",
    "plt.title('detector plane -deuxTheta=%.2f°' % (180/np.pi*deuxtheta))\n",
    "plt.xlabel('z _dect (deg)'); plt.ylabel('y (mm)');"
   ]
  },
  {
   "cell_type": "markdown",
   "metadata": {},
   "source": [
    "### Improvements:\n",
    "* equation for cone intersection with cylinder, instead of plane\n"
   ]
  },
  {
   "cell_type": "code",
   "execution_count": null,
   "metadata": {},
   "outputs": [],
   "source": []
  },
  {
   "cell_type": "code",
   "execution_count": null,
   "metadata": {},
   "outputs": [],
   "source": []
  }
 ],
 "metadata": {
  "kernelspec": {
   "display_name": "py3 venv",
   "language": "python",
   "name": "py3"
  },
  "language_info": {
   "codemirror_mode": {
    "name": "ipython",
    "version": 3
   },
   "file_extension": ".py",
   "mimetype": "text/x-python",
   "name": "python",
   "nbconvert_exporter": "python",
   "pygments_lexer": "ipython3",
   "version": "3.6.7"
  }
 },
 "nbformat": 4,
 "nbformat_minor": 2
}
