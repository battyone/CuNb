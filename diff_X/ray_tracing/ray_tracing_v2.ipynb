{
 "cells": [
  {
   "cell_type": "code",
   "execution_count": 2,
   "metadata": {},
   "outputs": [],
   "source": [
    "import matplotlib.pylab as plt\n",
    "import numpy as np"
   ]
  },
  {
   "cell_type": "code",
   "execution_count": 7,
   "metadata": {},
   "outputs": [],
   "source": [
    "import raytracing as rt"
   ]
  },
  {
   "cell_type": "code",
   "execution_count": 11,
   "metadata": {},
   "outputs": [
    {
     "name": "stdout",
     "output_type": "stream",
     "text": [
      "The autoreload extension is already loaded. To reload it, use:\n",
      "  %reload_ext autoreload\n"
     ]
    }
   ],
   "source": [
    "%load_ext autoreload\n",
    "%autoreload 2"
   ]
  },
  {
   "cell_type": "markdown",
   "metadata": {},
   "source": [
    "# Ray tracing Vectorized\n",
    "\n",
    "Notation for the points:  \n",
    "* $A$: beam origin\n",
    "* $B$: beam intersection with sample plane\n",
    "* $C$: diffracted beam intersection with detector plane\n",
    "* $D$: incident beam intersection with detector plane (direct beam)\n"
   ]
  },
  {
   "cell_type": "code",
   "execution_count": 58,
   "metadata": {},
   "outputs": [],
   "source": [
    "from scipy.stats import gaussian_kde"
   ]
  },
  {
   "cell_type": "code",
   "execution_count": 78,
   "metadata": {},
   "outputs": [],
   "source": [
    "# inputs\n",
    "rayon_gonio = 320 # mm\n",
    "# Incident beam\n",
    "N = 200\n",
    "beam_shape = (0.5, 10)  # mm, (width, height)\n",
    "beam_divergence = (0, 0)\n",
    "\n",
    "A, u = rt.source(N, beam_shape, beam_divergence, rayon_gonio)"
   ]
  },
  {
   "cell_type": "code",
   "execution_count": 82,
   "metadata": {},
   "outputs": [],
   "source": [
    "# Diff by the powder\n",
    "deuxtheta = 53 *np.pi/180\n",
    "omega = deuxtheta/2\n",
    "nbr_gamma_rays = 155\n",
    "gamma_range = 5 *np.pi/180 # rad\n",
    "\n",
    "gamma_span = np.linspace(-gamma_range, +gamma_range, nbr_gamma_rays)\n",
    "\n",
    "B, d = rt.planar_powder_diffraction(A, u, deuxtheta, omega, gamma_span)"
   ]
  },
  {
   "cell_type": "code",
   "execution_count": 83,
   "metadata": {},
   "outputs": [
    {
     "data": {
      "image/png": "[encoded data removed]",
      "text/plain": [
       "<Figure size 576x216 with 1 Axes>"
      ]
     },
     "metadata": {
      "needs_background": "light"
     },
     "output_type": "display_data"
    }
   ],
   "source": [
    "# detector plane\n",
    "#deuxtheta = 0.9*deuxtheta\n",
    "detector_position  = np.array((-rayon_gonio*np.cos(deuxtheta),\n",
    "                              0,\n",
    "                              +rayon_gonio*np.sin(deuxtheta)))\n",
    "detector_normal = rt.normalize(np.array((+np.cos(deuxtheta),\n",
    "                                  0,\n",
    "                                  -np.sin(deuxtheta))))\n",
    "\n",
    "detector_vertical = rt.normalize(np.array((0, 1, 0)))\n",
    "\n",
    "detector_u, detector_v = rt.projection_detector_plane(B, d,\n",
    "                                                   detector_position,\n",
    "                                                   detector_normal,\n",
    "                                                   detector_vertical)\n",
    "\n",
    "detector_height = 20 # mm\n",
    "\n",
    "\n",
    "mask = np.logical_and(detector_v<+detector_height/2,\n",
    "                      detector_v>-detector_height/2)\n",
    "\n",
    "# proj along 2theta\n",
    "detected_2theta_deg = detector_u[mask]# / rayon_gonio *180/np.pi\n",
    "detected_kde = gaussian_kde( detected_2theta_deg )\n",
    "\n",
    "\n",
    "deux_theta_graph = np.linspace(1.5*np.min(detected_2theta_deg),\n",
    "                               2.5*np.max(detected_2theta_deg), 121)\n",
    "plt.figure(figsize=(8,3))\n",
    "plt.plot(deux_theta_graph, detected_kde(deux_theta_graph));\n",
    "\n",
    "# Graph\n",
    "#plt.figure(figsize=(3,9))\n",
    "#plt.plot(detector_u[mask], detector_v[mask], '.', alpha=0.2);\n",
    "#plt.axis('equal'); plt.title('normal to the beam');\n"
   ]
  },
  {
   "cell_type": "code",
   "execution_count": 60,
   "metadata": {},
   "outputs": [
    {
     "data": {
      "text/plain": [
       "0.03125"
      ]
     },
     "execution_count": 60,
     "metadata": {},
     "output_type": "execute_result"
    }
   ],
   "source": [
    "detector_height/2 / rayon_gonio"
   ]
  },
  {
   "cell_type": "code",
   "execution_count": 86,
   "metadata": {},
   "outputs": [
    {
     "data": {
      "text/plain": [
       "1.3962634015954636"
      ]
     },
     "execution_count": 86,
     "metadata": {},
     "output_type": "execute_result"
    }
   ],
   "source": [
    "1/4 *np.pi/180 * rayon_gonio"
   ]
  },
  {
   "cell_type": "code",
   "execution_count": null,
   "metadata": {},
   "outputs": [],
   "source": []
  },
  {
   "cell_type": "code",
   "execution_count": null,
   "metadata": {},
   "outputs": [],
   "source": []
  }
 ],
 "metadata": {
  "kernelspec": {
   "display_name": "py3 venv",
   "language": "python",
   "name": "py3"
  },
  "language_info": {
   "codemirror_mode": {
    "name": "ipython",
    "version": 3
   },
   "file_extension": ".py",
   "mimetype": "text/x-python",
   "name": "python",
   "nbconvert_exporter": "python",
   "pygments_lexer": "ipython3",
   "version": "3.6.7"
  }
 },
 "nbformat": 4,
 "nbformat_minor": 2
}
