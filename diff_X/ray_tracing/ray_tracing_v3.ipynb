{
 "cells": [
  {
   "cell_type": "code",
   "execution_count": 5,
   "metadata": {},
   "outputs": [],
   "source": [
    "import numpy as np\n",
    "import matplotlib.pylab as plt"
   ]
  },
  {
   "cell_type": "code",
   "execution_count": 6,
   "metadata": {},
   "outputs": [],
   "source": [
    "def rotation_matrix(omega, psi, phi):\n",
    "    '''Rotation matrix defined with Euler's angles\n",
    "        i.e. Body Rotation with axis order 'yxz'\n",
    "    '''\n",
    "    s_omega, c_omega = np.sin(omega), np.cos(omega)\n",
    "    s_psi, c_psi = np.sin(psi), np.cos(psi)\n",
    "    s_phi, c_phi = np.sin(phi), np.cos(phi)\n",
    "\n",
    "    R = np.array([[ s_omega*s_phi*s_psi + c_omega*c_phi,\n",
    "                    s_phi*c_psi,\n",
    "                   -s_omega*c_phi + s_phi*s_psi*c_omega],\n",
    "                  [ s_omega*s_psi*c_phi - s_phi*c_omega,\n",
    "                    c_phi*c_psi,\n",
    "                    s_omega*s_phi + s_psi*c_omega*c_phi],\n",
    "                  [ s_omega*c_psi,\n",
    "                   -s_psi,\n",
    "                    c_omega*c_psi]])\n",
    "    \n",
    "    return R"
   ]
  },
  {
   "cell_type": "code",
   "execution_count": 7,
   "metadata": {},
   "outputs": [
    {
     "data": {
      "text/plain": [
       "(array([[6.123234e-16, 0.000000e+00, 1.000000e+01]]),\n",
       " array([[-6.123234e-17,  0.000000e+00, -1.000000e+00]]))"
      ]
     },
     "execution_count": 7,
     "metadata": {},
     "output_type": "execute_result"
    }
   ],
   "source": [
    "def change_base(A, u, angles, offset):\n",
    "    omega, psi, phi = angles\n",
    "    offset = np.asarray(offset)\n",
    "\n",
    "    R = rotation_matrix(omega, psi, phi)\n",
    "\n",
    "    A_prime = np.matmul(A, R.T) - offset\n",
    "    u_prime = np.matmul(u, R.T)\n",
    "    \n",
    "    return A_prime, u_prime\n",
    "\n",
    "# test\n",
    "u = np.array([[-1, 0, 0], ])\n",
    "A = np.array([[10, 0, 0], ])\n",
    "\n",
    "change_base(A, u, (np.pi/2, 0, 0), (0, 0, 0))"
   ]
  },
  {
   "cell_type": "code",
   "execution_count": 60,
   "metadata": {},
   "outputs": [],
   "source": [
    "def rectangle_intersection(A, u, angles, offset, width, height):\n",
    "    '''Projection of the ray (A, u) on the plane xy'''\n",
    "    A_prime, u_prime = change_base(A, u, angles, offset)\n",
    "\n",
    "    time_to_plane = -np.divide(A_prime[:, 2], u_prime[:, 2],\n",
    "                               where=u_prime[:, 2] < 0)\n",
    "\n",
    "    B = A + time_to_plane[:, np.newaxis]*u  # point of intersection in the laboratory frame\n",
    "\n",
    "    in_plane_uv = A_prime[:, 0:2] + time_to_plane[:, np.newaxis]*u_prime[:, 0:2]\n",
    "\n",
    "\n",
    "    mask = time_to_plane >= 0\n",
    "    mask = np.logical_and(mask, np.abs(in_plane_uv[:, 0]) > width/2 )\n",
    "    mask = np.logical_or(mask, np.abs(in_plane_uv[:, 1]) > height/2 )\n",
    "\n",
    "    #in_plane_uv[mask, :] = np.NaN\n",
    "    \n",
    "    return mask, in_plane_uv, B"
   ]
  },
  {
   "cell_type": "code",
   "execution_count": 61,
   "metadata": {},
   "outputs": [],
   "source": [
    "def normalize(array_of_vector):\n",
    "    \"\"\" Normalize the given array of vectors.\n",
    "\n",
    "        Parameters\n",
    "        ----------\n",
    "        array_of_vector : (N, dim) array\n",
    "            vector along the last dim\n",
    "\n",
    "        Returns\n",
    "        -------\n",
    "        y : array (N, dim)\n",
    "    \"\"\"\n",
    "    array_of_vector = np.asarray(array_of_vector)\n",
    "    norm = np.linalg.norm(array_of_vector, axis=-1, keepdims=True)\n",
    "\n",
    "    return np.divide(array_of_vector, norm, where=norm > 0)"
   ]
  },
  {
   "cell_type": "code",
   "execution_count": 78,
   "metadata": {},
   "outputs": [
    {
     "data": {
      "image/png": "[encoded data removed]",
      "text/plain": [
       "<Figure size 432x288 with 1 Axes>"
      ]
     },
     "metadata": {
      "needs_background": "light"
     },
     "output_type": "display_data"
    }
   ],
   "source": [
    "# test\n",
    "N = 1000\n",
    "u = np.zeros((N, 3)) - np.array((1, 0, 0))\n",
    "A = np.random.rand(N, 3) + np.array((10, 0, 0))\n",
    "\n",
    "angles = (np.pi/2, 0, np.pi/4)\n",
    "offset = (0, np.sqrt(2), 0)\n",
    "width, height = 1, 1\n",
    "\n",
    "mask, in_plane_uv, B = rectangle_intersection(A, u, angles, offset, width, height)\n",
    "\n",
    "plt.plot(in_plane_uv[:, 0], in_plane_uv[:, 1], ',')\n",
    "plt.plot([-width/2, width/2, width/2, -width/2, -width/2],\n",
    "         [-height/2, -height/2, height/2, height/2, -height/2], '-', color='black', linewidth=1)\n",
    "plt.axis('equal');"
   ]
  },
  {
   "cell_type": "code",
   "execution_count": 181,
   "metadata": {},
   "outputs": [
    {
     "data": {
      "image/png": "[encoded data removed]",
      "text/plain": [
       "<Figure size 432x288 with 1 Axes>"
      ]
     },
     "metadata": {
      "needs_background": "light"
     },
     "output_type": "display_data"
    }
   ],
   "source": [
    "# test 2\n",
    "N = 5000\n",
    "u = np.zeros((N, 3)) - np.array((1, 0, 0))\n",
    "A = np.random.rand(N, 3)-0.5 + np.array((10, 0, 0))\n",
    "\n",
    "angles = (np.pi/4, 0, 0)\n",
    "offset = (0, 0, -1)\n",
    "width, height = 1, 1\n",
    "\n",
    "mask, in_plane_uv, B = rectangle_intersection(A, u, angles, offset, width, height)\n",
    "\n",
    "plt.plot(in_plane_uv[:, 0], in_plane_uv[:, 1], ',')\n",
    "plt.plot([-width/2, width/2, width/2, -width/2, -width/2],\n",
    "         [-height/2, -height/2, height/2, height/2, -height/2], '-', color='black', linewidth=1)\n",
    "plt.axis('equal');"
   ]
  },
  {
   "cell_type": "code",
   "execution_count": 195,
   "metadata": {},
   "outputs": [
    {
     "data": {
      "image/png": "[encoded data removed]",
      "text/plain": [
       "<Figure size 432x288 with 1 Axes>"
      ]
     },
     "metadata": {
      "needs_background": "light"
     },
     "output_type": "display_data"
    }
   ],
   "source": [
    "# test\n",
    "theta = 50 *np.pi/180\n",
    "deuxtheta = 2*theta\n",
    "\n",
    "N = 5100\n",
    "u = np.zeros((N, 3)) - np.array((1, 0, 0))\n",
    "A = 0.4*(np.random.rand(N, 3)-0.5) + np.array((10, 0, 0))\n",
    "\n",
    "gamma = np.pi * (np.random.rand(N,) - 0.5)\n",
    "\n",
    "# sample\n",
    "angles = (theta, 0, 0)\n",
    "offset = (0, 0, 0)\n",
    "width, height = 2, 2\n",
    "\n",
    "mask, in_plane_uv, B = rectangle_intersection(A, u, angles, offset, width, height)\n",
    "\n",
    "plt.plot(in_plane_uv[:, 0], in_plane_uv[:, 1], ',')\n",
    "plt.plot([-width/2, width/2, width/2, -width/2, -width/2],\n",
    "         [-height/2, -height/2, height/2, height/2, -height/2], '-', color='black', linewidth=1)\n",
    "plt.axis('equal');"
   ]
  },
  {
   "cell_type": "code",
   "execution_count": 196,
   "metadata": {},
   "outputs": [],
   "source": [
    "# Diffracted directions\n",
    "\n",
    "ref_plane_normal = np.array((.0, 1., .0))\n",
    "\n",
    "u = normalize(u)\n",
    "ref_plane_normal = normalize(ref_plane_normal)\n",
    "\n",
    "# Define a new base with u\n",
    "gamma_zero = np.cross(ref_plane_normal, u)\n",
    "gamma_90 = np.cross(u, gamma_zero)\n",
    "\n",
    "# diffracted direction:\n",
    "tan_theta = np.tan(theta)\n",
    "d = u + np.tan(theta)*(gamma_zero*np.cos(gamma)[:, np.newaxis] + \\\n",
    "                       gamma_90*np.sin(gamma)[:, np.newaxis])"
   ]
  },
  {
   "cell_type": "code",
   "execution_count": 223,
   "metadata": {},
   "outputs": [],
   "source": [
    "# Detector\n",
    "R_gonio = 200 # mm\n",
    "width, height = 10, 10 # mm\n",
    "\n",
    "angles = (deuxtheta + np.pi/2, 0, 0) # omega, phi, psi\n",
    "offset = (0, 0, -R_gonio)\n",
    "\n",
    "mask, uv_detector, C = rectangle_intersection(A, u, angles, offset, width, height)"
   ]
  },
  {
   "cell_type": "code",
   "execution_count": 225,
   "metadata": {},
   "outputs": [
    {
     "data": {
      "text/plain": [
       "100.0"
      ]
     },
     "execution_count": 225,
     "metadata": {},
     "output_type": "execute_result"
    }
   ],
   "source": [
    "deuxtheta *180/np.pi"
   ]
  },
  {
   "cell_type": "code",
   "execution_count": 222,
   "metadata": {},
   "outputs": [
    {
     "data": {
      "image/png": "[encoded data removed]",
      "text/plain": [
       "<Figure size 432x288 with 1 Axes>"
      ]
     },
     "metadata": {
      "needs_background": "light"
     },
     "output_type": "display_data"
    }
   ],
   "source": [
    "plt.plot(uv_detector[:, 0], uv_detector[:, 1], ',')\n",
    "plt.plot([-width/2, width/2, width/2, -width/2, -width/2],\n",
    "         [-height/2, -height/2, height/2, height/2, -height/2], '-', color='black', linewidth=1)\n",
    "plt.axis('equal');"
   ]
  },
  {
   "cell_type": "code",
   "execution_count": 218,
   "metadata": {},
   "outputs": [
    {
     "data": {
      "text/plain": [
       "array([[ 369.29197549, -292.36685833],\n",
       "       [2181.11802774, 2451.88359209],\n",
       "       [ 340.66172097,  250.63132328],\n",
       "       ...,\n",
       "       [ 318.54011061, -216.47331475],\n",
       "       [ 265.96166515, -119.31349611],\n",
       "       [ 261.16230023, -107.58459533]])"
      ]
     },
     "execution_count": 218,
     "metadata": {},
     "output_type": "execute_result"
    }
   ],
   "source": [
    "uv_detector"
   ]
  },
  {
   "cell_type": "code",
   "execution_count": 157,
   "metadata": {},
   "outputs": [
    {
     "name": "stdout",
     "output_type": "stream",
     "text": [
      "7.12 µs ± 121 ns per loop (mean ± std. dev. of 7 runs, 100000 loops each)\n"
     ]
    }
   ],
   "source": [
    "%%timeit\n",
    "omega, psi, phi = np.pi/2, 0, 0\n",
    "R = rotation_matrix(omega, psi, phi)"
   ]
  },
  {
   "cell_type": "code",
   "execution_count": 158,
   "metadata": {},
   "outputs": [
    {
     "ename": "NameError",
     "evalue": "name 'R' is not defined",
     "output_type": "error",
     "traceback": [
      "\u001b[0;31m---------------------------------------------------------------------------\u001b[0m",
      "\u001b[0;31mNameError\u001b[0m                                 Traceback (most recent call last)",
      "\u001b[0;32m<ipython-input-158-b1aa98ad3a02>\u001b[0m in \u001b[0;36m<module>\u001b[0;34m\u001b[0m\n\u001b[0;32m----> 1\u001b[0;31m \u001b[0mR\u001b[0m\u001b[0;34m\u001b[0m\u001b[0;34m\u001b[0m\u001b[0m\n\u001b[0m",
      "\u001b[0;31mNameError\u001b[0m: name 'R' is not defined"
     ]
    }
   ],
   "source": [
    "R"
   ]
  },
  {
   "cell_type": "code",
   "execution_count": 120,
   "metadata": {},
   "outputs": [],
   "source": [
    "N = 10\n",
    "u = np.random.rand(N, 3)\n",
    "A = np.random.rand(N, 3)"
   ]
  },
  {
   "cell_type": "code",
   "execution_count": 123,
   "metadata": {},
   "outputs": [
    {
     "data": {
      "text/plain": [
       "(array([[6.123234e-16, 0.000000e+00, 1.000000e+01]]),\n",
       " array([[-6.123234e-17,  0.000000e+00, -1.000000e+00]]))"
      ]
     },
     "execution_count": 123,
     "metadata": {},
     "output_type": "execute_result"
    }
   ],
   "source": [
    "# test\n",
    "u = np.array([[-1, 0, 0], ])\n",
    "A = np.array([[10, 0, 0], ])\n",
    "\n",
    "change_base(A, u, (np.pi/2, 0, 0), (0, 0, 0))"
   ]
  },
  {
   "cell_type": "code",
   "execution_count": 230,
   "metadata": {},
   "outputs": [],
   "source": [
    "import numpy as np\n",
    "import numpy.ma as ma"
   ]
  },
  {
   "cell_type": "code",
   "execution_count": 256,
   "metadata": {},
   "outputs": [],
   "source": [
    "y = ma.array([1.0,]*N, mask = [1, ]*(N-1)+[0, ])"
   ]
  },
  {
   "cell_type": "code",
   "execution_count": 257,
   "metadata": {},
   "outputs": [
    {
     "name": "stdout",
     "output_type": "stream",
     "text": [
      "23.9 µs ± 344 ns per loop (mean ± std. dev. of 7 runs, 10000 loops each)\n"
     ]
    }
   ],
   "source": [
    "%%timeit\n",
    "s = y.sum()"
   ]
  },
  {
   "cell_type": "code",
   "execution_count": 258,
   "metadata": {},
   "outputs": [
    {
     "data": {
      "text/plain": [
       "1.0"
      ]
     },
     "execution_count": 258,
     "metadata": {},
     "output_type": "execute_result"
    }
   ],
   "source": [
    "y.sum()"
   ]
  },
  {
   "cell_type": "code",
   "execution_count": 259,
   "metadata": {},
   "outputs": [],
   "source": [
    "y = np.array([np.NaN,]*N+[1, ])"
   ]
  },
  {
   "cell_type": "code",
   "execution_count": 260,
   "metadata": {},
   "outputs": [
    {
     "name": "stdout",
     "output_type": "stream",
     "text": [
      "21.5 µs ± 115 ns per loop (mean ± std. dev. of 7 runs, 10000 loops each)\n"
     ]
    }
   ],
   "source": [
    "%%timeit\n",
    "np.nansum(y)"
   ]
  },
  {
   "cell_type": "code",
   "execution_count": 261,
   "metadata": {},
   "outputs": [
    {
     "data": {
      "text/plain": [
       "1.0"
      ]
     },
     "execution_count": 261,
     "metadata": {},
     "output_type": "execute_result"
    }
   ],
   "source": [
    "np.nansum(y)"
   ]
  },
  {
   "cell_type": "markdown",
   "metadata": {},
   "source": [
    "$$\\Large\n",
    "\\frac{\\epsilon}{\\varepsilon_{applied}} \\propto \\frac{E_{substrate}}{E_{film}} \\frac{L}{h}\n",
    "$$\n",
    "\n",
    "$$\\Large\n",
    "Force \\propto E_{substrate}\\,H + E_{film}\\,h\n",
    "$$\n",
    "\n",
    "$$\\large\n",
    "\\epsilon = \\varepsilon_{applied}\n",
    "$$"
   ]
  },
  {
   "cell_type": "code",
   "execution_count": null,
   "metadata": {},
   "outputs": [],
   "source": []
  }
 ],
 "metadata": {
  "kernelspec": {
   "display_name": "py3 venv",
   "language": "python",
   "name": "py3"
  },
  "language_info": {
   "codemirror_mode": {
    "name": "ipython",
    "version": 3
   },
   "file_extension": ".py",
   "mimetype": "text/x-python",
   "name": "python",
   "nbconvert_exporter": "python",
   "pygments_lexer": "ipython3",
   "version": "3.6.8"
  }
 },
 "nbformat": 4,
 "nbformat_minor": 2
}
