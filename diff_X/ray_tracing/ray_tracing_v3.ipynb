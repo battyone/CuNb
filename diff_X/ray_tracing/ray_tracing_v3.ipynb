{
 "cells": [
  {
   "cell_type": "code",
   "execution_count": 1,
   "metadata": {},
   "outputs": [],
   "source": [
    "import numpy as np\n",
    "import matplotlib.pylab as plt"
   ]
  },
  {
   "cell_type": "code",
   "execution_count": 5,
   "metadata": {},
   "outputs": [],
   "source": [
    "def rotation_matrix(omega, psi, phi):\n",
    "    '''Rotation matrix defined with Euler's angles\n",
    "        i.e. Body Rotation (intrisic) with axis order 'yxz'\n",
    "    '''\n",
    "    s_omega, c_omega = np.sin(omega), np.cos(omega)\n",
    "    s_psi, c_psi = np.sin(psi), np.cos(psi)\n",
    "    s_phi, c_phi = np.sin(phi), np.cos(phi)\n",
    "\n",
    "    R = np.array([[ s_omega*s_phi*s_psi + c_omega*c_phi,\n",
    "                    s_phi*c_psi,\n",
    "                   -s_omega*c_phi + s_phi*s_psi*c_omega],\n",
    "                  [ s_omega*s_psi*c_phi - s_phi*c_omega,\n",
    "                    c_phi*c_psi,\n",
    "                    s_omega*s_phi + s_psi*c_omega*c_phi],\n",
    "                  [ s_omega*c_psi,\n",
    "                   -s_psi,\n",
    "                    c_omega*c_psi]])\n",
    "    \n",
    "    return R"
   ]
  },
  {
   "cell_type": "code",
   "execution_count": 12,
   "metadata": {},
   "outputs": [
    {
     "data": {
      "text/plain": [
       "array([[1.00000000e+00, 5.55111512e-17, 0.00000000e+00],\n",
       "       [5.55111512e-17, 1.00000000e+00, 5.55111512e-17],\n",
       "       [0.00000000e+00, 5.55111512e-17, 1.00000000e+00]])"
      ]
     },
     "execution_count": 12,
     "metadata": {},
     "output_type": "execute_result"
    }
   ],
   "source": [
    "R = rotation_matrix(3, 2, 1)\n",
    "np.matmul(R, R.T)"
   ]
  },
  {
   "cell_type": "code",
   "execution_count": 27,
   "metadata": {},
   "outputs": [
    {
     "data": {
      "text/plain": [
       "(array([[6.123234e-17, 0.000000e+00, 2.000000e+00],\n",
       "        [6.123234e-17, 0.000000e+00, 2.000000e+00]]),\n",
       " array([[-6.123234e-17,  0.000000e+00, -1.000000e+00],\n",
       "        [-1.000000e+00,  1.000000e+00,  1.000000e+00]]))"
      ]
     },
     "execution_count": 27,
     "metadata": {},
     "output_type": "execute_result"
    }
   ],
   "source": [
    "def change_base(A, u, angles, offset):\n",
    "    omega, psi, phi = angles\n",
    "    offset = np.asarray(offset)\n",
    "\n",
    "    R = rotation_matrix(omega, psi, phi)\n",
    "\n",
    "    A_prime = np.matmul(A, R.T) - offset\n",
    "    u_prime = np.matmul(u, R.T)\n",
    "    \n",
    "    return A_prime, u_prime\n",
    "\n",
    "# test\n",
    "u = np.array([[-1, 0, 0], [1, 1, 1]])\n",
    "A = np.array([[1, 0, 0], [1, 0, 0]])\n",
    "\n",
    "change_base(A, u, (np.pi/2, 0, 0), (0, 0, -1))"
   ]
  },
  {
   "cell_type": "code",
   "execution_count": 237,
   "metadata": {},
   "outputs": [],
   "source": [
    "def rectangle_intersection(A, u, angles, offset, width, height):\n",
    "    '''Projection of the ray (A, u) on the plane xy\n",
    "        of the rotated (angles) and translated (offset) base\n",
    "    '''\n",
    "    A_prime, u_prime = change_base(A, u, angles, offset)\n",
    "\n",
    "    time_to_plane = -np.divide(A_prime[:, 2], u_prime[:, 2],\n",
    "                               where=u_prime[:, 2] < 0)\n",
    "\n",
    "    B = A + time_to_plane[:, np.newaxis]*u  # point of intersection in the laboratory frame\n",
    "\n",
    "    in_plane_uv = A_prime[:, 0:2] + time_to_plane[:, np.newaxis]*u_prime[:, 0:2]\n",
    "\n",
    "\n",
    "    lost = time_to_plane < 0\n",
    "    lost = np.logical_or(lost, np.abs(in_plane_uv[:, 0]) > width/2 )\n",
    "    lost = np.logical_or(lost, np.abs(in_plane_uv[:, 1]) > height/2 )\n",
    "\n",
    "    #in_plane_uv[mask, :] = np.NaN\n",
    "    \n",
    "    return lost, in_plane_uv, B"
   ]
  },
  {
   "cell_type": "code",
   "execution_count": 242,
   "metadata": {},
   "outputs": [],
   "source": [
    "def plot_rectangle(uv, lost, rectangle_size, title='rectangle'):\n",
    "    plt.plot(uv[~lost, 0], uv[~lost, 1], ',b') # inside\n",
    "    plt.plot(uv[lost, 0], uv[lost, 1], ',r') # lost\n",
    "    width, height = rectangle_size\n",
    "    plt.plot([-width/2, width/2, width/2, -width/2, -width/2],\n",
    "             [-height/2, -height/2, height/2, height/2, -height/2], '-',\n",
    "             color='black', linewidth=1);\n",
    "    #plt.axis('equal');\n",
    "    plt.xlabel('u (mm)'); plt.ylabel('v (mm)')\n",
    "    plt.title(title);"
   ]
  },
  {
   "cell_type": "code",
   "execution_count": 243,
   "metadata": {},
   "outputs": [],
   "source": [
    "def normalize(array_of_vector):\n",
    "    \"\"\" Normalize the given array of vectors.\n",
    "\n",
    "        Parameters\n",
    "        ----------\n",
    "        array_of_vector : (N, dim) array\n",
    "            vector along the last dim\n",
    "\n",
    "        Returns\n",
    "        -------\n",
    "        y : array (N, dim)\n",
    "    \"\"\"\n",
    "    array_of_vector = np.asarray(array_of_vector)\n",
    "    norm = np.linalg.norm(array_of_vector, axis=-1, keepdims=True)\n",
    "\n",
    "    return np.divide(array_of_vector, norm, where=norm > 0)"
   ]
  },
  {
   "cell_type": "code",
   "execution_count": 244,
   "metadata": {},
   "outputs": [
    {
     "data": {
      "image/png": "[encoded data removed]",
      "text/plain": [
       "<Figure size 432x288 with 1 Axes>"
      ]
     },
     "metadata": {
      "needs_background": "light"
     },
     "output_type": "display_data"
    }
   ],
   "source": [
    "# test 1 - zero offset\n",
    "N = 4000\n",
    "u = np.zeros((N, 3)) - np.array((1, 0, 0))\n",
    "A = (np.random.rand(N, 3)-.5) + np.array((10, 0, 0))\n",
    "\n",
    "angles = (np.pi/2, 0, np.pi/4)\n",
    "offset = (0, 0, 0)\n",
    "width, height = 1, 1\n",
    "\n",
    "lost, in_plane_uv, B = rectangle_intersection(A, u, angles, offset, width, height)\n",
    "\n",
    "plot_rectangle(in_plane_uv, lost, (width, height), title='sample')"
   ]
  },
  {
   "cell_type": "code",
   "execution_count": 246,
   "metadata": {},
   "outputs": [
    {
     "data": {
      "image/png": "[encoded data removed]",
      "text/plain": [
       "<Figure size 432x288 with 1 Axes>"
      ]
     },
     "metadata": {
      "needs_background": "light"
     },
     "output_type": "display_data"
    }
   ],
   "source": [
    "# test 2 - offset\n",
    "N = 5000\n",
    "u = np.zeros((N, 3)) - np.array((1, 0, 0))\n",
    "A = (np.random.rand(N, 3)-.5) + np.array((10, 0, 0))\n",
    "\n",
    "angles = (np.pi/4, 0, 0)\n",
    "offset = (-.3, .5, -1)\n",
    "width, height = 1, 1\n",
    "\n",
    "lost, in_plane_uv, B = rectangle_intersection(A, u, angles, offset, width, height)\n",
    "\n",
    "plot_rectangle(in_plane_uv, lost, (width, height), title='sample')"
   ]
  },
  {
   "cell_type": "code",
   "execution_count": 248,
   "metadata": {},
   "outputs": [
    {
     "data": {
      "image/png": "[encoded data removed]",
      "text/plain": [
       "<Figure size 432x288 with 1 Axes>"
      ]
     },
     "metadata": {
      "needs_background": "light"
     },
     "output_type": "display_data"
    }
   ],
   "source": [
    "# test diffract - old\n",
    "theta = 140 *np.pi/180\n",
    "deuxtheta = 2*theta\n",
    "\n",
    "N = 5100\n",
    "u = np.zeros((N, 3)) - np.array((1, 0, 0))\n",
    "A = 0.4*(np.random.rand(N, 3)-0.5) + np.array((10, 0, 0))\n",
    "\n",
    "gamma = np.pi/2 * (np.random.rand(N,) - 0.5)\n",
    "\n",
    "# sample\n",
    "angles = (theta, 0, 0)\n",
    "offset = (0, 0, 0)\n",
    "width, height = 2, 2\n",
    "\n",
    "mask, in_plane_uv, B = rectangle_intersection(A, u, angles, offset, width, height)\n",
    "\n",
    "# graph\n",
    "plt.plot(in_plane_uv[~mask, 0], in_plane_uv[~mask, 1], ',r')\n",
    "plt.plot(in_plane_uv[mask, 0], in_plane_uv[mask, 1], ',b')\n",
    "plt.plot([-width/2, width/2, width/2, -width/2, -width/2],\n",
    "         [-height/2, -height/2, height/2, height/2, -height/2], '-', color='black', linewidth=1)\n",
    "plt.axis('equal');"
   ]
  },
  {
   "cell_type": "code",
   "execution_count": 249,
   "metadata": {},
   "outputs": [],
   "source": [
    "# Diffracted directions\n",
    "\n",
    "def planar_powder(A, u,\n",
    "                  angles, offset, sample_size,\n",
    "                  gamma, deuxtheta):\n",
    "    '''Diffraction by a powder'''\n",
    "    mask, uv, B = rectangle_intersection(A, u,\n",
    "                                         angles, offset, *sample_size)\n",
    "\n",
    "\n",
    "    ref_plane_normal = np.array((.0, 1., .0))\n",
    "\n",
    "    u = normalize(u)\n",
    "    ref_plane_normal = normalize(ref_plane_normal)\n",
    "\n",
    "    # Define a new base with u\n",
    "    gamma_zero = normalize(np.cross(ref_plane_normal, u))\n",
    "    gamma_90 = normalize(np.cross(u, gamma_zero))\n",
    "\n",
    "    # diffracted direction:\n",
    "    d = u + np.tan(deuxtheta)*(gamma_zero*np.cos(gamma)[:, np.newaxis] + \\\n",
    "                               gamma_90*np.sin(gamma)[:, np.newaxis])\n",
    "    \n",
    "    return B, d, mask, uv"
   ]
  },
  {
   "cell_type": "markdown",
   "metadata": {},
   "source": [
    "# diffract\n",
    "\n",
    "    # Parameters\n",
    "     - Incident beam, source & optique\n",
    "         A: beam size --> distribution\n",
    "         u: divergence --> distribution\n",
    "         lambda: energy --> distribution\n",
    "     - Sample\n",
    "         size: height, width\n",
    "         d(hkl) --> distribution / discrete\n",
    "         (absorption, grain size, monocristal...)\n",
    "     - Diffraction\n",
    "         gamma (relative to lab. XZ plane) --> distribution\n",
    "     - Detecteur\n",
    "         geometry: slit width and height, offset\n",
    "\n",
    "    # Gonio movements, scan, measure:\n",
    "     - sample stage: omega, phi, psi, X, Y, Z\n",
    "     - detecteur position: 2theta"
   ]
  },
  {
   "cell_type": "code",
   "execution_count": 270,
   "metadata": {},
   "outputs": [
    {
     "name": "stdout",
     "output_type": "stream",
     "text": [
      "861\n"
     ]
    }
   ],
   "source": [
    "# Gonio\n",
    "omega, psi, phi = 36, 0, 0 # deg, sample stage orientation\n",
    "X, Y, Z = 0, 0, 0 # mm, sample stage position\n",
    "\n",
    "deuxtheta = 30 *np.pi/180  # rad, detector position\n",
    "\n",
    "gonio_radius = 320 # mm\n",
    "\n",
    "\n",
    "# sample\n",
    "sample_size = 15, 15  # mm, width, height\n",
    "deuxtheta_diff = 30 *np.pi/180  # rad, diffraction angle (d_hkl)\n",
    "\n",
    "# incident beam\n",
    "N = 5100\n",
    "\n",
    "# Source\n",
    "u = np.zeros((N, 3)) - np.array((1, 0, 0)) # divergencce\n",
    "\n",
    "Ax = np.ones((N, 1)) * gonio_radius\n",
    "A_width = (np.random.randn(N, 1)) * 12  # Gaussian\n",
    "A_height = (np.random.rand(N, 1) - 0.5) * .2  # mm, Square\n",
    "A = np.hstack([Ax, A_width, A_height])\n",
    "    \n",
    "gamma = np.pi/9 * (np.random.rand(N,) - 0.5)\n",
    "\n",
    "# Diffraction\n",
    "angles = np.pi/180*np.array([omega, psi, phi])\n",
    "B, d, lost_at_sample, uv_sample = planar_powder(A, u,\n",
    "                     angles, (X, Y, Z), sample_size,\n",
    "                     gamma, deuxtheta_diff)\n",
    "\n",
    "# Detector\n",
    "width, height = gonio_radius*1/4. *np.pi/180, 20 # mm\n",
    "\n",
    "angles = (deuxtheta + np.pi/2, 0, 0) # i.e. omega, phi, psi\n",
    "offset = (0, 0, -gonio_radius)\n",
    "\n",
    "lost_detect, uv_detector, C = rectangle_intersection(B, d,\n",
    "                                                     angles, offset,\n",
    "                                                     width, height)\n",
    "\n",
    "lost = lost_detect + lost_at_sample\n",
    "\n",
    "# sum\n",
    "I = np.sum(~lost)\n",
    "print(I)"
   ]
  },
  {
   "cell_type": "code",
   "execution_count": 271,
   "metadata": {},
   "outputs": [
    {
     "data": {
      "image/png": "[encoded data removed]",
      "text/plain": [
       "<Figure size 432x288 with 1 Axes>"
      ]
     },
     "metadata": {
      "needs_background": "light"
     },
     "output_type": "display_data"
    }
   ],
   "source": [
    "plot_rectangle(uv_sample, lost_at_sample, sample_size, title='sample')"
   ]
  },
  {
   "cell_type": "code",
   "execution_count": 272,
   "metadata": {},
   "outputs": [
    {
     "data": {
      "image/png": "[encoded data removed]",
      "text/plain": [
       "<Figure size 432x288 with 1 Axes>"
      ]
     },
     "metadata": {
      "needs_background": "light"
     },
     "output_type": "display_data"
    }
   ],
   "source": [
    "plot_rectangle(uv_detector, lost, (width, height), title='detector')"
   ]
  },
  {
   "cell_type": "code",
   "execution_count": 299,
   "metadata": {},
   "outputs": [],
   "source": [
    "def scan_2theta_omega(deuxtheta_deg):\n",
    "    # Gonio\n",
    "    omega, psi, phi = deuxtheta_deg/2, 0, 0 # deg, sample stage orientation\n",
    "    X, Y, Z = 0, 0, 0 # mm, sample stage position\n",
    "\n",
    "    deuxtheta = deuxtheta_deg *np.pi/180  # rad, detector position\n",
    "\n",
    "    gonio_radius = 320 # mm\n",
    "\n",
    "    # sample\n",
    "    sample_size = 12, 10  # mm, width, height\n",
    "    deuxtheta_diff = 55 *np.pi/180  # rad, diffraction angle (d_hkl)\n",
    "\n",
    "    # incident beam\n",
    "    N = 55100\n",
    "\n",
    "    # Source\n",
    "    u = np.zeros((N, 3)) - np.array((1, 0, 0)) # divergencce\n",
    "\n",
    "    Ax = np.ones((N, 1)) * gonio_radius\n",
    "    A_width = (np.random.randn(N, 1)) * 12  # Gaussian\n",
    "    A_height = (np.random.rand(N, 1) - 0.5) * .2  # mm, Square\n",
    "    A = np.hstack([Ax, A_width, A_height])\n",
    "\n",
    "    gamma = np.pi/9 * (np.random.rand(N,) - 0.5)\n",
    "\n",
    "    # Diffraction\n",
    "    angles = np.pi/180*np.array([omega, psi, phi])\n",
    "    B, d, lost_at_sample, uv_sample = planar_powder(A, u,\n",
    "                         angles, (X, Y, Z), sample_size,\n",
    "                         gamma, deuxtheta_diff)\n",
    "\n",
    "    # Detector\n",
    "    width, height = gonio_radius*1/4. *np.pi/180, 20 # mm\n",
    "\n",
    "    angles = (deuxtheta + np.pi/2, 0, 0) # i.e. omega, phi, psi\n",
    "    offset = (0, 0, -gonio_radius)\n",
    "\n",
    "    lost_detect, uv_detector, C = rectangle_intersection(B, d,\n",
    "                                                         angles, offset,\n",
    "                                                         width, height)\n",
    "\n",
    "    lost = lost_detect + lost_at_sample\n",
    "\n",
    "    # sum\n",
    "    I = np.sum(~lost)\n",
    "    return I"
   ]
  },
  {
   "cell_type": "code",
   "execution_count": 300,
   "metadata": {},
   "outputs": [],
   "source": [
    "dt_range = 1\n",
    "deuxtheta = 55\n",
    "deuxtheta_span = np.linspace(-dt_range/2+deuxtheta,\n",
    "                             +dt_range/2+deuxtheta, 76)\n",
    "I = [scan_2theta_omega(dt) for dt in deuxtheta_span]"
   ]
  },
  {
   "cell_type": "code",
   "execution_count": 301,
   "metadata": {},
   "outputs": [
    {
     "data": {
      "image/png": "[encoded data removed]",
      "text/plain": [
       "<Figure size 432x288 with 1 Axes>"
      ]
     },
     "metadata": {
      "needs_background": "light"
     },
     "output_type": "display_data"
    }
   ],
   "source": [
    "plt.plot(deuxtheta_span, I);\n",
    "plt.xlabel('deux theta (deg)');\n",
    "plt.ylabel('I');"
   ]
  },
  {
   "cell_type": "code",
   "execution_count": null,
   "metadata": {},
   "outputs": [],
   "source": []
  }
 ],
 "metadata": {
  "kernelspec": {
   "display_name": "py3-global",
   "language": "python",
   "name": "py3"
  },
  "language_info": {
   "codemirror_mode": {
    "name": "ipython",
    "version": 3
   },
   "file_extension": ".py",
   "mimetype": "text/x-python",
   "name": "python",
   "nbconvert_exporter": "python",
   "pygments_lexer": "ipython3",
   "version": "3.5.2"
  }
 },
 "nbformat": 4,
 "nbformat_minor": 2
}
