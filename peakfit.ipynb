{
 "cells": [
  {
   "cell_type": "code",
   "execution_count": 1,
   "metadata": {},
   "outputs": [],
   "source": [
    "import numpy as np\n",
    "import matplotlib.pyplot as plt"
   ]
  },
  {
   "cell_type": "code",
   "execution_count": 35,
   "metadata": {},
   "outputs": [],
   "source": [
    "class Gauss:\n",
    "    \"\"\"Gaussian function\"\"\"\n",
    "    def __init__(self, x0=None, fwhm=None, ampl=None):\n",
    "        self.x0_init = x0\n",
    "        self.fwhm_init = fwhm\n",
    "        self.amplitude_init = ampl\n",
    "        self.param_name = [('x0', 'fwhm', 'amplitude'), ]\n",
    "        \n",
    "    def __call__(self, x, x0, fwhm, amplitude):\n",
    "        sigma = fwhm /( 2*np.sqrt(2*np.log(2)) )\n",
    "        return amplitude * np.exp( -(x-x0)**2/(2*sigma**2) )\n",
    "    \n",
    "    def estimate_param(self, x, y):\n",
    "        if not self.x0_init:\n",
    "            self.x0_init = x[np.argmax(y)]\n",
    "        if not self.fwhm_init:\n",
    "            self.fwhm_init = np.ptp( x[ y - y.min() > y.max()/2 ] )\n",
    "        if not self.amplitude_init:\n",
    "            self.amplitude_init = np.ptp(y)\n",
    " \n",
    "        return self.x0_init, self.fwhm_init, self.amplitude_init"
   ]
  },
  {
   "cell_type": "code",
   "execution_count": 36,
   "metadata": {},
   "outputs": [],
   "source": [
    "class Linear:\n",
    "    \"\"\"Linear function\"\"\"\n",
    "    def __init__(self, slope=None, intercept=None):\n",
    "        self.slope_init = slope\n",
    "        self.intercept_init = intercept\n",
    "        self.param_name = [('slope', 'intercept'), ]\n",
    "        \n",
    "    def __call__(self, x, slope, intercept):\n",
    "        return x*slope + intercept\n",
    "    \n",
    "    def estimate_param(self, x, y):\n",
    "        if not self.slope_init:\n",
    "            self.slope_init = (y[-1] - y[0])/(x[-1] - x[0])\n",
    "        if not self.intercept_init:\n",
    "            self.intercept_init = y[0] - self.slope_init*x[0]\n",
    " \n",
    "        return self.slope_init, self.intercept_init"
   ]
  },
  {
   "cell_type": "code",
   "execution_count": 37,
   "metadata": {},
   "outputs": [],
   "source": [
    "x = np.linspace(-5, 5, 123)\n",
    "\n",
    "gauss = Gauss()\n",
    "y = gauss(x, 0, 1, 1)\n",
    "y += .1 *np.random.rand(*y.shape)"
   ]
  },
  {
   "cell_type": "code",
   "execution_count": 38,
   "metadata": {},
   "outputs": [
    {
     "data": {
      "image/png": "[encoded data removed]",
      "text/plain": [
       "<Figure size 432x288 with 1 Axes>"
      ]
     },
     "metadata": {
      "needs_background": "light"
     },
     "output_type": "display_data"
    }
   ],
   "source": [
    "plt.plot(x, y);\n",
    "plt.plot([-.5, .5], [.5, .5], '-or');"
   ]
  },
  {
   "cell_type": "code",
   "execution_count": 39,
   "metadata": {},
   "outputs": [],
   "source": [
    "class Sum:\n",
    "    \"\"\"Build a new function as the sum of two function\"\"\"\n",
    "    def __init__(self, a, b):\n",
    "        self.a = a\n",
    "        self.b = b\n",
    "        \n",
    "        self.param_name = a.param_name + b.param_name\n",
    "        \n",
    "    def __call__(self, x, *p):\n",
    "        nargs_a = sum(len(u) for u in self.a.param_name)\n",
    "        p_a = p[:nargs_a]\n",
    "        p_b = p[nargs_a:]\n",
    "        return self.a(x, *p_a) + self.b(x, *p_b)\n",
    "    \n",
    "    def estimate_param(self, x, y):\n",
    "        p_a = self.a.estimate_param(x, y)\n",
    "        p_b = self.b.estimate_param(x, y)\n",
    "        return (*p_a, *p_b)"
   ]
  },
  {
   "cell_type": "code",
   "execution_count": 40,
   "metadata": {},
   "outputs": [],
   "source": [
    "def flatten(t):\n",
    "    \"\"\"Unpack nested list or tuple\n",
    "    i.e. keep only one level of nesting\n",
    "    note: only check the first level\n",
    "    >>> flatten([['a', 'b'], [['c', 'd'], ('e', 'f')]])\n",
    "    [['a', 'b'], ['c', 'd'], ('e', 'f')]\n",
    "    \"\"\"\n",
    "    out = []\n",
    "    for el in t:\n",
    "        if isinstance(el[0], list) or isinstance(el[0], tuple):\n",
    "            out.extend(el)\n",
    "        else:\n",
    "            out.append(el)\n",
    "    return out"
   ]
  },
  {
   "cell_type": "code",
   "execution_count": 41,
   "metadata": {},
   "outputs": [],
   "source": [
    "s = Sum(Sum(Gauss(), Gauss()), Linear())"
   ]
  },
  {
   "cell_type": "code",
   "execution_count": 42,
   "metadata": {},
   "outputs": [
    {
     "data": {
      "text/plain": [
       "(0.0,\n",
       " 0.9836065573770485,\n",
       " 1.0837285123076221,\n",
       " 0.0,\n",
       " 0.9836065573770485,\n",
       " 1.0837285123076221,\n",
       " -0.007045109171479713,\n",
       " 0.06157200752164292)"
      ]
     },
     "execution_count": 42,
     "metadata": {},
     "output_type": "execute_result"
    }
   ],
   "source": [
    "s.estimate_param(x, y)"
   ]
  },
  {
   "cell_type": "code",
   "execution_count": 43,
   "metadata": {},
   "outputs": [],
   "source": [
    "from scipy.optimize import curve_fit"
   ]
  },
  {
   "cell_type": "code",
   "execution_count": null,
   "metadata": {},
   "outputs": [],
   "source": []
  },
  {
   "cell_type": "code",
   "execution_count": 98,
   "metadata": {},
   "outputs": [],
   "source": [
    "def peakfit(x, y, function=Gauss(), background=Linear()):\n",
    "\n",
    "    p0_fun = function.estimate_param(x, y)\n",
    "    p0_bg = background.estimate_param(x, y)\n",
    "    p0 = p0_fun + p0_bg\n",
    "\n",
    "    nargs = len(p0_fun)\n",
    "\n",
    "    def f(x, *p):\n",
    "        return function(x, *p[:nargs]) + background(x, *p[nargs:])\n",
    "\n",
    "    popt, pcov = curve_fit(f, x, y, p0)\n",
    "\n",
    "    result = []\n",
    "    idx = 0\n",
    "    for names in function.param_name:\n",
    "        res = {}\n",
    "        for name in names:\n",
    "            res[name] = popt[idx]\n",
    "            idx += 1\n",
    "\n",
    "        result.append(res)\n",
    "    \n",
    "    return result, lambda x:f(x, *popt)\n"
   ]
  },
  {
   "cell_type": "code",
   "execution_count": 99,
   "metadata": {},
   "outputs": [
    {
     "data": {
      "image/png": "[encoded data removed]",
      "text/plain": [
       "<Figure size 432x288 with 1 Axes>"
      ]
     },
     "metadata": {
      "needs_background": "light"
     },
     "output_type": "display_data"
    }
   ],
   "source": [
    "x = np.linspace(-5, 5, 123)\n",
    "\n",
    "gauss = Gauss()\n",
    "y = gauss(x, 0, 1, 1)\n",
    "y += .01 *np.random.rand(*y.shape)\n",
    "y += gauss(x, 1.5, 1, 2)\n",
    "y += gauss(x, -1.1, 1, .4)\n",
    "\n",
    "plt.plot(x, y);"
   ]
  },
  {
   "cell_type": "code",
   "execution_count": 110,
   "metadata": {},
   "outputs": [],
   "source": [
    "s = Sum(Sum(Gauss(.01), Gauss(-.1)), Gauss(1))"
   ]
  },
  {
   "cell_type": "code",
   "execution_count": 127,
   "metadata": {},
   "outputs": [],
   "source": [
    "s = Sum(Gauss(), Gauss(.1))"
   ]
  },
  {
   "cell_type": "code",
   "execution_count": 128,
   "metadata": {},
   "outputs": [],
   "source": [
    "minimizer, fit = peakfit(x, y, s)"
   ]
  },
  {
   "cell_type": "code",
   "execution_count": 129,
   "metadata": {},
   "outputs": [
    {
     "data": {
      "text/plain": [
       "[{'amplitude': 1.9212697254610471,\n",
       "  'fwhm': 0.9180780238113186,\n",
       "  'x0': 1.5411405897171553},\n",
       " {'amplitude': 0.8752667610431127,\n",
       "  'fwhm': 1.8018520324254925,\n",
       "  'x0': -0.09948879872747039}]"
      ]
     },
     "execution_count": 129,
     "metadata": {},
     "output_type": "execute_result"
    }
   ],
   "source": [
    "minimizer"
   ]
  },
  {
   "cell_type": "code",
   "execution_count": 130,
   "metadata": {},
   "outputs": [
    {
     "data": {
      "text/plain": [
       "[<matplotlib.lines.Line2D at 0x7f2d1f4288d0>]"
      ]
     },
     "execution_count": 130,
     "metadata": {},
     "output_type": "execute_result"
    },
    {
     "data": {
      "image/png": "[encoded data removed]",
      "text/plain": [
       "<Figure size 432x288 with 1 Axes>"
      ]
     },
     "metadata": {
      "needs_background": "light"
     },
     "output_type": "display_data"
    }
   ],
   "source": [
    "plt.plot(x, y);\n",
    "plt.plot(x, fit(x))\n",
    "plt.plot(x, Gauss()(x, **minimizer[0]))\n",
    "plt.plot(x, Gauss()(x, **minimizer[1]))"
   ]
  },
  {
   "cell_type": "code",
   "execution_count": 145,
   "metadata": {},
   "outputs": [],
   "source": [
    "s = Sum(Gauss(1), Gauss(13))"
   ]
  },
  {
   "cell_type": "code",
   "execution_count": 33,
   "metadata": {},
   "outputs": [
    {
     "data": {
      "text/plain": [
       "('x0', 'fwhm', 'amplitude')"
      ]
     },
     "execution_count": 33,
     "metadata": {},
     "output_type": "execute_result"
    }
   ],
   "source": [
    "Gauss().param_name"
   ]
  },
  {
   "cell_type": "code",
   "execution_count": 148,
   "metadata": {},
   "outputs": [],
   "source": [
    "ss = Sum(s, Gauss(2))"
   ]
  },
  {
   "cell_type": "code",
   "execution_count": 149,
   "metadata": {},
   "outputs": [
    {
     "data": {
      "text/plain": [
       "(1,\n",
       " 0.9836065573770485,\n",
       " 1.0975978674968836,\n",
       " 1,\n",
       " 0.9836065573770485,\n",
       " 1.0975978674968836,\n",
       " 1,\n",
       " 0.9836065573770485,\n",
       " 1.0975978674968836,\n",
       " 1,\n",
       " 0.9836065573770485,\n",
       " 1.0975978674968836)"
      ]
     },
     "execution_count": 149,
     "metadata": {},
     "output_type": "execute_result"
    }
   ],
   "source": [
    "ss.estimate_param(x, y)"
   ]
  },
  {
   "cell_type": "code",
   "execution_count": null,
   "metadata": {},
   "outputs": [],
   "source": []
  }
 ],
 "metadata": {
  "kernelspec": {
   "display_name": "global-py3",
   "language": "python",
   "name": "global-py3"
  },
  "language_info": {
   "codemirror_mode": {
    "name": "ipython",
    "version": 3
   },
   "file_extension": ".py",
   "mimetype": "text/x-python",
   "name": "python",
   "nbconvert_exporter": "python",
   "pygments_lexer": "ipython3",
   "version": "3.5.2"
  }
 },
 "nbformat": 4,
 "nbformat_minor": 2
}
