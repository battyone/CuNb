{
 "cells": [
  {
   "cell_type": "markdown",
   "metadata": {},
   "source": [
    "# BVP"
   ]
  },
  {
   "cell_type": "code",
   "execution_count": 3,
   "metadata": {},
   "outputs": [],
   "source": [
    "import numpy as np\n",
    "import matplotlib.pylab as plt"
   ]
  },
  {
   "cell_type": "code",
   "execution_count": 4,
   "metadata": {},
   "outputs": [],
   "source": [
    "from scipy.integrate import solve_bvp\n",
    "from scipy.interpolate import CubicSpline\n",
    "from scipy.integrate import quad"
   ]
  },
  {
   "cell_type": "code",
   "execution_count": 5,
   "metadata": {},
   "outputs": [],
   "source": [
    "from scipy.optimize import minimize_scalar"
   ]
  },
  {
   "cell_type": "markdown",
   "metadata": {},
   "source": [
    "# Parameters"
   ]
  },
  {
   "cell_type": "code",
   "execution_count": 6,
   "metadata": {},
   "outputs": [],
   "source": [
    "length = 100   # cm, half length of the beam\n",
    "delta = 0.1  # cm, deflection at the center\n",
    "\n",
    "E_Young = 100000 # ua\n",
    "\n",
    "x_mesh = np.linspace(0, length, 17)  # Mesh for bvp_solve\n",
    "\n",
    "t_max = 6\n",
    "t_min = 1"
   ]
  },
  {
   "cell_type": "code",
   "execution_count": 7,
   "metadata": {},
   "outputs": [],
   "source": [
    "resistivity_upper_limit = length/t_min\n",
    "resistivity_lower_limit = length/t_max\n",
    "\n",
    "stress_upper_limit = E_Young* 3* t_max*delta/length**2 / 2\n",
    "stress_lower_limit = E_Young* 3* t_min*delta/length**2 / 2"
   ]
  },
  {
   "cell_type": "code",
   "execution_count": 8,
   "metadata": {},
   "outputs": [
    {
     "data": {
      "text/plain": [
       "16.666666666666668"
      ]
     },
     "execution_count": 8,
     "metadata": {},
     "output_type": "execute_result"
    }
   ],
   "source": [
    "resistivity_lower_limit"
   ]
  },
  {
   "cell_type": "code",
   "execution_count": 9,
   "metadata": {},
   "outputs": [],
   "source": [
    "class Beam():\n",
    "    \n",
    "    def __init__(self, thickness_values):\n",
    "        ''' Define a beam\n",
    "            \n",
    "            thickness_values: list of thickness values uniformly distributed between 0 and x=length\n",
    "        '''\n",
    "        self.thickness_values = thickness_values\n",
    "        \n",
    "        self.x_spline = np.linspace(0, length, len(thickness_values))\n",
    "\n",
    "        self.thickness = CubicSpline(self.x_spline, thickness_values,\n",
    "                                    bc_type=('natural', 'natural'))#'clamped'))\n",
    "        R, err = quad(lambda x:1/self.thickness(x, nu=0),\n",
    "                                0, length)\n",
    "        self.resistivity = R #float(self.thickness.integrate(0, length))\n",
    "        self.solve_meca()\n",
    "        \n",
    "    def flex(self, x):\n",
    "        ''' Variable flexural rigidity and its derivatives '''\n",
    "        E = E_Young / 12\n",
    "        t = self.thickness(x, nu=0)\n",
    "        dtdx = self.thickness(x, nu=1)\n",
    "        \n",
    "        D = E * t**3 \n",
    "        dD_dx = E * 3*t**2 * dtdx\n",
    "        d2D_dx2 = E*( 6*t*dtdx**2 + 3*t**2 * self.thickness(x, nu=2) )\n",
    "        \n",
    "        return D, dD_dx, d2D_dx2\n",
    "  \n",
    "\n",
    "    def solve_meca(self):\n",
    "        \n",
    "        def dU_dx(x, U):\n",
    "            w = U[0]\n",
    "            dw_dx = U[1]\n",
    "            d2w_dx2 = U[2]\n",
    "            d3w_dx3 = U[3]\n",
    "\n",
    "            D, dD_dx, d2D_dx2 = self.flex(x)\n",
    "            d4w_dx4 = ( -d2D_dx2*d2w_dx2 -2*dD_dx*d3w_dx3 )/D\n",
    "            return np.vstack((dw_dx, d2w_dx2, d3w_dx3, d4w_dx4))\n",
    "        \n",
    "        def boundary_conditions(ya, yb):\n",
    "            return np.array([ya[0],  # w(0) = 0\n",
    "                             ya[1],  # w'(0) = 0\n",
    "                             yb[0] - delta, # w(L) = delta\n",
    "                             yb[2]])  # w''(L) = 0\n",
    "        \n",
    "        U_zero = np.ones((4, x_mesh.size))\n",
    "        sol = solve_bvp(dU_dx, boundary_conditions,\n",
    "                    x_mesh, U_zero)\n",
    "        \n",
    "        self.x = sol.x\n",
    "        self.w = sol.y[0]\n",
    "        self.k = sol.y[2]\n",
    "        \n",
    "        self.sigma =  E_Young * sol.y[2] * self.thickness(self.x)/2\n",
    "        \n",
    "        res = minimize_scalar(lambda x:-sol.sol(x)[2]*self.thickness(x)/2*E_Young,\n",
    "                                         bounds=[0, length], method='Bounded')\n",
    "        self.max_stress = -res.fun\n",
    "        \n",
    "        return sol\n",
    "    \n",
    "    \n",
    "    def merite(self):\n",
    "\n",
    "        return ((self.resistivity-resistivity_lower_limit)/(resistivity_upper_limit-resistivity_lower_limit),\n",
    "               (self.max_stress- stress_lower_limit)/(stress_upper_limit -  stress_lower_limit))"
   ]
  },
  {
   "cell_type": "markdown",
   "metadata": {},
   "source": [
    "## Define variable flexural rigidity"
   ]
  },
  {
   "cell_type": "code",
   "execution_count": 10,
   "metadata": {},
   "outputs": [],
   "source": [
    "b_ref = Beam((6, 6))\n",
    "b_half_lin = Beam((3, 6))\n",
    "b_half_const = Beam((3, 3))"
   ]
  },
  {
   "cell_type": "code",
   "execution_count": 11,
   "metadata": {},
   "outputs": [
    {
     "data": {
      "text/plain": [
       "(0.0, 0.999999944852803)"
      ]
     },
     "execution_count": 11,
     "metadata": {},
     "output_type": "execute_result"
    }
   ],
   "source": [
    "b_ref.merite()"
   ]
  },
  {
   "cell_type": "code",
   "execution_count": 12,
   "metadata": {},
   "outputs": [],
   "source": [
    "from scipy.optimize import minimize"
   ]
  },
  {
   "cell_type": "code",
   "execution_count": 13,
   "metadata": {},
   "outputs": [],
   "source": [
    "def fun(points):\n",
    "    resistivity, stress = Beam(points).merite()\n",
    "    \n",
    "    return resistivity**2 + stress**2"
   ]
  },
  {
   "cell_type": "code",
   "execution_count": 53,
   "metadata": {},
   "outputs": [
    {
     "ename": "NameError",
     "evalue": "name 'res' is not defined",
     "output_type": "error",
     "traceback": [
      "\u001b[0;31m---------------------------------------------------------------------------\u001b[0m",
      "\u001b[0;31mNameError\u001b[0m                                 Traceback (most recent call last)",
      "\u001b[0;32m<ipython-input-53-555e922dbd17>\u001b[0m in \u001b[0;36m<module>\u001b[0;34m\u001b[0m\n\u001b[0;32m----> 1\u001b[0;31m \u001b[0mopti\u001b[0m \u001b[0;34m=\u001b[0m \u001b[0mres\u001b[0m\u001b[0;34m.\u001b[0m\u001b[0mx\u001b[0m\u001b[0;34m\u001b[0m\u001b[0m\n\u001b[0m\u001b[1;32m      2\u001b[0m \u001b[0;34m\u001b[0m\u001b[0m\n\u001b[1;32m      3\u001b[0m \u001b[0mopti_beam\u001b[0m \u001b[0;34m=\u001b[0m \u001b[0mBeam\u001b[0m\u001b[0;34m(\u001b[0m\u001b[0mopti\u001b[0m\u001b[0;34m)\u001b[0m\u001b[0;34m\u001b[0m\u001b[0m\n\u001b[1;32m      4\u001b[0m \u001b[0;34m\u001b[0m\u001b[0m\n\u001b[1;32m      5\u001b[0m \u001b[0mplt\u001b[0m\u001b[0;34m.\u001b[0m\u001b[0mplot\u001b[0m\u001b[0;34m(\u001b[0m\u001b[0mx_mesh\u001b[0m\u001b[0;34m,\u001b[0m \u001b[0mopti_beam\u001b[0m\u001b[0;34m.\u001b[0m\u001b[0mthickness\u001b[0m\u001b[0;34m(\u001b[0m\u001b[0mx_mesh\u001b[0m\u001b[0;34m)\u001b[0m\u001b[0;34m,\u001b[0m \u001b[0;34m'-+'\u001b[0m\u001b[0;34m,\u001b[0m \u001b[0mlabel\u001b[0m\u001b[0;34m=\u001b[0m\u001b[0;34m'opti'\u001b[0m\u001b[0;34m)\u001b[0m\u001b[0;34m;\u001b[0m\u001b[0;34m\u001b[0m\u001b[0m\n",
      "\u001b[0;31mNameError\u001b[0m: name 'res' is not defined"
     ]
    }
   ],
   "source": [
    "opti = res.x\n",
    "\n",
    "opti_beam = Beam(opti)\n",
    "\n",
    "plt.plot(x_mesh, opti_beam.thickness(x_mesh), '-+', label='opti');\n",
    "plt.axhline(y=0);"
   ]
  },
  {
   "cell_type": "code",
   "execution_count": 27,
   "metadata": {},
   "outputs": [
    {
     "data": {
      "image/png": "[encoded data removed]",
      "text/plain": [
       "<Figure size 288x288 with 1 Axes>"
      ]
     },
     "metadata": {
      "needs_background": "light"
     },
     "output_type": "display_data"
    }
   ],
   "source": [
    "plt.figure(figsize=(4, 4))\n",
    "plt.plot(*Beam((6, 6)).merite(), 'sr', label='thick');\n",
    "plt.plot(*Beam((1, 1)).merite(), 'or', label='thin');\n",
    "\n",
    "plt.plot(*Beam((6, 1)).merite(), '^k', label='6-->1');\n",
    "plt.plot(*Beam((1, 6)).merite(), 'vb', label='thin-->thick');\n",
    "\n",
    "# plt.plot(*Beam((6, 4, 1)).merite(), 'go', label='thin-->thick');\n",
    "plt.plot(*Beam((6, 1.833)).merite(), 'ro', label='1param opti');\n",
    "\n",
    "plt.plot(*Beam((4, 1)).merite(), 'mo', label='1param opti');\n",
    "\n",
    "plt.plot(*Beam((2.25, 2.15, 6)).merite(), 'mx', label='it 3');\n",
    "\n",
    "plt.plot(*Beam((2.25, 6.0, 4.125, 5.375)).merite(), 'mx', label='it 4');\n",
    "#opti = [5.63575023, 5.44580001, 4.81664833, 1.75389989, 5.08693129,1.40826336]\n",
    "#plt.plot(*Beam(opti).merite(), 'or', label='opti');\n",
    "\n",
    "plt.legend();\n",
    "plt.ylabel('max stress'); plt.xlabel('resistivity');\n",
    "#plt.xlim([0, 1]); plt.ylim([0, 1]);\n",
    "plt.plot([0, 1], [1, 0], '--k');"
   ]
  },
  {
   "cell_type": "markdown",
   "metadata": {},
   "source": [
    "### One parameter minimization:"
   ]
  },
  {
   "cell_type": "code",
   "execution_count": 15,
   "metadata": {},
   "outputs": [
    {
     "name": "stdout",
     "output_type": "stream",
     "text": [
      "1.8333333333333335 0.205952766373622\n"
     ]
    },
    {
     "data": {
      "image/png": "[encoded data removed]",
      "text/plain": [
       "<Figure size 432x288 with 1 Axes>"
      ]
     },
     "metadata": {
      "needs_background": "light"
     },
     "output_type": "display_data"
    }
   ],
   "source": [
    "t_intermediate = np.linspace(1, 6, 25)\n",
    "u = [fun((6, p)) for p in t_intermediate ]\n",
    "\n",
    "plt.plot(t_intermediate, u, 'r-o');\n",
    "print(t_intermediate[np.argmin(u)], min(u))"
   ]
  },
  {
   "cell_type": "code",
   "execution_count": 61,
   "metadata": {},
   "outputs": [
    {
     "name": "stdout",
     "output_type": "stream",
     "text": [
      "4.125 0.17424954629779432\n"
     ]
    },
    {
     "data": {
      "image/png": "[encoded data removed]",
      "text/plain": [
       "<Figure size 432x288 with 1 Axes>"
      ]
     },
     "metadata": {
      "needs_background": "light"
     },
     "output_type": "display_data"
    }
   ],
   "source": [
    "t_intermediate = np.linspace(1, 6, 25)\n",
    "u = [fun((p, 1)) for p in t_intermediate ]\n",
    "\n",
    "plt.plot(t_intermediate, u, 'r-o');\n",
    "print(t_intermediate[np.argmin(u)], min(u))"
   ]
  },
  {
   "cell_type": "markdown",
   "metadata": {},
   "source": [
    "6, 2.428571428571429:  0.3417313126626329"
   ]
  },
  {
   "cell_type": "code",
   "execution_count": 25,
   "metadata": {},
   "outputs": [
    {
     "data": {
      "image/png": "[encoded data removed]",
      "text/plain": [
       "<Figure size 432x288 with 1 Axes>"
      ]
     },
     "metadata": {
      "needs_background": "light"
     },
     "output_type": "display_data"
    }
   ],
   "source": [
    "opti_beam = Beam((2.25, 6.0, 4.125, 5.375))\n",
    "\n",
    "plt.plot(x_mesh, opti_beam.thickness(x_mesh), '-+', label='opti');\n",
    "plt.axhline(y=0);"
   ]
  },
  {
   "cell_type": "code",
   "execution_count": 16,
   "metadata": {},
   "outputs": [
    {
     "data": {
      "text/plain": [
       "1.1989994772363783"
      ]
     },
     "execution_count": 16,
     "metadata": {},
     "output_type": "execute_result"
    }
   ],
   "source": [
    "fun((6, 6, 1, 6, 6))"
   ]
  },
  {
   "cell_type": "code",
   "execution_count": 17,
   "metadata": {},
   "outputs": [],
   "source": [
    "import itertools as it"
   ]
  },
  {
   "cell_type": "code",
   "execution_count": 31,
   "metadata": {},
   "outputs": [
    {
     "name": "stdout",
     "output_type": "stream",
     "text": [
      "(1.0, 1.0, 1.0, 4.333333333333334, 6.0, 2.666666666666667) \t 0.2907475435152213\n",
      "(1.0, 1.0, 2.666666666666667, 2.666666666666667, 2.666666666666667, 2.666666666666667) \t 0.25599255066474114\n",
      "(1.0, 1.0, 2.666666666666667, 2.666666666666667, 2.666666666666667, 4.333333333333334) \t 0.24118068284030272\n",
      "(1.0, 1.0, 2.666666666666667, 2.666666666666667, 2.666666666666667, 6.0) \t 0.23443493174255664\n",
      "(1.0, 1.0, 2.666666666666667, 2.666666666666667, 4.333333333333334, 2.666666666666667) \t 0.21827703465991502\n",
      "(1.0, 1.0, 2.666666666666667, 2.666666666666667, 4.333333333333334, 4.333333333333334) \t 0.2085146584069813\n",
      "(1.0, 1.0, 2.666666666666667, 2.666666666666667, 4.333333333333334, 6.0) \t 0.20376970860533328\n",
      "(1.0, 1.0, 2.666666666666667, 2.666666666666667, 6.0, 2.666666666666667) \t 0.20319082524512377\n",
      "(1.0, 1.0, 2.666666666666667, 2.666666666666667, 6.0, 4.333333333333334) \t 0.19612577835971437\n",
      "(1.0, 1.0, 2.666666666666667, 2.666666666666667, 6.0, 6.0) \t 0.19090285597125078\n",
      "(1.0, 1.0, 2.666666666666667, 4.333333333333334, 4.333333333333334, 2.666666666666667) \t 0.18695969958016026\n",
      "(1.0, 1.0, 2.666666666666667, 4.333333333333334, 4.333333333333334, 4.333333333333334) \t 0.17416326689049338\n",
      "(1.0, 1.0, 2.666666666666667, 4.333333333333334, 4.333333333333334, 6.0) \t 0.16521357668683648\n",
      "(1.0, 1.0, 2.666666666666667, 4.333333333333334, 6.0, 4.333333333333334) \t 0.16031769518979955\n",
      "(1.0, 1.0, 2.666666666666667, 4.333333333333334, 6.0, 6.0) \t 0.1595967581028396\n",
      "(1.0, 1.0, 2.666666666666667, 6.0, 4.333333333333334, 4.333333333333334) \t 0.15344664860052432\n",
      "(1.0, 1.0, 2.666666666666667, 6.0, 6.0, 4.333333333333334) \t 0.15070471874629815\n",
      "(1.0, 1.0, 2.666666666666667, 6.0, 6.0, 6.0) \t 0.14152424023233356\n",
      "......................................................................."
     ]
    },
    {
     "name": "stderr",
     "output_type": "stream",
     "text": [
      "/home/etienne/Projets/py3/lib/python3.5/site-packages/ipykernel_launcher.py:15: IntegrationWarning: The integral is probably divergent, or slowly convergent.\n",
      "  from ipykernel import kernelapp as app\n"
     ]
    },
    {
     "name": "stdout",
     "output_type": "stream",
     "text": [
      "(1.0, 2.666666666666667, 1.0, 6.0, 6.0, 1.0) \t 0.13074719519429875\n",
      "(1.0, 2.666666666666667, 1.0, 6.0, 6.0, 2.666666666666667) \t 0.12149767167287581\n",
      "(1.0, 2.666666666666667, 1.0, 6.0, 6.0, 4.333333333333334) \t 0.11618965079537713\n",
      "(1.0, 2.666666666666667, 1.0, 6.0, 6.0, 6.0) \t 0.11323522692966996\n",
      "(1.0, 2.666666666666667, 2.666666666666667, 4.333333333333334, 1.0, 6.0) \t 0.10481045975734811\n",
      "(1.0, 2.666666666666667, 2.666666666666667, 6.0, 1.0, 6.0) \t 0.09536949501793998\n",
      "(1.0, 2.666666666666667, 2.666666666666667, 6.0, 2.666666666666667, 1.0) \t 0.09173781289156856\n",
      "(1.0, 2.666666666666667, 2.666666666666667, 6.0, 2.666666666666667, 2.666666666666667) \t 0.060404341537228824\n",
      "(1.0, 2.666666666666667, 2.666666666666667, 6.0, 2.666666666666667, 4.333333333333334) \t 0.04962356139239631\n",
      "(1.0, 2.666666666666667, 2.666666666666667, 6.0, 2.666666666666667, 6.0) \t 0.04518010154362063\n",
      "(1.0, 2.666666666666667, 2.666666666666667, 6.0, 4.333333333333334, 2.666666666666667) \t 0.039818117379541954\n",
      "(1.0, 2.666666666666667, 2.666666666666667, 6.0, 4.333333333333334, 4.333333333333334) \t 0.034972795107316205\n",
      "(1.0, 2.666666666666667, 2.666666666666667, 6.0, 4.333333333333334, 6.0) \t 0.03269968794414601\n",
      "(1.0, 2.666666666666667, 2.666666666666667, 6.0, 6.0, 2.666666666666667) \t 0.032094379669290664\n",
      "(1.0, 2.666666666666667, 2.666666666666667, 6.0, 6.0, 4.333333333333334) \t 0.02823081229955238\n",
      "(1.0, 2.666666666666667, 2.666666666666667, 6.0, 6.0, 6.0) \t 0.028003878949191888\n",
      "(1.0, 4.333333333333334, 4.333333333333334, 2.666666666666667, 4.333333333333334, 6.0) \t 0.02470893030984866\n",
      "(1.0, 4.333333333333334, 6.0, 2.666666666666667, 4.333333333333334, 2.666666666666667) \t 0.021834546061879866\n",
      "(1.0, 4.333333333333334, 6.0, 2.666666666666667, 4.333333333333334, 4.333333333333334) \t 0.01923755948346639\n",
      "(1.0, 4.333333333333334, 6.0, 2.666666666666667, 4.333333333333334, 6.0) \t 0.018873325156362853\n",
      "(1.0, 4.333333333333334, 6.0, 2.666666666666667, 6.0, 2.666666666666667) \t 0.015499590137367967\n",
      "(1.0, 4.333333333333334, 6.0, 2.666666666666667, 6.0, 4.333333333333334) \t 0.013596069056297825\n",
      ".................................................."
     ]
    },
    {
     "name": "stderr",
     "output_type": "stream",
     "text": [
      "/home/etienne/Projets/py3/lib/python3.5/site-packages/ipykernel_launcher.py:15: IntegrationWarning: The maximum number of subdivisions (50) has been achieved.\n",
      "  If increasing the limit yields no improvement it is advised to analyze \n",
      "  the integrand in order to determine the difficulties.  If the position of a \n",
      "  local difficulty can be determined (singularity, discontinuity) one will \n",
      "  probably gain from splitting up the interval and calling the integrator \n",
      "  on the subranges.  Perhaps a special-purpose integrator should be used.\n",
      "  from ipykernel import kernelapp as app\n"
     ]
    },
    {
     "name": "stdout",
     "output_type": "stream",
     "text": [
      "(1.0, 6.0, 6.0, 4.333333333333334, 4.333333333333334, 1.0) \t 0.013460429262800727\n",
      "(1.0, 6.0, 6.0, 4.333333333333334, 4.333333333333334, 2.666666666666667) \t 0.008431356970781461\n",
      "(1.0, 6.0, 6.0, 4.333333333333334, 4.333333333333334, 4.333333333333334) \t 0.006597631586557991\n",
      "(1.0, 6.0, 6.0, 4.333333333333334, 4.333333333333334, 6.0) \t 0.005879933613196786\n",
      "(1.0, 6.0, 6.0, 4.333333333333334, 6.0, 6.0) \t 0.0050492101735439\n",
      "(2.666666666666667, 4.333333333333334, 6.0, 4.333333333333334, 6.0, 4.333333333333334) \t 0.0045972607820709745\n",
      "(2.666666666666667, 4.333333333333334, 6.0, 4.333333333333334, 6.0, 6.0) \t 0.004205664634457144\n",
      "................................................................................................................................................................................................................................................................................................................................................................................................................................................................................................................................................................................................................................................................................................................................................................................................................................................................................................................................................................................................................................................................................................................................................................................................................................................................................................................................................................................................."
     ]
    },
    {
     "name": "stderr",
     "output_type": "stream",
     "text": [
      "/home/etienne/Projets/py3/lib/python3.5/site-packages/scipy/integrate/_bvp.py:1082: RuntimeWarning: invalid value encountered in true_divide\n",
      "  r_middle = 1.5 * col_res / h\n",
      "/home/etienne/Projets/py3/lib/python3.5/site-packages/scipy/integrate/_bvp.py:595: RuntimeWarning: invalid value encountered in true_divide\n",
      "  slope = (y[:, 1:] - y[:, :-1]) / h\n",
      "/home/etienne/Projets/py3/lib/python3.5/site-packages/scipy/integrate/_bvp.py:1092: RuntimeWarning: invalid value encountered in greater\n",
      "  insert_1, = np.nonzero((rms_res > tol) & (rms_res < 100 * tol))\n",
      "/home/etienne/Projets/py3/lib/python3.5/site-packages/scipy/integrate/_bvp.py:1092: RuntimeWarning: invalid value encountered in less\n",
      "  insert_1, = np.nonzero((rms_res > tol) & (rms_res < 100 * tol))\n",
      "/home/etienne/Projets/py3/lib/python3.5/site-packages/scipy/integrate/_bvp.py:1093: RuntimeWarning: invalid value encountered in greater_equal\n",
      "  insert_2, = np.nonzero(rms_res >= 100 * tol)\n"
     ]
    },
    {
     "name": "stdout",
     "output_type": "stream",
     "text": [
      "(6.0, 2.666666666666667, 6.0, 4.333333333333334, 6.0, 6.0) \t 0.004049169326154605\n",
      "................................................................................................................................................................................................................................................................................................................................................................................................................................................................................................................................................done\n"
     ]
    }
   ],
   "source": [
    "min_value = 0.3\n",
    "for points in it.product(np.linspace(1, 6, 4), repeat=6):\n",
    "    padded_points = points\n",
    "    score = fun(padded_points)\n",
    "    print('.', end='')\n",
    "    if score < min_value:\n",
    "        print('\\r', end='')\n",
    "        print(padded_points, '\\t', score)\n",
    "        min_value = score\n",
    "        \n",
    "print('done')"
   ]
  },
  {
   "cell_type": "code",
   "execution_count": 69,
   "metadata": {},
   "outputs": [
    {
     "name": "stderr",
     "output_type": "stream",
     "text": [
      "/home/etienne/Projets/py3/lib/python3.5/site-packages/ipykernel_launcher.py:15: IntegrationWarning: The integral is probably divergent, or slowly convergent.\n",
      "  from ipykernel import kernelapp as app\n",
      "/home/etienne/Projets/py3/lib/python3.5/site-packages/scipy/integrate/_bvp.py:1082: RuntimeWarning: invalid value encountered in true_divide\n",
      "  r_middle = 1.5 * col_res / h\n",
      "/home/etienne/Projets/py3/lib/python3.5/site-packages/scipy/integrate/_bvp.py:595: RuntimeWarning: invalid value encountered in true_divide\n",
      "  slope = (y[:, 1:] - y[:, :-1]) / h\n",
      "/home/etienne/Projets/py3/lib/python3.5/site-packages/scipy/integrate/_bvp.py:1092: RuntimeWarning: invalid value encountered in greater\n",
      "  insert_1, = np.nonzero((rms_res > tol) & (rms_res < 100 * tol))\n",
      "/home/etienne/Projets/py3/lib/python3.5/site-packages/scipy/integrate/_bvp.py:1092: RuntimeWarning: invalid value encountered in less\n",
      "  insert_1, = np.nonzero((rms_res > tol) & (rms_res < 100 * tol))\n",
      "/home/etienne/Projets/py3/lib/python3.5/site-packages/scipy/integrate/_bvp.py:1093: RuntimeWarning: invalid value encountered in greater_equal\n",
      "  insert_2, = np.nonzero(rms_res >= 100 * tol)\n",
      "/home/etienne/Projets/py3/lib/python3.5/site-packages/ipykernel_launcher.py:41: RuntimeWarning: invalid value encountered in true_divide\n",
      "/home/etienne/Projets/py3/lib/python3.5/site-packages/ipykernel_launcher.py:15: IntegrationWarning: The maximum number of subdivisions (50) has been achieved.\n",
      "  If increasing the limit yields no improvement it is advised to analyze \n",
      "  the integrand in order to determine the difficulties.  If the position of a \n",
      "  local difficulty can be determined (singularity, discontinuity) one will \n",
      "  probably gain from splitting up the interval and calling the integrator \n",
      "  on the subranges.  Perhaps a special-purpose integrator should be used.\n",
      "  from ipykernel import kernelapp as app\n"
     ]
    },
    {
     "ename": "KeyboardInterrupt",
     "evalue": "",
     "output_type": "error",
     "traceback": [
      "\u001b[0;31m---------------------------------------------------------------------------\u001b[0m",
      "\u001b[0;31mKeyboardInterrupt\u001b[0m                         Traceback (most recent call last)",
      "\u001b[0;32m<ipython-input-69-3aba7b205d19>\u001b[0m in \u001b[0;36m<module>\u001b[0;34m\u001b[0m\n\u001b[0;32m----> 1\u001b[0;31m \u001b[0mminimize\u001b[0m\u001b[0;34m(\u001b[0m\u001b[0mfun\u001b[0m\u001b[0;34m,\u001b[0m \u001b[0mpadded_points\u001b[0m\u001b[0;34m,\u001b[0m \u001b[0mmethod\u001b[0m\u001b[0;34m=\u001b[0m\u001b[0;34m'Powell'\u001b[0m\u001b[0;34m)\u001b[0m\u001b[0;34m\u001b[0m\u001b[0m\n\u001b[0m",
      "\u001b[0;32m~/Projets/py3/lib/python3.5/site-packages/scipy/optimize/_minimize.py\u001b[0m in \u001b[0;36mminimize\u001b[0;34m(fun, x0, args, method, jac, hess, hessp, bounds, constraints, tol, callback, options)\u001b[0m\n\u001b[1;32m    589\u001b[0m         \u001b[0;32mreturn\u001b[0m \u001b[0m_minimize_neldermead\u001b[0m\u001b[0;34m(\u001b[0m\u001b[0mfun\u001b[0m\u001b[0;34m,\u001b[0m \u001b[0mx0\u001b[0m\u001b[0;34m,\u001b[0m \u001b[0margs\u001b[0m\u001b[0;34m,\u001b[0m \u001b[0mcallback\u001b[0m\u001b[0;34m,\u001b[0m \u001b[0;34m**\u001b[0m\u001b[0moptions\u001b[0m\u001b[0;34m)\u001b[0m\u001b[0;34m\u001b[0m\u001b[0m\n\u001b[1;32m    590\u001b[0m     \u001b[0;32melif\u001b[0m \u001b[0mmeth\u001b[0m \u001b[0;34m==\u001b[0m \u001b[0;34m'powell'\u001b[0m\u001b[0;34m:\u001b[0m\u001b[0;34m\u001b[0m\u001b[0m\n\u001b[0;32m--> 591\u001b[0;31m         \u001b[0;32mreturn\u001b[0m \u001b[0m_minimize_powell\u001b[0m\u001b[0;34m(\u001b[0m\u001b[0mfun\u001b[0m\u001b[0;34m,\u001b[0m \u001b[0mx0\u001b[0m\u001b[0;34m,\u001b[0m \u001b[0margs\u001b[0m\u001b[0;34m,\u001b[0m \u001b[0mcallback\u001b[0m\u001b[0;34m,\u001b[0m \u001b[0;34m**\u001b[0m\u001b[0moptions\u001b[0m\u001b[0;34m)\u001b[0m\u001b[0;34m\u001b[0m\u001b[0m\n\u001b[0m\u001b[1;32m    592\u001b[0m     \u001b[0;32melif\u001b[0m \u001b[0mmeth\u001b[0m \u001b[0;34m==\u001b[0m \u001b[0;34m'cg'\u001b[0m\u001b[0;34m:\u001b[0m\u001b[0;34m\u001b[0m\u001b[0m\n\u001b[1;32m    593\u001b[0m         \u001b[0;32mreturn\u001b[0m \u001b[0m_minimize_cg\u001b[0m\u001b[0;34m(\u001b[0m\u001b[0mfun\u001b[0m\u001b[0;34m,\u001b[0m \u001b[0mx0\u001b[0m\u001b[0;34m,\u001b[0m \u001b[0margs\u001b[0m\u001b[0;34m,\u001b[0m \u001b[0mjac\u001b[0m\u001b[0;34m,\u001b[0m \u001b[0mcallback\u001b[0m\u001b[0;34m,\u001b[0m \u001b[0;34m**\u001b[0m\u001b[0moptions\u001b[0m\u001b[0;34m)\u001b[0m\u001b[0;34m\u001b[0m\u001b[0m\n",
      "\u001b[0;32m~/Projets/py3/lib/python3.5/site-packages/scipy/optimize/optimize.py\u001b[0m in \u001b[0;36m_minimize_powell\u001b[0;34m(func, x0, args, callback, xtol, ftol, maxiter, maxfev, disp, direc, return_all, **unknown_options)\u001b[0m\n\u001b[1;32m   2577\u001b[0m             \u001b[0mfx2\u001b[0m \u001b[0;34m=\u001b[0m \u001b[0mfval\u001b[0m\u001b[0;34m\u001b[0m\u001b[0m\n\u001b[1;32m   2578\u001b[0m             fval, x, direc1 = _linesearch_powell(func, x, direc1,\n\u001b[0;32m-> 2579\u001b[0;31m                                                  tol=xtol * 100)\n\u001b[0m\u001b[1;32m   2580\u001b[0m             \u001b[0;32mif\u001b[0m \u001b[0;34m(\u001b[0m\u001b[0mfx2\u001b[0m \u001b[0;34m-\u001b[0m \u001b[0mfval\u001b[0m\u001b[0;34m)\u001b[0m \u001b[0;34m>\u001b[0m \u001b[0mdelta\u001b[0m\u001b[0;34m:\u001b[0m\u001b[0;34m\u001b[0m\u001b[0m\n\u001b[1;32m   2581\u001b[0m                 \u001b[0mdelta\u001b[0m \u001b[0;34m=\u001b[0m \u001b[0mfx2\u001b[0m \u001b[0;34m-\u001b[0m \u001b[0mfval\u001b[0m\u001b[0;34m\u001b[0m\u001b[0m\n",
      "\u001b[0;32m~/Projets/py3/lib/python3.5/site-packages/scipy/optimize/optimize.py\u001b[0m in \u001b[0;36m_linesearch_powell\u001b[0;34m(func, p, xi, tol)\u001b[0m\n\u001b[1;32m   2370\u001b[0m     \u001b[0;32mdef\u001b[0m \u001b[0mmyfunc\u001b[0m\u001b[0;34m(\u001b[0m\u001b[0malpha\u001b[0m\u001b[0;34m)\u001b[0m\u001b[0;34m:\u001b[0m\u001b[0;34m\u001b[0m\u001b[0m\n\u001b[1;32m   2371\u001b[0m         \u001b[0;32mreturn\u001b[0m \u001b[0mfunc\u001b[0m\u001b[0;34m(\u001b[0m\u001b[0mp\u001b[0m \u001b[0;34m+\u001b[0m \u001b[0malpha\u001b[0m\u001b[0;34m*\u001b[0m\u001b[0mxi\u001b[0m\u001b[0;34m)\u001b[0m\u001b[0;34m\u001b[0m\u001b[0m\n\u001b[0;32m-> 2372\u001b[0;31m     \u001b[0malpha_min\u001b[0m\u001b[0;34m,\u001b[0m \u001b[0mfret\u001b[0m\u001b[0;34m,\u001b[0m \u001b[0miter\u001b[0m\u001b[0;34m,\u001b[0m \u001b[0mnum\u001b[0m \u001b[0;34m=\u001b[0m \u001b[0mbrent\u001b[0m\u001b[0;34m(\u001b[0m\u001b[0mmyfunc\u001b[0m\u001b[0;34m,\u001b[0m \u001b[0mfull_output\u001b[0m\u001b[0;34m=\u001b[0m\u001b[0;36m1\u001b[0m\u001b[0;34m,\u001b[0m \u001b[0mtol\u001b[0m\u001b[0;34m=\u001b[0m\u001b[0mtol\u001b[0m\u001b[0;34m)\u001b[0m\u001b[0;34m\u001b[0m\u001b[0m\n\u001b[0m\u001b[1;32m   2373\u001b[0m     \u001b[0mxi\u001b[0m \u001b[0;34m=\u001b[0m \u001b[0malpha_min\u001b[0m\u001b[0;34m*\u001b[0m\u001b[0mxi\u001b[0m\u001b[0;34m\u001b[0m\u001b[0m\n\u001b[1;32m   2374\u001b[0m     \u001b[0;32mreturn\u001b[0m \u001b[0msqueeze\u001b[0m\u001b[0;34m(\u001b[0m\u001b[0mfret\u001b[0m\u001b[0;34m)\u001b[0m\u001b[0;34m,\u001b[0m \u001b[0mp\u001b[0m \u001b[0;34m+\u001b[0m \u001b[0mxi\u001b[0m\u001b[0;34m,\u001b[0m \u001b[0mxi\u001b[0m\u001b[0;34m\u001b[0m\u001b[0m\n",
      "\u001b[0;32m~/Projets/py3/lib/python3.5/site-packages/scipy/optimize/optimize.py\u001b[0m in \u001b[0;36mbrent\u001b[0;34m(func, args, brack, tol, full_output, maxiter)\u001b[0m\n\u001b[1;32m   2081\u001b[0m     options = {'xtol': tol,\n\u001b[1;32m   2082\u001b[0m                'maxiter': maxiter}\n\u001b[0;32m-> 2083\u001b[0;31m     \u001b[0mres\u001b[0m \u001b[0;34m=\u001b[0m \u001b[0m_minimize_scalar_brent\u001b[0m\u001b[0;34m(\u001b[0m\u001b[0mfunc\u001b[0m\u001b[0;34m,\u001b[0m \u001b[0mbrack\u001b[0m\u001b[0;34m,\u001b[0m \u001b[0margs\u001b[0m\u001b[0;34m,\u001b[0m \u001b[0;34m**\u001b[0m\u001b[0moptions\u001b[0m\u001b[0;34m)\u001b[0m\u001b[0;34m\u001b[0m\u001b[0m\n\u001b[0m\u001b[1;32m   2084\u001b[0m     \u001b[0;32mif\u001b[0m \u001b[0mfull_output\u001b[0m\u001b[0;34m:\u001b[0m\u001b[0;34m\u001b[0m\u001b[0m\n\u001b[1;32m   2085\u001b[0m         \u001b[0;32mreturn\u001b[0m \u001b[0mres\u001b[0m\u001b[0;34m[\u001b[0m\u001b[0;34m'x'\u001b[0m\u001b[0;34m]\u001b[0m\u001b[0;34m,\u001b[0m \u001b[0mres\u001b[0m\u001b[0;34m[\u001b[0m\u001b[0;34m'fun'\u001b[0m\u001b[0;34m]\u001b[0m\u001b[0;34m,\u001b[0m \u001b[0mres\u001b[0m\u001b[0;34m[\u001b[0m\u001b[0;34m'nit'\u001b[0m\u001b[0;34m]\u001b[0m\u001b[0;34m,\u001b[0m \u001b[0mres\u001b[0m\u001b[0;34m[\u001b[0m\u001b[0;34m'nfev'\u001b[0m\u001b[0;34m]\u001b[0m\u001b[0;34m\u001b[0m\u001b[0m\n",
      "\u001b[0;32m~/Projets/py3/lib/python3.5/site-packages/scipy/optimize/optimize.py\u001b[0m in \u001b[0;36m_minimize_scalar_brent\u001b[0;34m(func, brack, args, xtol, maxiter, **unknown_options)\u001b[0m\n\u001b[1;32m   2113\u001b[0m                   full_output=True, maxiter=maxiter)\n\u001b[1;32m   2114\u001b[0m     \u001b[0mbrent\u001b[0m\u001b[0;34m.\u001b[0m\u001b[0mset_bracket\u001b[0m\u001b[0;34m(\u001b[0m\u001b[0mbrack\u001b[0m\u001b[0;34m)\u001b[0m\u001b[0;34m\u001b[0m\u001b[0m\n\u001b[0;32m-> 2115\u001b[0;31m     \u001b[0mbrent\u001b[0m\u001b[0;34m.\u001b[0m\u001b[0moptimize\u001b[0m\u001b[0;34m(\u001b[0m\u001b[0;34m)\u001b[0m\u001b[0;34m\u001b[0m\u001b[0m\n\u001b[0m\u001b[1;32m   2116\u001b[0m     \u001b[0mx\u001b[0m\u001b[0;34m,\u001b[0m \u001b[0mfval\u001b[0m\u001b[0;34m,\u001b[0m \u001b[0mnit\u001b[0m\u001b[0;34m,\u001b[0m \u001b[0mnfev\u001b[0m \u001b[0;34m=\u001b[0m \u001b[0mbrent\u001b[0m\u001b[0;34m.\u001b[0m\u001b[0mget_result\u001b[0m\u001b[0;34m(\u001b[0m\u001b[0mfull_output\u001b[0m\u001b[0;34m=\u001b[0m\u001b[0;32mTrue\u001b[0m\u001b[0;34m)\u001b[0m\u001b[0;34m\u001b[0m\u001b[0m\n\u001b[1;32m   2117\u001b[0m     return OptimizeResult(fun=fval, x=x, nit=nit, nfev=nfev,\n",
      "\u001b[0;32m~/Projets/py3/lib/python3.5/site-packages/scipy/optimize/optimize.py\u001b[0m in \u001b[0;36moptimize\u001b[0;34m(self)\u001b[0m\n\u001b[1;32m   1897\u001b[0m         \u001b[0;31m# set up for optimization\u001b[0m\u001b[0;34m\u001b[0m\u001b[0;34m\u001b[0m\u001b[0m\n\u001b[1;32m   1898\u001b[0m         \u001b[0mfunc\u001b[0m \u001b[0;34m=\u001b[0m \u001b[0mself\u001b[0m\u001b[0;34m.\u001b[0m\u001b[0mfunc\u001b[0m\u001b[0;34m\u001b[0m\u001b[0m\n\u001b[0;32m-> 1899\u001b[0;31m         \u001b[0mxa\u001b[0m\u001b[0;34m,\u001b[0m \u001b[0mxb\u001b[0m\u001b[0;34m,\u001b[0m \u001b[0mxc\u001b[0m\u001b[0;34m,\u001b[0m \u001b[0mfa\u001b[0m\u001b[0;34m,\u001b[0m \u001b[0mfb\u001b[0m\u001b[0;34m,\u001b[0m \u001b[0mfc\u001b[0m\u001b[0;34m,\u001b[0m \u001b[0mfuncalls\u001b[0m \u001b[0;34m=\u001b[0m \u001b[0mself\u001b[0m\u001b[0;34m.\u001b[0m\u001b[0mget_bracket_info\u001b[0m\u001b[0;34m(\u001b[0m\u001b[0;34m)\u001b[0m\u001b[0;34m\u001b[0m\u001b[0m\n\u001b[0m\u001b[1;32m   1900\u001b[0m         \u001b[0m_mintol\u001b[0m \u001b[0;34m=\u001b[0m \u001b[0mself\u001b[0m\u001b[0;34m.\u001b[0m\u001b[0m_mintol\u001b[0m\u001b[0;34m\u001b[0m\u001b[0m\n\u001b[1;32m   1901\u001b[0m         \u001b[0m_cg\u001b[0m \u001b[0;34m=\u001b[0m \u001b[0mself\u001b[0m\u001b[0;34m.\u001b[0m\u001b[0m_cg\u001b[0m\u001b[0;34m\u001b[0m\u001b[0m\n",
      "\u001b[0;32m~/Projets/py3/lib/python3.5/site-packages/scipy/optimize/optimize.py\u001b[0m in \u001b[0;36mget_bracket_info\u001b[0;34m(self)\u001b[0m\n\u001b[1;32m   1871\u001b[0m         \u001b[0;31m### carefully DOCUMENT any CHANGES in core ##\u001b[0m\u001b[0;34m\u001b[0m\u001b[0;34m\u001b[0m\u001b[0m\n\u001b[1;32m   1872\u001b[0m         \u001b[0;32mif\u001b[0m \u001b[0mbrack\u001b[0m \u001b[0;32mis\u001b[0m \u001b[0;32mNone\u001b[0m\u001b[0;34m:\u001b[0m\u001b[0;34m\u001b[0m\u001b[0m\n\u001b[0;32m-> 1873\u001b[0;31m             \u001b[0mxa\u001b[0m\u001b[0;34m,\u001b[0m \u001b[0mxb\u001b[0m\u001b[0;34m,\u001b[0m \u001b[0mxc\u001b[0m\u001b[0;34m,\u001b[0m \u001b[0mfa\u001b[0m\u001b[0;34m,\u001b[0m \u001b[0mfb\u001b[0m\u001b[0;34m,\u001b[0m \u001b[0mfc\u001b[0m\u001b[0;34m,\u001b[0m \u001b[0mfuncalls\u001b[0m \u001b[0;34m=\u001b[0m \u001b[0mbracket\u001b[0m\u001b[0;34m(\u001b[0m\u001b[0mfunc\u001b[0m\u001b[0;34m,\u001b[0m \u001b[0margs\u001b[0m\u001b[0;34m=\u001b[0m\u001b[0margs\u001b[0m\u001b[0;34m)\u001b[0m\u001b[0;34m\u001b[0m\u001b[0m\n\u001b[0m\u001b[1;32m   1874\u001b[0m         \u001b[0;32melif\u001b[0m \u001b[0mlen\u001b[0m\u001b[0;34m(\u001b[0m\u001b[0mbrack\u001b[0m\u001b[0;34m)\u001b[0m \u001b[0;34m==\u001b[0m \u001b[0;36m2\u001b[0m\u001b[0;34m:\u001b[0m\u001b[0;34m\u001b[0m\u001b[0m\n\u001b[1;32m   1875\u001b[0m             xa, xb, xc, fa, fb, fc, funcalls = bracket(func, xa=brack[0],\n",
      "\u001b[0;32m~/Projets/py3/lib/python3.5/site-packages/scipy/optimize/optimize.py\u001b[0m in \u001b[0;36mbracket\u001b[0;34m(func, xa, xb, args, grow_limit, maxiter)\u001b[0m\n\u001b[1;32m   2302\u001b[0m         \u001b[0mfa\u001b[0m\u001b[0;34m,\u001b[0m \u001b[0mfb\u001b[0m \u001b[0;34m=\u001b[0m \u001b[0mfb\u001b[0m\u001b[0;34m,\u001b[0m \u001b[0mfa\u001b[0m\u001b[0;34m\u001b[0m\u001b[0m\n\u001b[1;32m   2303\u001b[0m     \u001b[0mxc\u001b[0m \u001b[0;34m=\u001b[0m \u001b[0mxb\u001b[0m \u001b[0;34m+\u001b[0m \u001b[0m_gold\u001b[0m \u001b[0;34m*\u001b[0m \u001b[0;34m(\u001b[0m\u001b[0mxb\u001b[0m \u001b[0;34m-\u001b[0m \u001b[0mxa\u001b[0m\u001b[0;34m)\u001b[0m\u001b[0;34m\u001b[0m\u001b[0m\n\u001b[0;32m-> 2304\u001b[0;31m     \u001b[0mfc\u001b[0m \u001b[0;34m=\u001b[0m \u001b[0mfunc\u001b[0m\u001b[0;34m(\u001b[0m\u001b[0;34m*\u001b[0m\u001b[0;34m(\u001b[0m\u001b[0;34m(\u001b[0m\u001b[0mxc\u001b[0m\u001b[0;34m,\u001b[0m\u001b[0;34m)\u001b[0m \u001b[0;34m+\u001b[0m \u001b[0margs\u001b[0m\u001b[0;34m)\u001b[0m\u001b[0;34m)\u001b[0m\u001b[0;34m\u001b[0m\u001b[0m\n\u001b[0m\u001b[1;32m   2305\u001b[0m     \u001b[0mfuncalls\u001b[0m \u001b[0;34m=\u001b[0m \u001b[0;36m3\u001b[0m\u001b[0;34m\u001b[0m\u001b[0m\n\u001b[1;32m   2306\u001b[0m     \u001b[0miter\u001b[0m \u001b[0;34m=\u001b[0m \u001b[0;36m0\u001b[0m\u001b[0;34m\u001b[0m\u001b[0m\n",
      "\u001b[0;32m~/Projets/py3/lib/python3.5/site-packages/scipy/optimize/optimize.py\u001b[0m in \u001b[0;36mmyfunc\u001b[0;34m(alpha)\u001b[0m\n\u001b[1;32m   2369\u001b[0m     \"\"\"\n\u001b[1;32m   2370\u001b[0m     \u001b[0;32mdef\u001b[0m \u001b[0mmyfunc\u001b[0m\u001b[0;34m(\u001b[0m\u001b[0malpha\u001b[0m\u001b[0;34m)\u001b[0m\u001b[0;34m:\u001b[0m\u001b[0;34m\u001b[0m\u001b[0m\n\u001b[0;32m-> 2371\u001b[0;31m         \u001b[0;32mreturn\u001b[0m \u001b[0mfunc\u001b[0m\u001b[0;34m(\u001b[0m\u001b[0mp\u001b[0m \u001b[0;34m+\u001b[0m \u001b[0malpha\u001b[0m\u001b[0;34m*\u001b[0m\u001b[0mxi\u001b[0m\u001b[0;34m)\u001b[0m\u001b[0;34m\u001b[0m\u001b[0m\n\u001b[0m\u001b[1;32m   2372\u001b[0m     \u001b[0malpha_min\u001b[0m\u001b[0;34m,\u001b[0m \u001b[0mfret\u001b[0m\u001b[0;34m,\u001b[0m \u001b[0miter\u001b[0m\u001b[0;34m,\u001b[0m \u001b[0mnum\u001b[0m \u001b[0;34m=\u001b[0m \u001b[0mbrent\u001b[0m\u001b[0;34m(\u001b[0m\u001b[0mmyfunc\u001b[0m\u001b[0;34m,\u001b[0m \u001b[0mfull_output\u001b[0m\u001b[0;34m=\u001b[0m\u001b[0;36m1\u001b[0m\u001b[0;34m,\u001b[0m \u001b[0mtol\u001b[0m\u001b[0;34m=\u001b[0m\u001b[0mtol\u001b[0m\u001b[0;34m)\u001b[0m\u001b[0;34m\u001b[0m\u001b[0m\n\u001b[1;32m   2373\u001b[0m     \u001b[0mxi\u001b[0m \u001b[0;34m=\u001b[0m \u001b[0malpha_min\u001b[0m\u001b[0;34m*\u001b[0m\u001b[0mxi\u001b[0m\u001b[0;34m\u001b[0m\u001b[0m\n",
      "\u001b[0;32m~/Projets/py3/lib/python3.5/site-packages/scipy/optimize/optimize.py\u001b[0m in \u001b[0;36mfunction_wrapper\u001b[0;34m(*wrapper_args)\u001b[0m\n\u001b[1;32m    298\u001b[0m     \u001b[0;32mdef\u001b[0m \u001b[0mfunction_wrapper\u001b[0m\u001b[0;34m(\u001b[0m\u001b[0;34m*\u001b[0m\u001b[0mwrapper_args\u001b[0m\u001b[0;34m)\u001b[0m\u001b[0;34m:\u001b[0m\u001b[0;34m\u001b[0m\u001b[0m\n\u001b[1;32m    299\u001b[0m         \u001b[0mncalls\u001b[0m\u001b[0;34m[\u001b[0m\u001b[0;36m0\u001b[0m\u001b[0;34m]\u001b[0m \u001b[0;34m+=\u001b[0m \u001b[0;36m1\u001b[0m\u001b[0;34m\u001b[0m\u001b[0m\n\u001b[0;32m--> 300\u001b[0;31m         \u001b[0;32mreturn\u001b[0m \u001b[0mfunction\u001b[0m\u001b[0;34m(\u001b[0m\u001b[0;34m*\u001b[0m\u001b[0;34m(\u001b[0m\u001b[0mwrapper_args\u001b[0m \u001b[0;34m+\u001b[0m \u001b[0margs\u001b[0m\u001b[0;34m)\u001b[0m\u001b[0;34m)\u001b[0m\u001b[0;34m\u001b[0m\u001b[0m\n\u001b[0m\u001b[1;32m    301\u001b[0m \u001b[0;34m\u001b[0m\u001b[0m\n\u001b[1;32m    302\u001b[0m     \u001b[0;32mreturn\u001b[0m \u001b[0mncalls\u001b[0m\u001b[0;34m,\u001b[0m \u001b[0mfunction_wrapper\u001b[0m\u001b[0;34m\u001b[0m\u001b[0m\n",
      "\u001b[0;32m<ipython-input-51-3a5c6991e63d>\u001b[0m in \u001b[0;36mfun\u001b[0;34m(points)\u001b[0m\n\u001b[1;32m      1\u001b[0m \u001b[0;32mdef\u001b[0m \u001b[0mfun\u001b[0m\u001b[0;34m(\u001b[0m\u001b[0mpoints\u001b[0m\u001b[0;34m)\u001b[0m\u001b[0;34m:\u001b[0m\u001b[0;34m\u001b[0m\u001b[0m\n\u001b[0;32m----> 2\u001b[0;31m     \u001b[0mresistivity\u001b[0m\u001b[0;34m,\u001b[0m \u001b[0mstress\u001b[0m \u001b[0;34m=\u001b[0m \u001b[0mBeam\u001b[0m\u001b[0;34m(\u001b[0m\u001b[0mpoints\u001b[0m\u001b[0;34m)\u001b[0m\u001b[0;34m.\u001b[0m\u001b[0mmerite\u001b[0m\u001b[0;34m(\u001b[0m\u001b[0;34m)\u001b[0m\u001b[0;34m\u001b[0m\u001b[0m\n\u001b[0m\u001b[1;32m      3\u001b[0m \u001b[0;34m\u001b[0m\u001b[0m\n\u001b[1;32m      4\u001b[0m     \u001b[0;32mreturn\u001b[0m \u001b[0mresistivity\u001b[0m\u001b[0;34m**\u001b[0m\u001b[0;36m2\u001b[0m \u001b[0;34m+\u001b[0m \u001b[0mstress\u001b[0m\u001b[0;34m**\u001b[0m\u001b[0;36m2\u001b[0m\u001b[0;34m\u001b[0m\u001b[0m\n",
      "\u001b[0;32m<ipython-input-39-d0b8bc66f1e7>\u001b[0m in \u001b[0;36m__init__\u001b[0;34m(self, thickness_values)\u001b[0m\n\u001b[1;32m     13\u001b[0m                                     bc_type=('natural', 'natural'))#'clamped'))\n\u001b[1;32m     14\u001b[0m         R, err = quad(lambda x:1/self.thickness(x, nu=0),\n\u001b[0;32m---> 15\u001b[0;31m                                 0, length)\n\u001b[0m\u001b[1;32m     16\u001b[0m         \u001b[0mself\u001b[0m\u001b[0;34m.\u001b[0m\u001b[0mresistivity\u001b[0m \u001b[0;34m=\u001b[0m \u001b[0mR\u001b[0m \u001b[0;31m#float(self.thickness.integrate(0, length))\u001b[0m\u001b[0;34m\u001b[0m\u001b[0m\n\u001b[1;32m     17\u001b[0m         \u001b[0mself\u001b[0m\u001b[0;34m.\u001b[0m\u001b[0msolve_meca\u001b[0m\u001b[0;34m(\u001b[0m\u001b[0;34m)\u001b[0m\u001b[0;34m\u001b[0m\u001b[0m\n",
      "\u001b[0;32m~/Projets/py3/lib/python3.5/site-packages/scipy/integrate/quadpack.py\u001b[0m in \u001b[0;36mquad\u001b[0;34m(func, a, b, args, full_output, epsabs, epsrel, limit, points, weight, wvar, wopts, maxp1, limlst)\u001b[0m\n\u001b[1;32m    339\u001b[0m     \u001b[0;32mif\u001b[0m \u001b[0mweight\u001b[0m \u001b[0;32mis\u001b[0m \u001b[0;32mNone\u001b[0m\u001b[0;34m:\u001b[0m\u001b[0;34m\u001b[0m\u001b[0m\n\u001b[1;32m    340\u001b[0m         retval = _quad(func, a, b, args, full_output, epsabs, epsrel, limit,\n\u001b[0;32m--> 341\u001b[0;31m                        points)\n\u001b[0m\u001b[1;32m    342\u001b[0m     \u001b[0;32melse\u001b[0m\u001b[0;34m:\u001b[0m\u001b[0;34m\u001b[0m\u001b[0m\n\u001b[1;32m    343\u001b[0m         retval = _quad_weight(func, a, b, args, full_output, epsabs, epsrel,\n",
      "\u001b[0;32m~/Projets/py3/lib/python3.5/site-packages/scipy/integrate/quadpack.py\u001b[0m in \u001b[0;36m_quad\u001b[0;34m(func, a, b, args, full_output, epsabs, epsrel, limit, points)\u001b[0m\n\u001b[1;32m    446\u001b[0m     \u001b[0;32mif\u001b[0m \u001b[0mpoints\u001b[0m \u001b[0;32mis\u001b[0m \u001b[0;32mNone\u001b[0m\u001b[0;34m:\u001b[0m\u001b[0;34m\u001b[0m\u001b[0m\n\u001b[1;32m    447\u001b[0m         \u001b[0;32mif\u001b[0m \u001b[0minfbounds\u001b[0m \u001b[0;34m==\u001b[0m \u001b[0;36m0\u001b[0m\u001b[0;34m:\u001b[0m\u001b[0;34m\u001b[0m\u001b[0m\n\u001b[0;32m--> 448\u001b[0;31m             \u001b[0;32mreturn\u001b[0m \u001b[0m_quadpack\u001b[0m\u001b[0;34m.\u001b[0m\u001b[0m_qagse\u001b[0m\u001b[0;34m(\u001b[0m\u001b[0mfunc\u001b[0m\u001b[0;34m,\u001b[0m\u001b[0ma\u001b[0m\u001b[0;34m,\u001b[0m\u001b[0mb\u001b[0m\u001b[0;34m,\u001b[0m\u001b[0margs\u001b[0m\u001b[0;34m,\u001b[0m\u001b[0mfull_output\u001b[0m\u001b[0;34m,\u001b[0m\u001b[0mepsabs\u001b[0m\u001b[0;34m,\u001b[0m\u001b[0mepsrel\u001b[0m\u001b[0;34m,\u001b[0m\u001b[0mlimit\u001b[0m\u001b[0;34m)\u001b[0m\u001b[0;34m\u001b[0m\u001b[0m\n\u001b[0m\u001b[1;32m    449\u001b[0m         \u001b[0;32melse\u001b[0m\u001b[0;34m:\u001b[0m\u001b[0;34m\u001b[0m\u001b[0m\n\u001b[1;32m    450\u001b[0m             \u001b[0;32mreturn\u001b[0m \u001b[0m_quadpack\u001b[0m\u001b[0;34m.\u001b[0m\u001b[0m_qagie\u001b[0m\u001b[0;34m(\u001b[0m\u001b[0mfunc\u001b[0m\u001b[0;34m,\u001b[0m\u001b[0mbound\u001b[0m\u001b[0;34m,\u001b[0m\u001b[0minfbounds\u001b[0m\u001b[0;34m,\u001b[0m\u001b[0margs\u001b[0m\u001b[0;34m,\u001b[0m\u001b[0mfull_output\u001b[0m\u001b[0;34m,\u001b[0m\u001b[0mepsabs\u001b[0m\u001b[0;34m,\u001b[0m\u001b[0mepsrel\u001b[0m\u001b[0;34m,\u001b[0m\u001b[0mlimit\u001b[0m\u001b[0;34m)\u001b[0m\u001b[0;34m\u001b[0m\u001b[0m\n",
      "\u001b[0;32m<ipython-input-39-d0b8bc66f1e7>\u001b[0m in \u001b[0;36m<lambda>\u001b[0;34m(x)\u001b[0m\n\u001b[1;32m     12\u001b[0m         self.thickness = CubicSpline(self.x_spline, thickness_values,\n\u001b[1;32m     13\u001b[0m                                     bc_type=('natural', 'natural'))#'clamped'))\n\u001b[0;32m---> 14\u001b[0;31m         R, err = quad(lambda x:1/self.thickness(x, nu=0),\n\u001b[0m\u001b[1;32m     15\u001b[0m                                 0, length)\n\u001b[1;32m     16\u001b[0m         \u001b[0mself\u001b[0m\u001b[0;34m.\u001b[0m\u001b[0mresistivity\u001b[0m \u001b[0;34m=\u001b[0m \u001b[0mR\u001b[0m \u001b[0;31m#float(self.thickness.integrate(0, length))\u001b[0m\u001b[0;34m\u001b[0m\u001b[0m\n",
      "\u001b[0;31mKeyboardInterrupt\u001b[0m: "
     ]
    }
   ],
   "source": [
    "minimize(fun, padded_points, method='Powell')"
   ]
  },
  {
   "cell_type": "code",
   "execution_count": 15,
   "metadata": {},
   "outputs": [
    {
     "name": "stdout",
     "output_type": "stream",
     "text": [
      "(1.0, 1.0, 4.333333333333334) 0.7666610017607789\n",
      "(1.0, 1.0, 6.0) 0.6614425712746769\n",
      "(1.0, 2.666666666666667, 6.0) 0.5163840674139417\n",
      "(2.666666666666667, 2.666666666666667, 4.333333333333334) 0.4513929712887476\n",
      "(2.666666666666667, 2.666666666666667, 6.0) 0.35923784557237864\n",
      "(6.0, 4.333333333333334, 2.666666666666667) 0.3490885376340931\n"
     ]
    }
   ],
   "source": [
    "min_value = 0.8\n",
    "for points in it.product(np.linspace(1, 6, 4), repeat=3):\n",
    "    score = fun(points)\n",
    "    if score < min_value:\n",
    "        print(points, score)\n",
    "        min_value = score"
   ]
  },
  {
   "cell_type": "code",
   "execution_count": null,
   "metadata": {},
   "outputs": [],
   "source": [
    "res"
   ]
  },
  {
   "cell_type": "code",
   "execution_count": 30,
   "metadata": {},
   "outputs": [
    {
     "name": "stdout",
     "output_type": "stream",
     "text": [
      "0.005785459513587985\n",
      "0.005169468475525467\n"
     ]
    },
    {
     "data": {
      "image/png": "[encoded data removed]",
      "text/plain": [
       "<Figure size 432x288 with 1 Axes>"
      ]
     },
     "metadata": {
      "needs_background": "light"
     },
     "output_type": "display_data"
    }
   ],
   "source": [
    "opti_points = (2.25, 6.0, 4.125, 5.375)\n",
    "opti_beam = Beam(opti_points)\n",
    "print(fun(opti_points))\n",
    "plt.plot(x_mesh, opti_beam.thickness(x_mesh), '-+', label='opti');\n",
    "\n",
    "opti_points = (1.0, 6.0, 4.75, 4.75, 6.0)\n",
    "opti_beam = Beam(opti_points)\n",
    "print(fun(opti_points))\n",
    "plt.plot(x_mesh, opti_beam.thickness(x_mesh), '-+', label='opti');\n",
    "plt.axhline(y=0);"
   ]
  },
  {
   "cell_type": "code",
   "execution_count": 41,
   "metadata": {},
   "outputs": [
    {
     "data": {
      "text/plain": [
       "5"
      ]
     },
     "execution_count": 41,
     "metadata": {},
     "output_type": "execute_result"
    }
   ],
   "source": [
    "4 and 5"
   ]
  },
  {
   "cell_type": "code",
   "execution_count": 43,
   "metadata": {},
   "outputs": [
    {
     "data": {
      "text/plain": [
       "True"
      ]
     },
     "execution_count": 43,
     "metadata": {},
     "output_type": "execute_result"
    }
   ],
   "source": [
    "not 0"
   ]
  },
  {
   "cell_type": "code",
   "execution_count": null,
   "metadata": {},
   "outputs": [],
   "source": []
  }
 ],
 "metadata": {
  "kernelspec": {
   "display_name": "py3-global",
   "language": "python",
   "name": "py3"
  },
  "language_info": {
   "codemirror_mode": {
    "name": "ipython",
    "version": 3
   },
   "file_extension": ".py",
   "mimetype": "text/x-python",
   "name": "python",
   "nbconvert_exporter": "python",
   "pygments_lexer": "ipython3",
   "version": "3.5.2"
  }
 },
 "nbformat": 4,
 "nbformat_minor": 2
}
