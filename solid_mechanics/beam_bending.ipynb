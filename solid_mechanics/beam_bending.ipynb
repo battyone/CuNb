{
 "cells": [
  {
   "cell_type": "markdown",
   "metadata": {},
   "source": [
    "# BVP"
   ]
  },
  {
   "cell_type": "code",
   "execution_count": 1,
   "metadata": {},
   "outputs": [],
   "source": [
    "import numpy as np\n",
    "import matplotlib.pylab as plt"
   ]
  },
  {
   "cell_type": "code",
   "execution_count": 2,
   "metadata": {},
   "outputs": [],
   "source": [
    "from scipy.integrate import solve_bvp\n",
    "from scipy.interpolate import CubicSpline\n",
    "from scipy.integrate import quad"
   ]
  },
  {
   "cell_type": "code",
   "execution_count": 20,
   "metadata": {},
   "outputs": [],
   "source": [
    "from scipy.optimize import minimize_scalar"
   ]
  },
  {
   "cell_type": "markdown",
   "metadata": {},
   "source": [
    "# Parameters"
   ]
  },
  {
   "cell_type": "code",
   "execution_count": 30,
   "metadata": {},
   "outputs": [],
   "source": [
    "length = 100   # cm, half length of the beam\n",
    "delta = 0.1  # cm, deflection at the center\n",
    "\n",
    "E_Young = 100000 # ua\n",
    "\n",
    "x_mesh = np.linspace(0, length, 17)  # Mesh for bvp_solve\n",
    "\n",
    "t_max = 6\n",
    "t_min = 1"
   ]
  },
  {
   "cell_type": "code",
   "execution_count": 31,
   "metadata": {},
   "outputs": [],
   "source": [
    "conductivity_upper_limit = t_max*length\n",
    "conductivity_lower_limit = t_min*length\n",
    "\n",
    "stress_upper_limit = E_Young* 3* t_max*delta/length**2 / 2\n",
    "stress_lower_limit = E_Young* 3* t_min*delta/length**2 / 2"
   ]
  },
  {
   "cell_type": "code",
   "execution_count": 58,
   "metadata": {},
   "outputs": [],
   "source": [
    "class Beam():\n",
    "    \n",
    "    def __init__(self, thickness_values):\n",
    "        ''' Define a beam\n",
    "            \n",
    "            thickness_values: list of thickness values uniformly distributed between 0 and x=length\n",
    "        '''\n",
    "        self.thickness_values = thickness_values\n",
    "        \n",
    "        self.x_spline = np.linspace(0, length, len(thickness_values))\n",
    "\n",
    "        self.thickness = CubicSpline(self.x_spline, thickness_values,\n",
    "                                    bc_type=('natural', 'natural'))#'clamped'))\n",
    "        #R, err = quad(lambda x:1/self.thickness(x, nu=0),\n",
    "        #                        0, length)\n",
    "        self.conductivity = float(self.thickness.integrate(0, length))\n",
    "        self.solve_meca()\n",
    "        \n",
    "    def flex(self, x):\n",
    "        ''' Variable flexural rigidity and its derivatives '''\n",
    "        E = E_Young / 12\n",
    "        t = self.thickness(x, nu=0)\n",
    "        dtdx = self.thickness(x, nu=1)\n",
    "        \n",
    "        D = E * t**3 \n",
    "        dD_dx = E * 3*t**2 * dtdx\n",
    "        d2D_dx2 = E*( 6*t*dtdx**2 + 3*t**2 * self.thickness(x, nu=2) )\n",
    "        \n",
    "        return D, dD_dx, d2D_dx2\n",
    "  \n",
    "\n",
    "    def solve_meca(self):\n",
    "        \n",
    "        def dU_dx(x, U):\n",
    "            w = U[0]\n",
    "            dw_dx = U[1]\n",
    "            d2w_dx2 = U[2]\n",
    "            d3w_dx3 = U[3]\n",
    "\n",
    "            D, dD_dx, d2D_dx2 = self.flex(x)\n",
    "            d4w_dx4 = ( -d2D_dx2*d2w_dx2 -2*dD_dx*d3w_dx3 )/D\n",
    "            return np.vstack((dw_dx, d2w_dx2, d3w_dx3, d4w_dx4))\n",
    "        \n",
    "        def boundary_conditions(ya, yb):\n",
    "            return np.array([ya[0],  # w(0) = 0\n",
    "                             ya[1],  # w'(0) = 0\n",
    "                             yb[0] - delta, # w(L) = delta\n",
    "                             yb[2]])  # w''(L) = 0\n",
    "        \n",
    "        U_zero = np.ones((4, x_mesh.size))\n",
    "        sol = solve_bvp(dU_dx, boundary_conditions,\n",
    "                    x_mesh, U_zero)\n",
    "        \n",
    "        self.x = sol.x\n",
    "        self.w = sol.y[0]\n",
    "        self.k = sol.y[2]\n",
    "        \n",
    "        self.sigma =  E_Young * sol.y[2] * self.thickness(self.x)/2\n",
    "        \n",
    "        res = minimize_scalar(lambda x:-sol.sol(x)[2]*self.thickness(x)/2*E_Young,\n",
    "                                         bounds=[0, length], method='Bounded')\n",
    "        self.max_stress = -res.fun\n",
    "        \n",
    "        return sol\n",
    "    \n",
    "    \n",
    "    def merite(self):\n",
    "\n",
    "        return ((self.conductivity-conductivity_lower_limit)/(conductivity_upper_limit-conductivity_lower_limit),\n",
    "               (self.max_stress- stress_lower_limit)/(stress_upper_limit -  stress_lower_limit))"
   ]
  },
  {
   "cell_type": "code",
   "execution_count": 59,
   "metadata": {},
   "outputs": [
    {
     "data": {
      "text/plain": [
       "100"
      ]
     },
     "execution_count": 59,
     "metadata": {},
     "output_type": "execute_result"
    }
   ],
   "source": [
    "conductivity_lower_limit"
   ]
  },
  {
   "cell_type": "markdown",
   "metadata": {},
   "source": [
    "## Define variable flexural rigidity"
   ]
  },
  {
   "cell_type": "code",
   "execution_count": 60,
   "metadata": {},
   "outputs": [],
   "source": [
    "b_ref = Beam((6, 6))\n",
    "b_half_lin = Beam((3, 6))\n",
    "b_half_const = Beam((3, 3))"
   ]
  },
  {
   "cell_type": "code",
   "execution_count": 62,
   "metadata": {},
   "outputs": [
    {
     "data": {
      "text/plain": [
       "8.99999959445624"
      ]
     },
     "execution_count": 62,
     "metadata": {},
     "output_type": "execute_result"
    }
   ],
   "source": [
    "b_ref.max_stress"
   ]
  },
  {
   "cell_type": "code",
   "execution_count": 39,
   "metadata": {},
   "outputs": [],
   "source": [
    "from scipy.optimize import minimize"
   ]
  },
  {
   "cell_type": "code",
   "execution_count": 40,
   "metadata": {},
   "outputs": [],
   "source": [
    "def fun(points):\n",
    "    conductivity, stress = Beam(points).merite()\n",
    "    \n",
    "    return (1-conductivity)**2 + stress**2"
   ]
  },
  {
   "cell_type": "code",
   "execution_count": null,
   "metadata": {},
   "outputs": [],
   "source": [
    "res"
   ]
  },
  {
   "cell_type": "code",
   "execution_count": null,
   "metadata": {},
   "outputs": [],
   "source": [
    "opti = res.x\n",
    "\n",
    "opti_beam = Beam(opti)\n",
    "\n",
    "plt.plot(x_mesh, opti_beam.thickness(x_mesh), '-+', label='opti');\n",
    "plt.axhline(y=0);"
   ]
  },
  {
   "cell_type": "code",
   "execution_count": null,
   "metadata": {},
   "outputs": [],
   "source": [
    "plt.figure(figsize=(4, 4))\n",
    "#plt.plot(*Beam((6, 6)).merite(), 'sr', label='thick');\n",
    "#plt.plot(*Beam((1, 1)).merite(), 'or', label='thin');\n",
    "\n",
    "plt.plot(*Beam((6, 1)).merite(), '^k', label='thick-->thin');\n",
    "plt.plot(*Beam((1, 6)).merite(), 'vb', label='thin-->thick');\n",
    "\n",
    "plt.plot(*Beam((6, 4, 1)).merite(), 'go', label='thin-->thick');\n",
    "plt.plot(*Beam((6, 4.45, 1)).merite(), 'ro', label='thin-->thick');\n",
    "#opti = [5.63575023, 5.44580001, 4.81664833, 1.75389989, 5.08693129,1.40826336]\n",
    "#plt.plot(*Beam(opti).merite(), 'or', label='opti');\n",
    "\n",
    "plt.legend();\n",
    "plt.ylabel('max stress'); plt.xlabel('conductivity');\n",
    "#plt.xlim([0, 1]); plt.ylim([0, 1]);\n",
    "plt.plot([0, 1], [0, 1], '--k');"
   ]
  },
  {
   "cell_type": "code",
   "execution_count": null,
   "metadata": {},
   "outputs": [],
   "source": [
    "t_intermediate = np.linspace(1, 8, 25)\n",
    "u = [fun((6, 2.5, p)) for p in t_intermediate ]\n",
    "\n",
    "plt.plot(t_intermediate, u, 'r-o');"
   ]
  },
  {
   "cell_type": "code",
   "execution_count": null,
   "metadata": {},
   "outputs": [],
   "source": [
    "print(t_intermediate[np.argmin(u)], min(u))"
   ]
  },
  {
   "cell_type": "markdown",
   "metadata": {},
   "source": [
    "6, 2.428571428571429:  0.3417313126626329"
   ]
  },
  {
   "cell_type": "code",
   "execution_count": null,
   "metadata": {},
   "outputs": [],
   "source": [
    "opti_beam = Beam([6, 2.3, 1.714])\n",
    "\n",
    "plt.plot(x_mesh, opti_beam.thickness(x_mesh), '-+', label='opti');\n",
    "plt.axhline(y=0);"
   ]
  },
  {
   "cell_type": "code",
   "execution_count": null,
   "metadata": {},
   "outputs": [],
   "source": [
    "fun((6, 6, 1, 6, 6))"
   ]
  },
  {
   "cell_type": "code",
   "execution_count": 63,
   "metadata": {},
   "outputs": [],
   "source": [
    "import itertools as it"
   ]
  },
  {
   "cell_type": "code",
   "execution_count": 72,
   "metadata": {},
   "outputs": [
    {
     "name": "stdout",
     "output_type": "stream",
     "text": [
      "[6, 1.0, 1.0, 1.0] 0.7749317069637981\n",
      "[6, 1.0, 1.0, 1.0945945945945945] 0.7704315350805795\n",
      "[6, 1.0, 1.0, 1.1891891891891893] 0.766059321947128\n",
      "[6, 1.0, 1.0, 1.2837837837837838] 0.7615558602402246\n",
      "[6, 1.0, 1.0, 1.3783783783783785] 0.7569310103632709\n",
      "[6, 1.0, 1.0, 1.472972972972973] 0.7525618658572808\n",
      "[6, 1.0, 1.0, 1.5675675675675675] 0.748057025815489\n",
      "[6, 1.0, 1.0, 1.6621621621621623] 0.743486332879817\n",
      "[6, 1.0, 1.0, 1.7567567567567568] 0.7389574036804862\n",
      "[6, 1.0, 1.0, 1.8513513513513513] 0.7345982251652954\n",
      "[6, 1.0, 1.0, 1.945945945945946] 0.7299703031287093\n",
      "[6, 1.0, 1.0, 2.0405405405405403] 0.7257444184187805\n",
      "[6, 1.0, 1.0, 2.135135135135135] 0.7212263202271777\n",
      "[6, 1.0, 1.0, 2.22972972972973] 0.7167677911945083\n",
      "[6, 1.0, 1.0, 2.3243243243243246] 0.7122520146795667\n",
      "[6, 1.0, 1.0, 2.4189189189189193] 0.7078242806771496\n",
      "[6, 1.0, 1.0, 2.5135135135135136] 0.7034234858644087\n",
      "[6, 1.0, 1.0, 2.608108108108108] 0.6987942376821754\n",
      "[6, 1.0, 1.0, 2.7027027027027026] 0.6944684193579835\n",
      "[6, 1.0, 1.0, 2.7972972972972974] 0.6901946573962351\n",
      "[6, 1.0, 1.0, 2.891891891891892] 0.6857468407885661\n",
      "[6, 1.0, 1.0, 2.986486486486487] 0.6813285835598526\n",
      "[6, 1.0, 1.0, 3.081081081081081] 0.6770176986609153\n",
      "[6, 1.0, 1.0, 3.175675675675676] 0.6725708965430551\n",
      "[6, 1.0, 1.0, 3.27027027027027] 0.668081129992221\n",
      "[6, 1.0, 1.0, 3.364864864864865] 0.6639780110481278\n",
      "[6, 1.0, 1.0, 3.4594594594594597] 0.6596757383244226\n",
      "[6, 1.0, 1.0, 3.5540540540540544] 0.6552765409135876\n",
      "[6, 1.0, 1.0, 3.6486486486486487] 0.6511028357062062\n",
      "[6, 1.0, 1.0, 3.7432432432432434] 0.646552663669248\n",
      "[6, 1.0, 1.0, 3.837837837837838] 0.6423125855766343\n",
      "[6, 1.0, 1.0, 3.9324324324324325] 0.638092281434182\n",
      "[6, 1.0, 1.0, 4.027027027027027] 0.6337616698778801\n",
      "[6, 1.0, 1.0, 4.121621621621622] 0.6294502488538467\n",
      "[6, 1.0, 1.0, 4.216216216216216] 0.6252329203436646\n",
      "[6, 1.0, 1.0, 4.3108108108108105] 0.6210686240313711\n",
      "[6, 1.0, 1.0, 4.405405405405405] 0.6167849246470474\n",
      "[6, 1.0, 1.0, 4.5] 0.6124154413352703\n",
      "[6, 1.0, 1.0, 4.594594594594595] 0.6081311504428863\n",
      "[6, 1.0, 1.0, 4.6891891891891895] 0.6041700829285647\n",
      "[6, 1.0, 1.0, 4.783783783783784] 0.5997004216701896\n",
      "[6, 1.0, 1.0, 4.878378378378379] 0.5955552054253063\n",
      "[6, 1.0, 1.0, 4.972972972972974] 0.5911677063954396\n",
      "[6, 1.0, 1.0, 5.0675675675675675] 0.5868770761482759\n",
      "[6, 1.0, 1.0, 5.162162162162162] 0.5831276604013531\n",
      "[6, 1.0, 1.0, 5.256756756756757] 0.5785044190711719\n",
      "[6, 1.0, 1.0, 5.351351351351352] 0.5742004191246832\n",
      "[6, 1.0, 1.0, 5.4459459459459465] 0.5700384809445931\n",
      "[6, 1.0, 1.0, 5.54054054054054] 0.5673335439675244\n",
      "[6, 1.0, 1.0, 5.635135135135135] 0.5622680148556314\n",
      "[6, 1.0, 1.0, 5.72972972972973] 0.5576104990211148\n",
      "[6, 1.0, 1.0, 5.824324324324325] 0.5529528633763573\n",
      "[6, 1.0, 1.0, 5.918918918918919] 0.5487687388579282\n",
      "[6, 1.0, 1.0, 6.013513513513514] 0.5450291177946275\n",
      "[6, 1.0, 1.0, 6.108108108108109] 0.5432829376740196\n",
      "[6, 1.0, 1.0, 6.297297297297297] 0.5371970133270524\n",
      "[6, 1.0, 1.0, 6.391891891891892] 0.5285074537316865\n",
      "[6, 1.0, 1.0, 6.486486486486487] 0.5247020727609197\n",
      "[6, 1.0, 1.0, 6.581081081081082] 0.5229788625258154\n",
      "[6, 1.0, 1.0, 6.675675675675676] 0.5157797657885315\n",
      "[6, 1.0, 1.0, 6.77027027027027] 0.5151923346040407\n",
      "[6, 1.0, 1.0, 6.864864864864865] 0.5073381956403532\n",
      "[6, 1.0, 1.0, 6.95945945945946] 0.5033932603149136\n",
      "[6, 1.0, 1.0, 7.054054054054054] 0.5002216571264436\n",
      "[6, 1.0, 1.0, 7.243243243243244] 0.49271053800149\n",
      "[6, 1.0, 1.0, 7.4324324324324325] 0.4838589102473059\n",
      "[6, 1.0, 1.0, 7.716216216216217] 0.4730104146972512\n",
      "[6, 1.0, 1.0, 7.905405405405406] 0.4663149089181742\n",
      "[6, 1.0, 1.0945945945945945, 7.905405405405406] 0.4601814004502685\n",
      "[6, 1.0, 1.1891891891891893, 7.810810810810811] 0.4597660844468386\n",
      "[6, 1.0, 1.1891891891891893, 7.905405405405406] 0.45715199581589766\n",
      "[6, 1.0, 1.1891891891891893, 8.0] 0.4501801263781428\n",
      "[6, 1.0, 1.2837837837837838, 8.0] 0.4462422498825401\n",
      "[6, 1.0, 1.3783783783783785, 8.0] 0.4424344035083115\n",
      "[6, 1.0, 1.472972972972973, 8.0] 0.4392629362643261\n",
      "[6, 1.0, 1.5675675675675675, 8.0] 0.4375131811417775\n",
      "[6, 1.0, 1.6621621621621623, 8.0] 0.43268995470993304\n",
      "[6, 1.0, 1.7567567567567568, 8.0] 0.4306292025138448\n",
      "[6, 1.0, 1.8513513513513513, 8.0] 0.42710903456544647\n",
      "[6, 1.0, 2.0405405405405403, 8.0] 0.4256512247176914\n",
      "[6, 1.0, 2.135135135135135, 7.810810810810811] 0.42477486349418103\n",
      "[6, 1.0, 2.135135135135135, 7.905405405405406] 0.4207092116449216\n",
      "[6, 1.0, 2.135135135135135, 8.0] 0.4185309428833745\n",
      "[6, 1.0, 2.22972972972973, 7.905405405405406] 0.4173921798955933\n",
      "[6, 1.0, 2.22972972972973, 8.0] 0.4152196956747516\n",
      "[6, 1.0, 2.3243243243243246, 7.905405405405406] 0.41401368705881986\n",
      "[6, 1.0, 2.3243243243243246, 8.0] 0.41117006518811333\n",
      "[6, 1.0, 2.4189189189189193, 7.905405405405406] 0.41051367429981356\n",
      "[6, 1.0, 2.4189189189189193, 8.0] 0.40725041285204344\n",
      "[6, 1.0, 2.5135135135135136, 8.0] 0.4042728286520826\n",
      "[6, 1.0, 2.608108108108108, 8.0] 0.40267285550868953\n",
      "[6, 1.0, 2.7027027027027026, 7.905405405405406] 0.4020687575707619\n",
      "[6, 1.0, 2.7027027027027026, 8.0] 0.3986742851680911\n",
      "[6, 1.0, 2.7972972972972974, 8.0] 0.3965641163515602\n",
      "[6, 1.0, 2.891891891891892, 8.0] 0.39533401611791524\n",
      "[6, 1.0, 2.986486486486487, 8.0] 0.393571199476091\n",
      "[6, 1.0, 3.081081081081081, 7.905405405405406] 0.39279090075581136\n",
      "[6, 1.0, 3.081081081081081, 8.0] 0.39106161311054477\n",
      "[6, 1.0, 3.175675675675676, 8.0] 0.38743366030756027\n",
      "[6, 1.0, 3.27027027027027, 8.0] 0.38586708302683814\n",
      "[6, 1.0, 3.364864864864865, 8.0] 0.3832121243958695\n",
      "[6, 1.0, 3.4594594594594597, 8.0] 0.3812242741735162\n",
      "[6, 1.0, 3.5540540540540544, 8.0] 0.37942732250143385\n",
      "[6, 1.0, 3.6486486486486487, 8.0] 0.3763448798254764\n",
      "[6, 1.0, 3.7432432432432434, 8.0] 0.37352949316605616\n",
      "[6, 1.0, 3.837837837837838, 8.0] 0.37085782474615125\n",
      "[6, 1.0, 3.9324324324324325, 8.0] 0.3685181688248338\n",
      "[6, 1.0, 4.027027027027027, 8.0] 0.36558624804499984\n",
      "[6, 1.0, 4.121621621621622, 8.0] 0.36296813425881114\n",
      "[6, 1.0, 4.216216216216216, 8.0] 0.36064894487148613\n",
      "[6, 1.0, 4.3108108108108105, 8.0] 0.35776906031673916\n",
      "[6, 1.0, 4.405405405405405, 8.0] 0.35545240752789\n",
      "[6, 1.0, 4.5, 8.0] 0.3533102616319317\n",
      "[6, 1.0, 4.6891891891891895, 7.905405405405406] 0.35167429528632566\n",
      "[6, 1.0, 4.6891891891891895, 8.0] 0.3496868272115396\n",
      "[6, 1.0, 4.783783783783784, 7.905405405405406] 0.3485914692111912\n",
      "[6, 1.0, 4.783783783783784, 8.0] 0.34674989440947596\n",
      "[6, 1.0, 4.878378378378379, 8.0] 0.34497095480286677\n",
      "[6, 1.0, 4.972972972972974, 7.905405405405406] 0.34463466675111765\n",
      "[6, 1.0, 4.972972972972974, 8.0] 0.34147672079182745\n",
      "[6, 1.0, 5.0675675675675675, 8.0] 0.3399916380015909\n",
      "[6, 1.0, 5.162162162162162, 7.905405405405406] 0.3386059294626723\n",
      "[6, 1.0, 5.162162162162162, 8.0] 0.336428171049978\n",
      "[6, 1.0, 5.256756756756757, 8.0] 0.334229574766006\n",
      "[6, 1.0, 5.351351351351352, 7.905405405405406] 0.3340049609653829\n",
      "[6, 1.0, 5.351351351351352, 8.0] 0.33216028159820477\n",
      "[6, 1.0, 5.4459459459459465, 7.905405405405406] 0.33116535027980937\n",
      "[6, 1.0, 5.4459459459459465, 8.0] 0.32899700174112756\n",
      "[6, 1.0, 5.54054054054054, 7.905405405405406] 0.3274192596716921\n",
      "[6, 1.0, 5.54054054054054, 8.0] 0.32561778559140975\n",
      "[6, 1.0, 5.635135135135135, 7.905405405405406] 0.32531769633642066\n",
      "[6, 1.0, 5.635135135135135, 8.0] 0.3235129507388046\n",
      "[6, 1.0, 5.72972972972973, 7.905405405405406] 0.32328388660426044\n",
      "[6, 1.0, 5.72972972972973, 8.0] 0.3210645942358652\n",
      "[6, 1.0, 5.824324324324325, 7.810810810810811] 0.32020999356409896\n",
      "[6, 1.0, 5.824324324324325, 7.905405405405406] 0.3190477398149705\n",
      "[6, 1.0, 5.824324324324325, 8.0] 0.3179878252076477\n",
      "[6, 1.0, 5.918918918918919, 8.0] 0.3137294417192578\n",
      "[6, 1.0, 6.013513513513514, 8.0] 0.30992040274162364\n",
      "[6, 1.0, 6.108108108108109, 8.0] 0.3073812448438047\n",
      "[6, 1.0, 6.202702702702703, 8.0] 0.30492727236977757\n",
      "[6, 1.0, 6.297297297297297, 7.905405405405406] 0.30445258084599724\n",
      "[6, 1.0, 6.297297297297297, 8.0] 0.3013956731774922\n",
      "[6, 1.0, 6.391891891891892, 7.905405405405406] 0.3012326835159618\n",
      "[6, 1.0, 6.391891891891892, 8.0] 0.2987797975167573\n",
      "[6, 1.0, 6.486486486486487, 7.810810810810811] 0.297307602063789\n",
      "[6, 1.0, 6.486486486486487, 7.905405405405406] 0.2968601449418823\n",
      "[6, 1.0, 6.581081081081082, 7.810810810810811] 0.2934589856039895\n",
      "[6, 1.0, 6.675675675675676, 7.905405405405406] 0.2891566196847582\n",
      "[6, 1.0, 6.675675675675676, 8.0] 0.2878130234440178\n",
      "[6, 1.0, 6.864864864864865, 7.716216216216217] 0.28480277588214725\n",
      "[6, 1.0, 6.864864864864865, 8.0] 0.2830196852470519\n",
      "[6, 1.0, 6.95945945945946, 7.905405405405406] 0.2811937765227046\n",
      "[6, 1.0, 7.054054054054054, 7.716216216216217] 0.27885747894215773\n",
      "[6, 1.0, 7.054054054054054, 7.810810810810811] 0.27862742366264126\n",
      "[6, 1.0, 7.054054054054054, 8.0] 0.2759666506066121\n",
      "[6, 1.0, 7.148648648648649, 7.810810810810811] 0.27394386759517847\n",
      "[6, 1.0, 7.148648648648649, 8.0] 0.272114090135736\n",
      "[6, 1.0, 7.243243243243244, 7.810810810810811] 0.27002404205716957\n",
      "[6, 1.0, 7.243243243243244, 7.905405405405406] 0.2687898204036678\n",
      "[6, 1.0, 7.337837837837839, 7.716216216216217] 0.26836043862339437\n",
      "[6, 1.0, 7.337837837837839, 7.810810810810811] 0.2661849534022514\n",
      "[6, 1.0, 7.337837837837839, 7.905405405405406] 0.26507207815777445\n",
      "[6, 1.0, 7.4324324324324325, 7.621621621621622] 0.2649452314117793\n",
      "[6, 1.0, 7.527027027027027, 7.527027027027027] 0.2615402014249778\n",
      "[6, 1.0, 7.527027027027027, 7.621621621621622] 0.2612375301544459\n",
      "[6, 1.0, 7.527027027027027, 7.716216216216217] 0.2602672915105483\n",
      "[6, 1.0, 7.527027027027027, 8.0] 0.25942014626843013\n",
      "[6, 1.0, 7.621621621621622, 7.716216216216217] 0.25650440772363203\n",
      "[6, 1.0, 7.621621621621622, 7.810810810810811] 0.25643339530737996\n",
      "[6, 1.0, 7.621621621621622, 7.905405405405406] 0.25594172290957123\n",
      "[6, 1.0, 7.716216216216217, 7.527027027027027] 0.25553456816235454\n",
      "[6, 1.0, 7.716216216216217, 8.0] 0.25006709870733196\n",
      "[6, 1.0, 7.810810810810811, 8.0] 0.24765898463113228\n",
      "[6, 1.0, 7.905405405405406, 1.472972972972973] 0.1607879519539001\n",
      "[6, 7.810810810810811, 1.0, 1.0945945945945945] 0.15538002904997006\n",
      "[6, 7.905405405405406, 1.0, 1.0] 0.1385966279621826\n",
      "[6, 8.0, 1.0, 1.0945945945945945] 0.1273262237776856\n",
      "[6, 8.0, 1.0, 1.1891891891891893] 0.12260716347662338\n"
     ]
    }
   ],
   "source": [
    "min_value = 0.8\n",
    "for points in it.product(np.linspace(1, 8, 75), repeat=3):\n",
    "    padded_points = [6, *points]\n",
    "    score = fun(padded_points)\n",
    "    if score < min_value:\n",
    "        print(padded_points, score)\n",
    "        min_value = score"
   ]
  },
  {
   "cell_type": "code",
   "execution_count": 73,
   "metadata": {},
   "outputs": [
    {
     "name": "stderr",
     "output_type": "stream",
     "text": [
      "/home/etiennenavarro/notebooks/py3/lib/python3.6/site-packages/ipykernel_launcher.py:41: RuntimeWarning: invalid value encountered in true_divide\n"
     ]
    },
    {
     "ename": "KeyboardInterrupt",
     "evalue": "",
     "output_type": "error",
     "traceback": [
      "\u001b[0;31m---------------------------------------------------------------------------\u001b[0m",
      "\u001b[0;31mKeyboardInterrupt\u001b[0m                         Traceback (most recent call last)",
      "\u001b[0;32m<ipython-input-73-3aba7b205d19>\u001b[0m in \u001b[0;36m<module>\u001b[0;34m\u001b[0m\n\u001b[0;32m----> 1\u001b[0;31m \u001b[0mminimize\u001b[0m\u001b[0;34m(\u001b[0m\u001b[0mfun\u001b[0m\u001b[0;34m,\u001b[0m \u001b[0mpadded_points\u001b[0m\u001b[0;34m,\u001b[0m \u001b[0mmethod\u001b[0m\u001b[0;34m=\u001b[0m\u001b[0;34m'Powell'\u001b[0m\u001b[0;34m)\u001b[0m\u001b[0;34m\u001b[0m\u001b[0;34m\u001b[0m\u001b[0m\n\u001b[0m",
      "\u001b[0;32m~/notebooks/py3/lib/python3.6/site-packages/scipy/optimize/_minimize.py\u001b[0m in \u001b[0;36mminimize\u001b[0;34m(fun, x0, args, method, jac, hess, hessp, bounds, constraints, tol, callback, options)\u001b[0m\n\u001b[1;32m    589\u001b[0m         \u001b[0;32mreturn\u001b[0m \u001b[0m_minimize_neldermead\u001b[0m\u001b[0;34m(\u001b[0m\u001b[0mfun\u001b[0m\u001b[0;34m,\u001b[0m \u001b[0mx0\u001b[0m\u001b[0;34m,\u001b[0m \u001b[0margs\u001b[0m\u001b[0;34m,\u001b[0m \u001b[0mcallback\u001b[0m\u001b[0;34m,\u001b[0m \u001b[0;34m**\u001b[0m\u001b[0moptions\u001b[0m\u001b[0;34m)\u001b[0m\u001b[0;34m\u001b[0m\u001b[0;34m\u001b[0m\u001b[0m\n\u001b[1;32m    590\u001b[0m     \u001b[0;32melif\u001b[0m \u001b[0mmeth\u001b[0m \u001b[0;34m==\u001b[0m \u001b[0;34m'powell'\u001b[0m\u001b[0;34m:\u001b[0m\u001b[0;34m\u001b[0m\u001b[0;34m\u001b[0m\u001b[0m\n\u001b[0;32m--> 591\u001b[0;31m         \u001b[0;32mreturn\u001b[0m \u001b[0m_minimize_powell\u001b[0m\u001b[0;34m(\u001b[0m\u001b[0mfun\u001b[0m\u001b[0;34m,\u001b[0m \u001b[0mx0\u001b[0m\u001b[0;34m,\u001b[0m \u001b[0margs\u001b[0m\u001b[0;34m,\u001b[0m \u001b[0mcallback\u001b[0m\u001b[0;34m,\u001b[0m \u001b[0;34m**\u001b[0m\u001b[0moptions\u001b[0m\u001b[0;34m)\u001b[0m\u001b[0;34m\u001b[0m\u001b[0;34m\u001b[0m\u001b[0m\n\u001b[0m\u001b[1;32m    592\u001b[0m     \u001b[0;32melif\u001b[0m \u001b[0mmeth\u001b[0m \u001b[0;34m==\u001b[0m \u001b[0;34m'cg'\u001b[0m\u001b[0;34m:\u001b[0m\u001b[0;34m\u001b[0m\u001b[0;34m\u001b[0m\u001b[0m\n\u001b[1;32m    593\u001b[0m         \u001b[0;32mreturn\u001b[0m \u001b[0m_minimize_cg\u001b[0m\u001b[0;34m(\u001b[0m\u001b[0mfun\u001b[0m\u001b[0;34m,\u001b[0m \u001b[0mx0\u001b[0m\u001b[0;34m,\u001b[0m \u001b[0margs\u001b[0m\u001b[0;34m,\u001b[0m \u001b[0mjac\u001b[0m\u001b[0;34m,\u001b[0m \u001b[0mcallback\u001b[0m\u001b[0;34m,\u001b[0m \u001b[0;34m**\u001b[0m\u001b[0moptions\u001b[0m\u001b[0;34m)\u001b[0m\u001b[0;34m\u001b[0m\u001b[0;34m\u001b[0m\u001b[0m\n",
      "\u001b[0;32m~/notebooks/py3/lib/python3.6/site-packages/scipy/optimize/optimize.py\u001b[0m in \u001b[0;36m_minimize_powell\u001b[0;34m(func, x0, args, callback, xtol, ftol, maxiter, maxfev, disp, direc, return_all, **unknown_options)\u001b[0m\n\u001b[1;32m   2608\u001b[0m             \u001b[0;32mif\u001b[0m \u001b[0mt\u001b[0m \u001b[0;34m<\u001b[0m \u001b[0;36m0.0\u001b[0m\u001b[0;34m:\u001b[0m\u001b[0;34m\u001b[0m\u001b[0;34m\u001b[0m\u001b[0m\n\u001b[1;32m   2609\u001b[0m                 fval, x, direc1 = _linesearch_powell(func, x, direc1,\n\u001b[0;32m-> 2610\u001b[0;31m                                                      tol=xtol*100)\n\u001b[0m\u001b[1;32m   2611\u001b[0m                 \u001b[0mdirec\u001b[0m\u001b[0;34m[\u001b[0m\u001b[0mbigind\u001b[0m\u001b[0;34m]\u001b[0m \u001b[0;34m=\u001b[0m \u001b[0mdirec\u001b[0m\u001b[0;34m[\u001b[0m\u001b[0;34m-\u001b[0m\u001b[0;36m1\u001b[0m\u001b[0;34m]\u001b[0m\u001b[0;34m\u001b[0m\u001b[0;34m\u001b[0m\u001b[0m\n\u001b[1;32m   2612\u001b[0m                 \u001b[0mdirec\u001b[0m\u001b[0;34m[\u001b[0m\u001b[0;34m-\u001b[0m\u001b[0;36m1\u001b[0m\u001b[0;34m]\u001b[0m \u001b[0;34m=\u001b[0m \u001b[0mdirec1\u001b[0m\u001b[0;34m\u001b[0m\u001b[0;34m\u001b[0m\u001b[0m\n",
      "\u001b[0;32m~/notebooks/py3/lib/python3.6/site-packages/scipy/optimize/optimize.py\u001b[0m in \u001b[0;36m_linesearch_powell\u001b[0;34m(func, p, xi, tol)\u001b[0m\n\u001b[1;32m   2370\u001b[0m     \u001b[0;32mdef\u001b[0m \u001b[0mmyfunc\u001b[0m\u001b[0;34m(\u001b[0m\u001b[0malpha\u001b[0m\u001b[0;34m)\u001b[0m\u001b[0;34m:\u001b[0m\u001b[0;34m\u001b[0m\u001b[0;34m\u001b[0m\u001b[0m\n\u001b[1;32m   2371\u001b[0m         \u001b[0;32mreturn\u001b[0m \u001b[0mfunc\u001b[0m\u001b[0;34m(\u001b[0m\u001b[0mp\u001b[0m \u001b[0;34m+\u001b[0m \u001b[0malpha\u001b[0m\u001b[0;34m*\u001b[0m\u001b[0mxi\u001b[0m\u001b[0;34m)\u001b[0m\u001b[0;34m\u001b[0m\u001b[0;34m\u001b[0m\u001b[0m\n\u001b[0;32m-> 2372\u001b[0;31m     \u001b[0malpha_min\u001b[0m\u001b[0;34m,\u001b[0m \u001b[0mfret\u001b[0m\u001b[0;34m,\u001b[0m \u001b[0miter\u001b[0m\u001b[0;34m,\u001b[0m \u001b[0mnum\u001b[0m \u001b[0;34m=\u001b[0m \u001b[0mbrent\u001b[0m\u001b[0;34m(\u001b[0m\u001b[0mmyfunc\u001b[0m\u001b[0;34m,\u001b[0m \u001b[0mfull_output\u001b[0m\u001b[0;34m=\u001b[0m\u001b[0;36m1\u001b[0m\u001b[0;34m,\u001b[0m \u001b[0mtol\u001b[0m\u001b[0;34m=\u001b[0m\u001b[0mtol\u001b[0m\u001b[0;34m)\u001b[0m\u001b[0;34m\u001b[0m\u001b[0;34m\u001b[0m\u001b[0m\n\u001b[0m\u001b[1;32m   2373\u001b[0m     \u001b[0mxi\u001b[0m \u001b[0;34m=\u001b[0m \u001b[0malpha_min\u001b[0m\u001b[0;34m*\u001b[0m\u001b[0mxi\u001b[0m\u001b[0;34m\u001b[0m\u001b[0;34m\u001b[0m\u001b[0m\n\u001b[1;32m   2374\u001b[0m     \u001b[0;32mreturn\u001b[0m \u001b[0msqueeze\u001b[0m\u001b[0;34m(\u001b[0m\u001b[0mfret\u001b[0m\u001b[0;34m)\u001b[0m\u001b[0;34m,\u001b[0m \u001b[0mp\u001b[0m \u001b[0;34m+\u001b[0m \u001b[0mxi\u001b[0m\u001b[0;34m,\u001b[0m \u001b[0mxi\u001b[0m\u001b[0;34m\u001b[0m\u001b[0;34m\u001b[0m\u001b[0m\n",
      "\u001b[0;32m~/notebooks/py3/lib/python3.6/site-packages/scipy/optimize/optimize.py\u001b[0m in \u001b[0;36mbrent\u001b[0;34m(func, args, brack, tol, full_output, maxiter)\u001b[0m\n\u001b[1;32m   2081\u001b[0m     options = {'xtol': tol,\n\u001b[1;32m   2082\u001b[0m                'maxiter': maxiter}\n\u001b[0;32m-> 2083\u001b[0;31m     \u001b[0mres\u001b[0m \u001b[0;34m=\u001b[0m \u001b[0m_minimize_scalar_brent\u001b[0m\u001b[0;34m(\u001b[0m\u001b[0mfunc\u001b[0m\u001b[0;34m,\u001b[0m \u001b[0mbrack\u001b[0m\u001b[0;34m,\u001b[0m \u001b[0margs\u001b[0m\u001b[0;34m,\u001b[0m \u001b[0;34m**\u001b[0m\u001b[0moptions\u001b[0m\u001b[0;34m)\u001b[0m\u001b[0;34m\u001b[0m\u001b[0;34m\u001b[0m\u001b[0m\n\u001b[0m\u001b[1;32m   2084\u001b[0m     \u001b[0;32mif\u001b[0m \u001b[0mfull_output\u001b[0m\u001b[0;34m:\u001b[0m\u001b[0;34m\u001b[0m\u001b[0;34m\u001b[0m\u001b[0m\n\u001b[1;32m   2085\u001b[0m         \u001b[0;32mreturn\u001b[0m \u001b[0mres\u001b[0m\u001b[0;34m[\u001b[0m\u001b[0;34m'x'\u001b[0m\u001b[0;34m]\u001b[0m\u001b[0;34m,\u001b[0m \u001b[0mres\u001b[0m\u001b[0;34m[\u001b[0m\u001b[0;34m'fun'\u001b[0m\u001b[0;34m]\u001b[0m\u001b[0;34m,\u001b[0m \u001b[0mres\u001b[0m\u001b[0;34m[\u001b[0m\u001b[0;34m'nit'\u001b[0m\u001b[0;34m]\u001b[0m\u001b[0;34m,\u001b[0m \u001b[0mres\u001b[0m\u001b[0;34m[\u001b[0m\u001b[0;34m'nfev'\u001b[0m\u001b[0;34m]\u001b[0m\u001b[0;34m\u001b[0m\u001b[0;34m\u001b[0m\u001b[0m\n",
      "\u001b[0;32m~/notebooks/py3/lib/python3.6/site-packages/scipy/optimize/optimize.py\u001b[0m in \u001b[0;36m_minimize_scalar_brent\u001b[0;34m(func, brack, args, xtol, maxiter, **unknown_options)\u001b[0m\n\u001b[1;32m   2113\u001b[0m                   full_output=True, maxiter=maxiter)\n\u001b[1;32m   2114\u001b[0m     \u001b[0mbrent\u001b[0m\u001b[0;34m.\u001b[0m\u001b[0mset_bracket\u001b[0m\u001b[0;34m(\u001b[0m\u001b[0mbrack\u001b[0m\u001b[0;34m)\u001b[0m\u001b[0;34m\u001b[0m\u001b[0;34m\u001b[0m\u001b[0m\n\u001b[0;32m-> 2115\u001b[0;31m     \u001b[0mbrent\u001b[0m\u001b[0;34m.\u001b[0m\u001b[0moptimize\u001b[0m\u001b[0;34m(\u001b[0m\u001b[0;34m)\u001b[0m\u001b[0;34m\u001b[0m\u001b[0;34m\u001b[0m\u001b[0m\n\u001b[0m\u001b[1;32m   2116\u001b[0m     \u001b[0mx\u001b[0m\u001b[0;34m,\u001b[0m \u001b[0mfval\u001b[0m\u001b[0;34m,\u001b[0m \u001b[0mnit\u001b[0m\u001b[0;34m,\u001b[0m \u001b[0mnfev\u001b[0m \u001b[0;34m=\u001b[0m \u001b[0mbrent\u001b[0m\u001b[0;34m.\u001b[0m\u001b[0mget_result\u001b[0m\u001b[0;34m(\u001b[0m\u001b[0mfull_output\u001b[0m\u001b[0;34m=\u001b[0m\u001b[0;32mTrue\u001b[0m\u001b[0;34m)\u001b[0m\u001b[0;34m\u001b[0m\u001b[0;34m\u001b[0m\u001b[0m\n\u001b[1;32m   2117\u001b[0m     return OptimizeResult(fun=fval, x=x, nit=nit, nfev=nfev,\n",
      "\u001b[0;32m~/notebooks/py3/lib/python3.6/site-packages/scipy/optimize/optimize.py\u001b[0m in \u001b[0;36moptimize\u001b[0;34m(self)\u001b[0m\n\u001b[1;32m   1964\u001b[0m             \u001b[0;32melse\u001b[0m\u001b[0;34m:\u001b[0m\u001b[0;34m\u001b[0m\u001b[0;34m\u001b[0m\u001b[0m\n\u001b[1;32m   1965\u001b[0m                 \u001b[0mu\u001b[0m \u001b[0;34m=\u001b[0m \u001b[0mx\u001b[0m \u001b[0;34m+\u001b[0m \u001b[0mrat\u001b[0m\u001b[0;34m\u001b[0m\u001b[0;34m\u001b[0m\u001b[0m\n\u001b[0;32m-> 1966\u001b[0;31m             \u001b[0mfu\u001b[0m \u001b[0;34m=\u001b[0m \u001b[0mfunc\u001b[0m\u001b[0;34m(\u001b[0m\u001b[0;34m*\u001b[0m\u001b[0;34m(\u001b[0m\u001b[0;34m(\u001b[0m\u001b[0mu\u001b[0m\u001b[0;34m,\u001b[0m\u001b[0;34m)\u001b[0m \u001b[0;34m+\u001b[0m \u001b[0mself\u001b[0m\u001b[0;34m.\u001b[0m\u001b[0margs\u001b[0m\u001b[0;34m)\u001b[0m\u001b[0;34m)\u001b[0m      \u001b[0;31m# calculate new output value\u001b[0m\u001b[0;34m\u001b[0m\u001b[0;34m\u001b[0m\u001b[0m\n\u001b[0m\u001b[1;32m   1967\u001b[0m             \u001b[0mfuncalls\u001b[0m \u001b[0;34m+=\u001b[0m \u001b[0;36m1\u001b[0m\u001b[0;34m\u001b[0m\u001b[0;34m\u001b[0m\u001b[0m\n\u001b[1;32m   1968\u001b[0m \u001b[0;34m\u001b[0m\u001b[0m\n",
      "\u001b[0;32m~/notebooks/py3/lib/python3.6/site-packages/scipy/optimize/optimize.py\u001b[0m in \u001b[0;36mmyfunc\u001b[0;34m(alpha)\u001b[0m\n\u001b[1;32m   2369\u001b[0m     \"\"\"\n\u001b[1;32m   2370\u001b[0m     \u001b[0;32mdef\u001b[0m \u001b[0mmyfunc\u001b[0m\u001b[0;34m(\u001b[0m\u001b[0malpha\u001b[0m\u001b[0;34m)\u001b[0m\u001b[0;34m:\u001b[0m\u001b[0;34m\u001b[0m\u001b[0;34m\u001b[0m\u001b[0m\n\u001b[0;32m-> 2371\u001b[0;31m         \u001b[0;32mreturn\u001b[0m \u001b[0mfunc\u001b[0m\u001b[0;34m(\u001b[0m\u001b[0mp\u001b[0m \u001b[0;34m+\u001b[0m \u001b[0malpha\u001b[0m\u001b[0;34m*\u001b[0m\u001b[0mxi\u001b[0m\u001b[0;34m)\u001b[0m\u001b[0;34m\u001b[0m\u001b[0;34m\u001b[0m\u001b[0m\n\u001b[0m\u001b[1;32m   2372\u001b[0m     \u001b[0malpha_min\u001b[0m\u001b[0;34m,\u001b[0m \u001b[0mfret\u001b[0m\u001b[0;34m,\u001b[0m \u001b[0miter\u001b[0m\u001b[0;34m,\u001b[0m \u001b[0mnum\u001b[0m \u001b[0;34m=\u001b[0m \u001b[0mbrent\u001b[0m\u001b[0;34m(\u001b[0m\u001b[0mmyfunc\u001b[0m\u001b[0;34m,\u001b[0m \u001b[0mfull_output\u001b[0m\u001b[0;34m=\u001b[0m\u001b[0;36m1\u001b[0m\u001b[0;34m,\u001b[0m \u001b[0mtol\u001b[0m\u001b[0;34m=\u001b[0m\u001b[0mtol\u001b[0m\u001b[0;34m)\u001b[0m\u001b[0;34m\u001b[0m\u001b[0;34m\u001b[0m\u001b[0m\n\u001b[1;32m   2373\u001b[0m     \u001b[0mxi\u001b[0m \u001b[0;34m=\u001b[0m \u001b[0malpha_min\u001b[0m\u001b[0;34m*\u001b[0m\u001b[0mxi\u001b[0m\u001b[0;34m\u001b[0m\u001b[0;34m\u001b[0m\u001b[0m\n",
      "\u001b[0;32m~/notebooks/py3/lib/python3.6/site-packages/scipy/optimize/optimize.py\u001b[0m in \u001b[0;36mfunction_wrapper\u001b[0;34m(*wrapper_args)\u001b[0m\n\u001b[1;32m    298\u001b[0m     \u001b[0;32mdef\u001b[0m \u001b[0mfunction_wrapper\u001b[0m\u001b[0;34m(\u001b[0m\u001b[0;34m*\u001b[0m\u001b[0mwrapper_args\u001b[0m\u001b[0;34m)\u001b[0m\u001b[0;34m:\u001b[0m\u001b[0;34m\u001b[0m\u001b[0;34m\u001b[0m\u001b[0m\n\u001b[1;32m    299\u001b[0m         \u001b[0mncalls\u001b[0m\u001b[0;34m[\u001b[0m\u001b[0;36m0\u001b[0m\u001b[0;34m]\u001b[0m \u001b[0;34m+=\u001b[0m \u001b[0;36m1\u001b[0m\u001b[0;34m\u001b[0m\u001b[0;34m\u001b[0m\u001b[0m\n\u001b[0;32m--> 300\u001b[0;31m         \u001b[0;32mreturn\u001b[0m \u001b[0mfunction\u001b[0m\u001b[0;34m(\u001b[0m\u001b[0;34m*\u001b[0m\u001b[0;34m(\u001b[0m\u001b[0mwrapper_args\u001b[0m \u001b[0;34m+\u001b[0m \u001b[0margs\u001b[0m\u001b[0;34m)\u001b[0m\u001b[0;34m)\u001b[0m\u001b[0;34m\u001b[0m\u001b[0;34m\u001b[0m\u001b[0m\n\u001b[0m\u001b[1;32m    301\u001b[0m \u001b[0;34m\u001b[0m\u001b[0m\n\u001b[1;32m    302\u001b[0m     \u001b[0;32mreturn\u001b[0m \u001b[0mncalls\u001b[0m\u001b[0;34m,\u001b[0m \u001b[0mfunction_wrapper\u001b[0m\u001b[0;34m\u001b[0m\u001b[0;34m\u001b[0m\u001b[0m\n",
      "\u001b[0;32m<ipython-input-40-1d5de6809077>\u001b[0m in \u001b[0;36mfun\u001b[0;34m(points)\u001b[0m\n\u001b[1;32m      1\u001b[0m \u001b[0;32mdef\u001b[0m \u001b[0mfun\u001b[0m\u001b[0;34m(\u001b[0m\u001b[0mpoints\u001b[0m\u001b[0;34m)\u001b[0m\u001b[0;34m:\u001b[0m\u001b[0;34m\u001b[0m\u001b[0;34m\u001b[0m\u001b[0m\n\u001b[0;32m----> 2\u001b[0;31m     \u001b[0mconductivity\u001b[0m\u001b[0;34m,\u001b[0m \u001b[0mstress\u001b[0m \u001b[0;34m=\u001b[0m \u001b[0mBeam\u001b[0m\u001b[0;34m(\u001b[0m\u001b[0mpoints\u001b[0m\u001b[0;34m)\u001b[0m\u001b[0;34m.\u001b[0m\u001b[0mmerite\u001b[0m\u001b[0;34m(\u001b[0m\u001b[0;34m)\u001b[0m\u001b[0;34m\u001b[0m\u001b[0;34m\u001b[0m\u001b[0m\n\u001b[0m\u001b[1;32m      3\u001b[0m \u001b[0;34m\u001b[0m\u001b[0m\n\u001b[1;32m      4\u001b[0m     \u001b[0;32mreturn\u001b[0m \u001b[0;34m(\u001b[0m\u001b[0;36m1\u001b[0m\u001b[0;34m-\u001b[0m\u001b[0mconductivity\u001b[0m\u001b[0;34m)\u001b[0m\u001b[0;34m**\u001b[0m\u001b[0;36m2\u001b[0m \u001b[0;34m+\u001b[0m \u001b[0mstress\u001b[0m\u001b[0;34m**\u001b[0m\u001b[0;36m2\u001b[0m\u001b[0;34m\u001b[0m\u001b[0;34m\u001b[0m\u001b[0m\n",
      "\u001b[0;32m<ipython-input-58-626266a0439b>\u001b[0m in \u001b[0;36m__init__\u001b[0;34m(self, thickness_values)\u001b[0m\n\u001b[1;32m     15\u001b[0m         \u001b[0;31m#                        0, length)\u001b[0m\u001b[0;34m\u001b[0m\u001b[0;34m\u001b[0m\u001b[0;34m\u001b[0m\u001b[0m\n\u001b[1;32m     16\u001b[0m         \u001b[0mself\u001b[0m\u001b[0;34m.\u001b[0m\u001b[0mconductivity\u001b[0m \u001b[0;34m=\u001b[0m \u001b[0mfloat\u001b[0m\u001b[0;34m(\u001b[0m\u001b[0mself\u001b[0m\u001b[0;34m.\u001b[0m\u001b[0mthickness\u001b[0m\u001b[0;34m.\u001b[0m\u001b[0mintegrate\u001b[0m\u001b[0;34m(\u001b[0m\u001b[0;36m0\u001b[0m\u001b[0;34m,\u001b[0m \u001b[0mlength\u001b[0m\u001b[0;34m)\u001b[0m\u001b[0;34m)\u001b[0m\u001b[0;34m\u001b[0m\u001b[0;34m\u001b[0m\u001b[0m\n\u001b[0;32m---> 17\u001b[0;31m         \u001b[0mself\u001b[0m\u001b[0;34m.\u001b[0m\u001b[0msolve_meca\u001b[0m\u001b[0;34m(\u001b[0m\u001b[0;34m)\u001b[0m\u001b[0;34m\u001b[0m\u001b[0;34m\u001b[0m\u001b[0m\n\u001b[0m\u001b[1;32m     18\u001b[0m \u001b[0;34m\u001b[0m\u001b[0m\n\u001b[1;32m     19\u001b[0m     \u001b[0;32mdef\u001b[0m \u001b[0mflex\u001b[0m\u001b[0;34m(\u001b[0m\u001b[0mself\u001b[0m\u001b[0;34m,\u001b[0m \u001b[0mx\u001b[0m\u001b[0;34m)\u001b[0m\u001b[0;34m:\u001b[0m\u001b[0;34m\u001b[0m\u001b[0;34m\u001b[0m\u001b[0m\n",
      "\u001b[0;32m<ipython-input-58-626266a0439b>\u001b[0m in \u001b[0;36msolve_meca\u001b[0;34m(self)\u001b[0m\n\u001b[1;32m     50\u001b[0m         \u001b[0mU_zero\u001b[0m \u001b[0;34m=\u001b[0m \u001b[0mnp\u001b[0m\u001b[0;34m.\u001b[0m\u001b[0mones\u001b[0m\u001b[0;34m(\u001b[0m\u001b[0;34m(\u001b[0m\u001b[0;36m4\u001b[0m\u001b[0;34m,\u001b[0m \u001b[0mx_mesh\u001b[0m\u001b[0;34m.\u001b[0m\u001b[0msize\u001b[0m\u001b[0;34m)\u001b[0m\u001b[0;34m)\u001b[0m\u001b[0;34m\u001b[0m\u001b[0;34m\u001b[0m\u001b[0m\n\u001b[1;32m     51\u001b[0m         sol = solve_bvp(dU_dx, boundary_conditions,\n\u001b[0;32m---> 52\u001b[0;31m                     x_mesh, U_zero)\n\u001b[0m\u001b[1;32m     53\u001b[0m \u001b[0;34m\u001b[0m\u001b[0m\n\u001b[1;32m     54\u001b[0m         \u001b[0mself\u001b[0m\u001b[0;34m.\u001b[0m\u001b[0mx\u001b[0m \u001b[0;34m=\u001b[0m \u001b[0msol\u001b[0m\u001b[0;34m.\u001b[0m\u001b[0mx\u001b[0m\u001b[0;34m\u001b[0m\u001b[0;34m\u001b[0m\u001b[0m\n",
      "\u001b[0;32m~/notebooks/py3/lib/python3.6/site-packages/scipy/integrate/_bvp.py\u001b[0m in \u001b[0;36msolve_bvp\u001b[0;34m(fun, bc, x, y, p, S, fun_jac, bc_jac, tol, max_nodes, verbose)\u001b[0m\n\u001b[1;32m   1074\u001b[0m                                        fun_jac_wrapped, bc_jac_wrapped, x, h)\n\u001b[1;32m   1075\u001b[0m         y, p, singular = solve_newton(n, m, h, col_fun, bc_wrapped, jac_sys,\n\u001b[0;32m-> 1076\u001b[0;31m                                       y, p, B, tol)\n\u001b[0m\u001b[1;32m   1077\u001b[0m         \u001b[0miteration\u001b[0m \u001b[0;34m+=\u001b[0m \u001b[0;36m1\u001b[0m\u001b[0;34m\u001b[0m\u001b[0;34m\u001b[0m\u001b[0m\n\u001b[1;32m   1078\u001b[0m \u001b[0;34m\u001b[0m\u001b[0m\n",
      "\u001b[0;32m~/notebooks/py3/lib/python3.6/site-packages/scipy/integrate/_bvp.py\u001b[0m in \u001b[0;36msolve_newton\u001b[0;34m(n, m, h, col_fun, bc, jac, y, p, B, bvp_tol)\u001b[0m\n\u001b[1;32m    455\u001b[0m             \u001b[0mnjev\u001b[0m \u001b[0;34m+=\u001b[0m \u001b[0;36m1\u001b[0m\u001b[0;34m\u001b[0m\u001b[0;34m\u001b[0m\u001b[0m\n\u001b[1;32m    456\u001b[0m             \u001b[0;32mtry\u001b[0m\u001b[0;34m:\u001b[0m\u001b[0;34m\u001b[0m\u001b[0;34m\u001b[0m\u001b[0m\n\u001b[0;32m--> 457\u001b[0;31m                 \u001b[0mLU\u001b[0m \u001b[0;34m=\u001b[0m \u001b[0msplu\u001b[0m\u001b[0;34m(\u001b[0m\u001b[0mJ\u001b[0m\u001b[0;34m)\u001b[0m\u001b[0;34m\u001b[0m\u001b[0;34m\u001b[0m\u001b[0m\n\u001b[0m\u001b[1;32m    458\u001b[0m             \u001b[0;32mexcept\u001b[0m \u001b[0mRuntimeError\u001b[0m\u001b[0;34m:\u001b[0m\u001b[0;34m\u001b[0m\u001b[0;34m\u001b[0m\u001b[0m\n\u001b[1;32m    459\u001b[0m                 \u001b[0msingular\u001b[0m \u001b[0;34m=\u001b[0m \u001b[0;32mTrue\u001b[0m\u001b[0;34m\u001b[0m\u001b[0;34m\u001b[0m\u001b[0m\n",
      "\u001b[0;32m~/notebooks/py3/lib/python3.6/site-packages/scipy/sparse/linalg/dsolve/linsolve.py\u001b[0m in \u001b[0;36msplu\u001b[0;34m(A, permc_spec, diag_pivot_thresh, relax, panel_size, options)\u001b[0m\n\u001b[1;32m    309\u001b[0m         \u001b[0m_options\u001b[0m\u001b[0;34m.\u001b[0m\u001b[0mupdate\u001b[0m\u001b[0;34m(\u001b[0m\u001b[0moptions\u001b[0m\u001b[0;34m)\u001b[0m\u001b[0;34m\u001b[0m\u001b[0;34m\u001b[0m\u001b[0m\n\u001b[1;32m    310\u001b[0m     return _superlu.gstrf(N, A.nnz, A.data, A.indices, A.indptr,\n\u001b[0;32m--> 311\u001b[0;31m                           ilu=False, options=_options)\n\u001b[0m\u001b[1;32m    312\u001b[0m \u001b[0;34m\u001b[0m\u001b[0m\n\u001b[1;32m    313\u001b[0m \u001b[0;34m\u001b[0m\u001b[0m\n",
      "\u001b[0;31mKeyboardInterrupt\u001b[0m: "
     ]
    }
   ],
   "source": [
    "minimize(fun, padded_points, method='Powell')"
   ]
  },
  {
   "cell_type": "code",
   "execution_count": 15,
   "metadata": {},
   "outputs": [
    {
     "name": "stdout",
     "output_type": "stream",
     "text": [
      "(1.0, 1.0, 4.333333333333334) 0.7666610017607789\n",
      "(1.0, 1.0, 6.0) 0.6614425712746769\n",
      "(1.0, 2.666666666666667, 6.0) 0.5163840674139417\n",
      "(2.666666666666667, 2.666666666666667, 4.333333333333334) 0.4513929712887476\n",
      "(2.666666666666667, 2.666666666666667, 6.0) 0.35923784557237864\n",
      "(6.0, 4.333333333333334, 2.666666666666667) 0.3490885376340931\n"
     ]
    }
   ],
   "source": [
    "min_value = 0.8\n",
    "for points in it.product(np.linspace(1, 6, 4), repeat=3):\n",
    "    score = fun(points)\n",
    "    if score < min_value:\n",
    "        print(points, score)\n",
    "        min_value = score"
   ]
  },
  {
   "cell_type": "code",
   "execution_count": null,
   "metadata": {},
   "outputs": [],
   "source": [
    "res"
   ]
  },
  {
   "cell_type": "code",
   "execution_count": 74,
   "metadata": {},
   "outputs": [
    {
     "name": "stdout",
     "output_type": "stream",
     "text": [
      "0.12260716347662338\n"
     ]
    },
    {
     "data": {
      "image/png": "[encoded data removed]",
      "text/plain": [
       "<Figure size 432x288 with 1 Axes>"
      ]
     },
     "metadata": {
      "needs_background": "light"
     },
     "output_type": "display_data"
    }
   ],
   "source": [
    "opti_points = [6, 8.0, 1.0, 1.1891891891891893]\n",
    "opti_beam = Beam(opti_points)\n",
    "print(fun(opti_points))\n",
    "plt.plot(x_mesh, opti_beam.thickness(x_mesh), '-+', label='opti');\n",
    "plt.axhline(y=0);"
   ]
  },
  {
   "cell_type": "code",
   "execution_count": null,
   "metadata": {},
   "outputs": [],
   "source": []
  }
 ],
 "metadata": {
  "kernelspec": {
   "display_name": "py3 venv",
   "language": "python",
   "name": "py3"
  },
  "language_info": {
   "codemirror_mode": {
    "name": "ipython",
    "version": 3
   },
   "file_extension": ".py",
   "mimetype": "text/x-python",
   "name": "python",
   "nbconvert_exporter": "python",
   "pygments_lexer": "ipython3",
   "version": "3.6.7"
  }
 },
 "nbformat": 4,
 "nbformat_minor": 2
}
