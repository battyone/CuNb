{
 "cells": [
  {
   "cell_type": "code",
   "execution_count": 80,
   "metadata": {},
   "outputs": [],
   "source": [
    "import matplotlib.pylab as plt"
   ]
  },
  {
   "cell_type": "code",
   "execution_count": 2,
   "metadata": {},
   "outputs": [],
   "source": [
    "import numpy as np"
   ]
  },
  {
   "cell_type": "code",
   "execution_count": 4,
   "metadata": {},
   "outputs": [],
   "source": [
    "EPSILON = 1e-8"
   ]
  },
  {
   "cell_type": "code",
   "execution_count": 5,
   "metadata": {},
   "outputs": [],
   "source": [
    "def plane_intersection(ray, plane):\n",
    "    ''' Find the intersection point between a ray and a plane\n",
    "            ray: tuple (A, u) starting point and direction\n",
    "            plane: tuple (P, n, ux) origin, normal direction and in-plane x-axis\n",
    "            \n",
    "        Returns:\n",
    "            coordinates of the intersection point in the 3D ref. frame\n",
    "            coordinates of the intersection point in the plane ref. frame (u, v)\n",
    "    '''\n",
    "    A, u = ray\n",
    "    P, n, plane_x = plane\n",
    "    \n",
    "    A, P = np.asarray(A), np.asarray(P)\n",
    "    u, n, plane_x = np.asarray(u), np.asarray(n), np.asarray(plane_x)\n",
    "    \n",
    "    u_dot_n = np.inner(u, n)\n",
    "    AP_dot_n = np.inner(P - A, n)\n",
    "    \n",
    "    if u_dot_n >= -EPSILON and AP_dot_n >= -EPSILON:    \n",
    "        # print('do not colide')\n",
    "        return None, None\n",
    "    else:\n",
    "        t = AP_dot_n / u_dot_n  # time of collision\n",
    "        B = A + u*t   # collision point\n",
    "        \n",
    "        plane_y = np.cross(n, plane_x)\n",
    "        proj_x = np.inner(plane_x, B-P)\n",
    "        proj_y = np.inner(plane_y, B-P)\n",
    "        return B, (proj_x, proj_y)\n",
    "\n",
    "# test\n",
    "A = (1.2, 0, 0)\n",
    "u = (-1, 0, 0)\n",
    "ray = (A, u)\n",
    "\n",
    "P = (0, 0, 0)\n",
    "n = (1, 1, 4)\n",
    "plane_x = (-1, 1, 0)\n",
    "plane = (P, n, plane_x)\n",
    "\n",
    "assert np.allclose(plane_intersection(ray, plane)[0], [0., 0., 0.])\n"
   ]
  },
  {
   "cell_type": "code",
   "execution_count": 106,
   "metadata": {},
   "outputs": [],
   "source": [
    "N = 1000\n",
    "A = np.random.rand(N, 3)\n",
    "u = .1 * np.random.rand(N, 3)\n",
    "u[:, 0] += -.08\n",
    "A[:, 0] += 3\n",
    "\n",
    "plane_center = np.array((0, 0, 0))\n",
    "plane_normal = np.array((1, 0, 0)) \n",
    "\n",
    "AP_dot_n = np.inner((A - plane_center), plane_normal)\n",
    "\n",
    "u_dot_n = np.inner(u, plane_normal)\n",
    "\n",
    "t = - AP_dot_n / u_dot_n\n",
    "B = A + u*t[:, np.newaxis]"
   ]
  },
  {
   "cell_type": "code",
   "execution_count": 107,
   "metadata": {},
   "outputs": [],
   "source": [
    "B[t<0] = np.NaN"
   ]
  },
  {
   "cell_type": "code",
   "execution_count": 108,
   "metadata": {},
   "outputs": [
    {
     "data": {
      "text/plain": [
       "array([[4.44089210e-16, 1.11293925e+01, 1.56056396e+01],\n",
       "       [0.00000000e+00, 9.11126742e+00, 1.56688789e+00],\n",
       "       [0.00000000e+00, 9.22568888e+01, 1.33334641e+01],\n",
       "       ...,\n",
       "       [           nan,            nan,            nan],\n",
       "       [0.00000000e+00, 2.27418086e+00, 2.39775102e+00],\n",
       "       [0.00000000e+00, 5.17459275e+00, 3.47261945e+00]])"
      ]
     },
     "execution_count": 108,
     "metadata": {},
     "output_type": "execute_result"
    }
   ],
   "source": [
    "B"
   ]
  },
  {
   "cell_type": "code",
   "execution_count": 109,
   "metadata": {},
   "outputs": [
    {
     "data": {
      "image/png": "[encoded data removed]",
      "text/plain": [
       "<Figure size 432x288 with 1 Axes>"
      ]
     },
     "metadata": {
      "needs_background": "light"
     },
     "output_type": "display_data"
    }
   ],
   "source": [
    "plt.plot(B[:, 1], B[:, 2], '.', alpha=.3)\n",
    "plt.axis('equal');"
   ]
  },
  {
   "cell_type": "code",
   "execution_count": null,
   "metadata": {},
   "outputs": [],
   "source": [
    "A, u = ray\n",
    "plane_n, plane_x = plane\n",
    "\n",
    "A, P = np.asarray(A), np.asarray(P)\n",
    "u, n, plane_x = np.asarray(u), np.asarray(n), np.asarray(plane_x)\n",
    "\n",
    "u_dot_n = np.inner(u, n)\n",
    "AP_dot_n = np.inner(P - A, n)\n",
    "\n",
    "if u_dot_n >= -EPSILON and AP_dot_n >= -EPSILON:    \n",
    "    # print('do not colide')\n",
    "    return None, None\n",
    "else:\n",
    "    t = AP_dot_n / u_dot_n  # time of collision\n",
    "    B = A + u*t   # collision point\n",
    "\n",
    "    plane_y = np.cross(n, plane_x)\n",
    "    proj_x = np.inner(plane_x, B-P)\n",
    "    proj_y = np.inner(plane_y, B-P)\n",
    "    return B, (proj_x, proj_y)"
   ]
  },
  {
   "cell_type": "markdown",
   "metadata": {},
   "source": [
    "https://www.mathcurve.com/courbes2d/ellipse/ellipse.shtml\n",
    "\n",
    "eq polaire d'une ellipse"
   ]
  },
  {
   "cell_type": "code",
   "execution_count": 114,
   "metadata": {},
   "outputs": [],
   "source": [
    "def get_xy(theta, rho):\n",
    "    x = rho * np.cos(theta)\n",
    "    y = rho * np.sin(theta)\n",
    "    return x, y"
   ]
  },
  {
   "cell_type": "code",
   "execution_count": 115,
   "metadata": {},
   "outputs": [],
   "source": [
    "theta = np.linspace(-np.pi, np.pi, 111)"
   ]
  },
  {
   "cell_type": "code",
   "execution_count": 116,
   "metadata": {},
   "outputs": [],
   "source": [
    "a, b = 1, .6\n",
    "p = b**2/a\n",
    "e = np.sqrt(a**2 - b**2)/a"
   ]
  },
  {
   "cell_type": "code",
   "execution_count": 153,
   "metadata": {},
   "outputs": [],
   "source": [
    "rho_1 =  a*b/np.sqrt( b**2*np.cos(theta)**2 + a**2*np.sin(theta)**2 )\n",
    "\n",
    "rho_2 = p/(1 + e*np.cos(theta))\n",
    "\n",
    "rho_3 = a*2*a*np.cos(theta)/(1 - e**2*np.cos(theta)**2)\n",
    "\n",
    "d = 10\n",
    "theta_0 = np.pi/10 + 3\n",
    "alpha = np.pi/9 + 8\n",
    "cosBeta = np.sin(alpha) * np.cos(theta)\n",
    "rho_4 = cosBeta + np.sqrt( cosBeta**2 + d**2 * np.tan(theta_0)**2 )\n",
    "rho_5 = cosBeta - np.sqrt( cosBeta**2 + d**2 * np.tan(theta_0)**2 )"
   ]
  },
  {
   "cell_type": "code",
   "execution_count": 154,
   "metadata": {},
   "outputs": [
    {
     "data": {
      "image/png": "[encoded data removed]",
      "text/plain": [
       "<Figure size 432x288 with 1 Axes>"
      ]
     },
     "metadata": {
      "needs_background": "light"
     },
     "output_type": "display_data"
    }
   ],
   "source": [
    "plt.plot(*get_xy(theta, rho_1), label='1');\n",
    "plt.plot(*get_xy(theta, rho_2), label='2');\n",
    "plt.plot(*get_xy(theta, rho_3), label='3');\n",
    "plt.plot(*get_xy(theta, rho_4), label='4');\n",
    "plt.plot(*get_xy(theta, rho_5), label='5');\n",
    "\n",
    "plt.axis('equal'); plt.legend();\n",
    "plt.plot(0, 0, '+k');"
   ]
  },
  {
   "cell_type": "code",
   "execution_count": 155,
   "metadata": {},
   "outputs": [
    {
     "ename": "ImportError",
     "evalue": "No module named 'sympy'",
     "output_type": "error",
     "traceback": [
      "\u001b[0;31m---------------------------------------------------------------------------\u001b[0m",
      "\u001b[0;31mImportError\u001b[0m                               Traceback (most recent call last)",
      "\u001b[0;32m<ipython-input-155-6aef573226bd>\u001b[0m in \u001b[0;36m<module>\u001b[0;34m\u001b[0m\n\u001b[0;32m----> 1\u001b[0;31m \u001b[0;32mimport\u001b[0m \u001b[0msympy\u001b[0m \u001b[0;32mas\u001b[0m \u001b[0msp\u001b[0m\u001b[0;34m\u001b[0m\u001b[0m\n\u001b[0m",
      "\u001b[0;31mImportError\u001b[0m: No module named 'sympy'"
     ]
    }
   ],
   "source": [
    "import sympy as sp"
   ]
  },
  {
   "cell_type": "code",
   "execution_count": null,
   "metadata": {},
   "outputs": [],
   "source": []
  }
 ],
 "metadata": {
  "kernelspec": {
   "display_name": "global-py3",
   "language": "python",
   "name": "global-py3"
  },
  "language_info": {
   "codemirror_mode": {
    "name": "ipython",
    "version": 3
   },
   "file_extension": ".py",
   "mimetype": "text/x-python",
   "name": "python",
   "nbconvert_exporter": "python",
   "pygments_lexer": "ipython3",
   "version": "3.5.2"
  }
 },
 "nbformat": 4,
 "nbformat_minor": 2
}
