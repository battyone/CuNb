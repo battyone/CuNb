{
 "cells": [
  {
   "cell_type": "code",
   "execution_count": 25,
   "metadata": {},
   "outputs": [],
   "source": [
    "import matplotlib.pylab as plt"
   ]
  },
  {
   "cell_type": "code",
   "execution_count": 26,
   "metadata": {},
   "outputs": [],
   "source": [
    "import numpy as np"
   ]
  },
  {
   "cell_type": "code",
   "execution_count": 4,
   "metadata": {},
   "outputs": [],
   "source": [
    "EPSILON = 1e-8"
   ]
  },
  {
   "cell_type": "code",
   "execution_count": 5,
   "metadata": {},
   "outputs": [],
   "source": [
    "def plane_intersection(ray, plane):\n",
    "    ''' Find the intersection point between a ray and a plane\n",
    "            ray: tuple (A, u) starting point and direction\n",
    "            plane: tuple (P, n, ux) origin, normal direction and in-plane x-axis\n",
    "            \n",
    "        Returns:\n",
    "            coordinates of the intersection point in the 3D ref. frame\n",
    "            coordinates of the intersection point in the plane ref. frame (u, v)\n",
    "    '''\n",
    "    A, u = ray\n",
    "    P, n, plane_x = plane\n",
    "    \n",
    "    A, P = np.asarray(A), np.asarray(P)\n",
    "    u, n, plane_x = np.asarray(u), np.asarray(n), np.asarray(plane_x)\n",
    "    \n",
    "    u_dot_n = np.inner(u, n)\n",
    "    AP_dot_n = np.inner(P - A, n)\n",
    "    \n",
    "    if u_dot_n >= -EPSILON and AP_dot_n >= -EPSILON:    \n",
    "        # print('do not colide')\n",
    "        return None, None\n",
    "    else:\n",
    "        t = AP_dot_n / u_dot_n  # time of collision\n",
    "        B = A + u*t   # collision point\n",
    "        \n",
    "        plane_y = np.cross(n, plane_x)\n",
    "        proj_x = np.inner(plane_x, B-P)\n",
    "        proj_y = np.inner(plane_y, B-P)\n",
    "        return B, (proj_x, proj_y)\n",
    "\n",
    "# test\n",
    "A = (1.2, 0, 0)\n",
    "u = (-1, 0, 0)\n",
    "ray = (A, u)\n",
    "\n",
    "P = (0, 0, 0)\n",
    "n = (1, 1, 4)\n",
    "plane_x = (-1, 1, 0)\n",
    "plane = (P, n, plane_x)\n",
    "\n",
    "assert np.allclose(plane_intersection(ray, plane)[0], [0., 0., 0.])\n"
   ]
  },
  {
   "cell_type": "code",
   "execution_count": 106,
   "metadata": {},
   "outputs": [],
   "source": [
    "N = 1000\n",
    "A = np.random.rand(N, 3)\n",
    "u = .1 * np.random.rand(N, 3)\n",
    "u[:, 0] += -.08\n",
    "A[:, 0] += 3\n",
    "\n",
    "plane_center = np.array((0, 0, 0))\n",
    "plane_normal = np.array((1, 0, 0)) \n",
    "\n",
    "AP_dot_n = np.inner((A - plane_center), plane_normal)\n",
    "\n",
    "u_dot_n = np.inner(u, plane_normal)\n",
    "\n",
    "t = - AP_dot_n / u_dot_n\n",
    "B = A + u*t[:, np.newaxis]"
   ]
  },
  {
   "cell_type": "code",
   "execution_count": 107,
   "metadata": {},
   "outputs": [],
   "source": [
    "B[t<0] = np.NaN"
   ]
  },
  {
   "cell_type": "code",
   "execution_count": 108,
   "metadata": {},
   "outputs": [
    {
     "data": {
      "text/plain": [
       "array([[4.44089210e-16, 1.11293925e+01, 1.56056396e+01],\n",
       "       [0.00000000e+00, 9.11126742e+00, 1.56688789e+00],\n",
       "       [0.00000000e+00, 9.22568888e+01, 1.33334641e+01],\n",
       "       ...,\n",
       "       [           nan,            nan,            nan],\n",
       "       [0.00000000e+00, 2.27418086e+00, 2.39775102e+00],\n",
       "       [0.00000000e+00, 5.17459275e+00, 3.47261945e+00]])"
      ]
     },
     "execution_count": 108,
     "metadata": {},
     "output_type": "execute_result"
    }
   ],
   "source": [
    "B"
   ]
  },
  {
   "cell_type": "code",
   "execution_count": 109,
   "metadata": {},
   "outputs": [
    {
     "data": {
      "image/png": "[encoded data removed]",
      "text/plain": [
       "<Figure size 432x288 with 1 Axes>"
      ]
     },
     "metadata": {
      "needs_background": "light"
     },
     "output_type": "display_data"
    }
   ],
   "source": [
    "plt.plot(B[:, 1], B[:, 2], '.', alpha=.3)\n",
    "plt.axis('equal');"
   ]
  },
  {
   "cell_type": "code",
   "execution_count": null,
   "metadata": {},
   "outputs": [],
   "source": [
    "A, u = ray\n",
    "plane_n, plane_x = plane\n",
    "\n",
    "A, P = np.asarray(A), np.asarray(P)\n",
    "u, n, plane_x = np.asarray(u), np.asarray(n), np.asarray(plane_x)\n",
    "\n",
    "u_dot_n = np.inner(u, n)\n",
    "AP_dot_n = np.inner(P - A, n)\n",
    "\n",
    "if u_dot_n >= -EPSILON and AP_dot_n >= -EPSILON:    \n",
    "    # print('do not colide')\n",
    "    return None, None\n",
    "else:\n",
    "    t = AP_dot_n / u_dot_n  # time of collision\n",
    "    B = A + u*t   # collision point\n",
    "\n",
    "    plane_y = np.cross(n, plane_x)\n",
    "    proj_x = np.inner(plane_x, B-P)\n",
    "    proj_y = np.inner(plane_y, B-P)\n",
    "    return B, (proj_x, proj_y)"
   ]
  },
  {
   "cell_type": "markdown",
   "metadata": {},
   "source": [
    "https://www.mathcurve.com/courbes2d/ellipse/ellipse.shtml\n",
    "\n",
    "eq polaire d'une ellipse"
   ]
  },
  {
   "cell_type": "code",
   "execution_count": 267,
   "metadata": {},
   "outputs": [],
   "source": [
    "def get_xy(theta, rho):\n",
    "    x = rho * np.cos(theta)\n",
    "    y = rho * np.sin(theta)\n",
    "    return x, y"
   ]
  },
  {
   "cell_type": "code",
   "execution_count": 115,
   "metadata": {},
   "outputs": [],
   "source": [
    "theta = np.linspace(-np.pi, np.pi, 111)"
   ]
  },
  {
   "cell_type": "code",
   "execution_count": 116,
   "metadata": {},
   "outputs": [],
   "source": [
    "a, b = 1, .6\n",
    "p = b**2/a\n",
    "e = np.sqrt(a**2 - b**2)/a"
   ]
  },
  {
   "cell_type": "code",
   "execution_count": 153,
   "metadata": {},
   "outputs": [],
   "source": [
    "rho_1 =  a*b/np.sqrt( b**2*np.cos(theta)**2 + a**2*np.sin(theta)**2 )\n",
    "\n",
    "rho_2 = p/(1 + e*np.cos(theta))\n",
    "\n",
    "rho_3 = a*2*a*np.cos(theta)/(1 - e**2*np.cos(theta)**2)\n",
    "\n",
    "d = 10\n",
    "theta_0 = np.pi/10 + 3\n",
    "alpha = np.pi/9 + 8\n",
    "cosBeta = np.sin(alpha) * np.cos(theta)\n",
    "rho_4 = cosBeta + np.sqrt( cosBeta**2 + d**2 * np.tan(theta_0)**2 )\n",
    "rho_5 = cosBeta - np.sqrt( cosBeta**2 + d**2 * np.tan(theta_0)**2 )"
   ]
  },
  {
   "cell_type": "code",
   "execution_count": 154,
   "metadata": {},
   "outputs": [
    {
     "data": {
      "image/png": "[encoded data removed]",
      "text/plain": [
       "<Figure size 432x288 with 1 Axes>"
      ]
     },
     "metadata": {
      "needs_background": "light"
     },
     "output_type": "display_data"
    }
   ],
   "source": [
    "plt.plot(*get_xy(theta, rho_1), label='1');\n",
    "plt.plot(*get_xy(theta, rho_2), label='2');\n",
    "plt.plot(*get_xy(theta, rho_3), label='3');\n",
    "plt.plot(*get_xy(theta, rho_4), label='4');\n",
    "plt.plot(*get_xy(theta, rho_5), label='5');\n",
    "\n",
    "plt.axis('equal'); plt.legend();\n",
    "plt.plot(0, 0, '+k');"
   ]
  },
  {
   "cell_type": "code",
   "execution_count": 29,
   "metadata": {},
   "outputs": [],
   "source": [
    "import sympy as sp"
   ]
  },
  {
   "cell_type": "code",
   "execution_count": 282,
   "metadata": {},
   "outputs": [],
   "source": [
    "t, b, d = sp.symbols('t, b, d')\n",
    "beta, theta = sp.symbols('beta, theta')"
   ]
  },
  {
   "cell_type": "code",
   "execution_count": 283,
   "metadata": {},
   "outputs": [],
   "source": [
    "c_alpha, c_theta = sp.symbols('c_alpha, c_theta')\n",
    "rho, d = sp.symbols('rho, d')"
   ]
  },
  {
   "cell_type": "code",
   "execution_count": 284,
   "metadata": {},
   "outputs": [
    {
     "data": {
      "text/latex": [
       "$\\displaystyle c_{\\alpha}$"
      ],
      "text/plain": [
       "c_alpha"
      ]
     },
     "execution_count": 284,
     "metadata": {},
     "output_type": "execute_result"
    }
   ],
   "source": [
    "c_alpha"
   ]
  },
  {
   "cell_type": "code",
   "execution_count": 285,
   "metadata": {},
   "outputs": [
    {
     "data": {
      "text/latex": [
       "$\\displaystyle 2 c_{\\alpha} d \\rho \\left(1 - c_{\\theta}^{2}\\right) - d^{2} \\left(1 - c_{\\theta}^{2}\\right) + \\rho^{2} \\left(- c_{\\alpha}^{2} + c_{\\theta}^{2}\\right)$"
      ],
      "text/plain": [
       "2*c_alpha*d*rho*(1 - c_theta**2) - d**2*(1 - c_theta**2) + rho**2*(-c_alpha**2 + c_theta**2)"
      ]
     },
     "execution_count": 285,
     "metadata": {},
     "output_type": "execute_result"
    }
   ],
   "source": [
    "eq = rho**2*(c_theta**2 - c_alpha**2) + 2*rho*d*c_alpha*(1-c_theta**2) - d**2*(1-c_theta**2)\n",
    "eq"
   ]
  },
  {
   "cell_type": "code",
   "execution_count": 291,
   "metadata": {},
   "outputs": [
    {
     "data": {
      "text/latex": [
       "$\\displaystyle - 2 c_{\\beta} d t - 2 c_{\\theta} d \\sqrt{- 2 c_{\\beta} d t + d^{2} + t^{2}} + d^{2}$"
      ],
      "text/plain": [
       "-2*c_beta*d*t - 2*c_theta*d*sqrt(-2*c_beta*d*t + d**2 + t**2) + d**2"
      ]
     },
     "execution_count": 291,
     "metadata": {},
     "output_type": "execute_result"
    }
   ],
   "source": [
    "eq = d**2 - 2*t*d*c_beta - 2*d*c_theta*sp.sqrt(t**2 + d**2 - 2*t*d*c_beta)\n",
    "eq"
   ]
  },
  {
   "cell_type": "code",
   "execution_count": 294,
   "metadata": {},
   "outputs": [],
   "source": [
    "sol = sp.solve(eq, t)"
   ]
  },
  {
   "cell_type": "code",
   "execution_count": 295,
   "metadata": {},
   "outputs": [
    {
     "data": {
      "text/plain": [
       "[d*(-2*c_beta*c_theta**2 + c_beta + c_theta*sqrt(4*c_beta**2*c_theta**2 - 4*c_theta**2 + 1))/(2*c_beta**2 - 2*c_theta**2),\n",
       " -d*(2*c_beta*c_theta**2 - c_beta + c_theta*sqrt(4*c_beta**2*c_theta**2 - 4*c_theta**2 + 1))/(2*c_beta**2 - 2*c_theta**2)]"
      ]
     },
     "execution_count": 295,
     "metadata": {},
     "output_type": "execute_result"
    }
   ],
   "source": [
    "sol"
   ]
  },
  {
   "cell_type": "code",
   "execution_count": 296,
   "metadata": {},
   "outputs": [
    {
     "data": {
      "text/latex": [
       "$\\displaystyle \\frac{d \\left(- 2 c_{\\beta} c_{\\theta}^{2} + c_{\\beta} + c_{\\theta} \\sqrt{4 c_{\\beta}^{2} c_{\\theta}^{2} - 4 c_{\\theta}^{2} + 1}\\right)}{2 c_{\\beta}^{2} - 2 c_{\\theta}^{2}}$"
      ],
      "text/plain": [
       "d*(-2*c_beta*c_theta**2 + c_beta + c_theta*sqrt(4*c_beta**2*c_theta**2 - 4*c_theta**2 + 1))/(2*c_beta**2 - 2*c_theta**2)"
      ]
     },
     "execution_count": 296,
     "metadata": {},
     "output_type": "execute_result"
    }
   ],
   "source": [
    "sol[0]"
   ]
  },
  {
   "cell_type": "code",
   "execution_count": 297,
   "metadata": {},
   "outputs": [
    {
     "data": {
      "text/plain": [
       "{c_beta, c_theta, d}"
      ]
     },
     "execution_count": 297,
     "metadata": {},
     "output_type": "execute_result"
    }
   ],
   "source": [
    "sol[1].free_symbols"
   ]
  },
  {
   "cell_type": "code",
   "execution_count": 298,
   "metadata": {},
   "outputs": [],
   "source": [
    "sol0 = sp.lambdify((c_alpha, c_theta, d), sol[0], 'numpy')\n",
    "sol1 = sp.lambdify((c_alpha, c_theta, d), sol[1], 'numpy')"
   ]
  },
  {
   "cell_type": "code",
   "execution_count": 210,
   "metadata": {},
   "outputs": [],
   "source": [
    "d_val = 2\n",
    "theta_0 = 30 *np.pi/180\n",
    "alpha_min = 25*np.pi/180\n",
    "\n",
    "gamma = np.linspace(-np.pi/2, +np.pi/2, 120)\n",
    "cosAlpha = np.sin(alpha_min) * np.sin(gamma)\n",
    "rho_4 = sol0(cosAlpha, np.cos(theta_0), d_val)\n",
    "rho_5 = sol1(cosAlpha, np.cos(theta_0), d_val)"
   ]
  },
  {
   "cell_type": "code",
   "execution_count": 299,
   "metadata": {},
   "outputs": [
    {
     "data": {
      "image/png": "[encoded data removed]",
      "text/plain": [
       "<Figure size 432x288 with 1 Axes>"
      ]
     },
     "metadata": {
      "needs_background": "light"
     },
     "output_type": "display_data"
    }
   ],
   "source": [
    "plt.plot(*get_xy(gamma, rho_4), label='5');\n",
    "plt.plot(*get_xy(gamma, rho_5), label='5');\n",
    "\n",
    "plt.axis('equal'); plt.legend();\n",
    "plt.plot(0, 0, '+k');"
   ]
  },
  {
   "cell_type": "code",
   "execution_count": 178,
   "metadata": {},
   "outputs": [],
   "source": [
    "c_alpha, c_theta = sp.symbols('c_alpha, c_theta')\n",
    "rho, d, a = sp.symbols('rho, d, a')"
   ]
  },
  {
   "cell_type": "code",
   "execution_count": 149,
   "metadata": {},
   "outputs": [],
   "source": [
    "eqs = [a**2  +d**2 - rho**2 - 2*a*d*c_theta,\n",
    "       rho**2 + d**2 -a**2 - 2*rho*d*c_alpha]"
   ]
  },
  {
   "cell_type": "code",
   "execution_count": 156,
   "metadata": {},
   "outputs": [
    {
     "data": {
      "text/plain": [
       "[-sqrt(-2*c_alpha*d*rho + d**2 + rho**2),\n",
       " sqrt(-2*c_alpha*d*rho + d**2 + rho**2)]"
      ]
     },
     "execution_count": 156,
     "metadata": {},
     "output_type": "execute_result"
    }
   ],
   "source": [
    "sol_a = sp.solve(eqs[1], a)\n",
    "sol_a"
   ]
  },
  {
   "cell_type": "code",
   "execution_count": 159,
   "metadata": {},
   "outputs": [
    {
     "data": {
      "text/latex": [
       "$\\displaystyle - 2 c_{\\alpha} d \\rho - 2 c_{\\theta} d \\sqrt{- 2 c_{\\alpha} d \\rho + d^{2} + \\rho^{2}} + 2 d^{2}$"
      ],
      "text/plain": [
       "-2*c_alpha*d*rho - 2*c_theta*d*sqrt(-2*c_alpha*d*rho + d**2 + rho**2) + 2*d**2"
      ]
     },
     "execution_count": 159,
     "metadata": {},
     "output_type": "execute_result"
    }
   ],
   "source": [
    "eq = eqs[0].subs(a, sol_a[1])\n",
    "eq"
   ]
  },
  {
   "cell_type": "code",
   "execution_count": 160,
   "metadata": {},
   "outputs": [
    {
     "data": {
      "text/plain": [
       "[d*(-c_alpha*c_theta**2 + c_alpha + c_theta*sqrt(c_alpha**2*c_theta**2 - c_alpha**2 - c_theta**2 + 1))/(c_alpha**2 - c_theta**2),\n",
       " -d*(c_alpha*c_theta**2 - c_alpha + c_theta*sqrt(c_alpha**2*c_theta**2 - c_alpha**2 - c_theta**2 + 1))/(c_alpha**2 - c_theta**2)]"
      ]
     },
     "execution_count": 160,
     "metadata": {},
     "output_type": "execute_result"
    }
   ],
   "source": [
    "sol = sp.solve(eq, rho)\n",
    "sol"
   ]
  },
  {
   "cell_type": "code",
   "execution_count": 247,
   "metadata": {},
   "outputs": [],
   "source": [
    "### Avec l'équation d'un cone\n",
    "# x2 + y2 = z**2*tan(alpha)**2"
   ]
  },
  {
   "cell_type": "code",
   "execution_count": 256,
   "metadata": {},
   "outputs": [],
   "source": [
    "u, v, rho, Gamma = sp.symbols('u, v, rho, Gamma')\n",
    "beta, ta, z0 = sp.symbols('beta, t_alpha, z_0')"
   ]
  },
  {
   "cell_type": "code",
   "execution_count": 257,
   "metadata": {},
   "outputs": [],
   "source": [
    "eq = (u*sp.cos(beta))**2 + v**2 - (u*sp.sin(beta) + z0)**2 * ta**2"
   ]
  },
  {
   "cell_type": "code",
   "execution_count": 258,
   "metadata": {},
   "outputs": [],
   "source": [
    "eq = eq.subs(((u, rho*sp.cos(Gamma)),\n",
    "              (v, rho*sp.sin(Gamma)) ))"
   ]
  },
  {
   "cell_type": "code",
   "execution_count": 259,
   "metadata": {},
   "outputs": [
    {
     "data": {
      "text/latex": [
       "$\\displaystyle \\rho^{2} \\sin^{2}{\\left(\\Gamma \\right)} + \\rho^{2} \\cos^{2}{\\left(\\Gamma \\right)} \\cos^{2}{\\left(\\beta \\right)} - t_{\\alpha}^{2} \\left(\\rho \\sin{\\left(\\beta \\right)} \\cos{\\left(\\Gamma \\right)} + z_{0}\\right)^{2}$"
      ],
      "text/plain": [
       "rho**2*sin(Gamma)**2 + rho**2*cos(Gamma)**2*cos(beta)**2 - t_alpha**2*(rho*sin(beta)*cos(Gamma) + z_0)**2"
      ]
     },
     "execution_count": 259,
     "metadata": {},
     "output_type": "execute_result"
    }
   ],
   "source": [
    "eq"
   ]
  },
  {
   "cell_type": "code",
   "execution_count": 260,
   "metadata": {},
   "outputs": [],
   "source": [
    "sol = sp.solve(eq, rho)"
   ]
  },
  {
   "cell_type": "code",
   "execution_count": 261,
   "metadata": {},
   "outputs": [
    {
     "data": {
      "text/latex": [
       "$\\displaystyle \\frac{t_{\\alpha} z_{0} \\left(t_{\\alpha} \\sin{\\left(\\beta \\right)} \\cos{\\left(\\Gamma \\right)} + \\sqrt{\\sin^{2}{\\left(\\Gamma \\right)} + \\cos^{2}{\\left(\\Gamma \\right)} \\cos^{2}{\\left(\\beta \\right)}}\\right)}{- t_{\\alpha}^{2} \\sin^{2}{\\left(\\beta \\right)} \\cos^{2}{\\left(\\Gamma \\right)} + \\sin^{2}{\\left(\\Gamma \\right)} + \\cos^{2}{\\left(\\Gamma \\right)} \\cos^{2}{\\left(\\beta \\right)}}$"
      ],
      "text/plain": [
       "t_alpha*z_0*(t_alpha*sin(beta)*cos(Gamma) + sqrt(sin(Gamma)**2 + cos(Gamma)**2*cos(beta)**2))/(-t_alpha**2*sin(beta)**2*cos(Gamma)**2 + sin(Gamma)**2 + cos(Gamma)**2*cos(beta)**2)"
      ]
     },
     "execution_count": 261,
     "metadata": {},
     "output_type": "execute_result"
    }
   ],
   "source": [
    "sp.simplify(sol[1])"
   ]
  },
  {
   "cell_type": "code",
   "execution_count": 262,
   "metadata": {},
   "outputs": [
    {
     "data": {
      "text/plain": [
       "{Gamma, beta, t_alpha, z_0}"
      ]
     },
     "execution_count": 262,
     "metadata": {},
     "output_type": "execute_result"
    }
   ],
   "source": [
    "sol[1].free_symbols"
   ]
  },
  {
   "cell_type": "code",
   "execution_count": 281,
   "metadata": {},
   "outputs": [
    {
     "data": {
      "image/png": "[encoded data removed]",
      "text/plain": [
       "<Figure size 432x288 with 1 Axes>"
      ]
     },
     "metadata": {
      "needs_background": "light"
     },
     "output_type": "display_data"
    }
   ],
   "source": [
    "sol0 = sp.lambdify((Gamma, beta, ta, z0), sol[0], 'numpy')\n",
    "\n",
    "ta_val = np.tan( 20 *np.pi/180 ) # demi angle cone\n",
    "z0_val = 3\n",
    "beta_val = 105 *np.pi/180\n",
    "\n",
    "gamma_val = np.linspace(-np.pi, +np.pi, 120)\n",
    "\n",
    "plt.plot(*get_xy(gamma_val, sol0(gamma_val, beta_val, ta_val, z0_val)), ',',\n",
    "         label='5');\n",
    "\n",
    "plt.axis('equal'); plt.legend();\n",
    "plt.plot(0, 0, '+k');"
   ]
  },
  {
   "cell_type": "code",
   "execution_count": null,
   "metadata": {},
   "outputs": [],
   "source": []
  }
 ],
 "metadata": {
  "kernelspec": {
   "display_name": "py3 venv",
   "language": "python",
   "name": "py3"
  },
  "language_info": {
   "codemirror_mode": {
    "name": "ipython",
    "version": 3
   },
   "file_extension": ".py",
   "mimetype": "text/x-python",
   "name": "python",
   "nbconvert_exporter": "python",
   "pygments_lexer": "ipython3",
   "version": "3.6.7"
  }
 },
 "nbformat": 4,
 "nbformat_minor": 2
}
