{
 "cells": [
  {
   "cell_type": "code",
   "execution_count": 1,
   "metadata": {},
   "outputs": [],
   "source": [
    "import matplotlib.pylab as plt\n",
    "import numpy as np"
   ]
  },
  {
   "cell_type": "markdown",
   "metadata": {},
   "source": [
    "# Ray tracing Vectorized"
   ]
  },
  {
   "cell_type": "code",
   "execution_count": 2,
   "metadata": {},
   "outputs": [],
   "source": [
    "def normed(array_of_vector):\n",
    "    ''' return the array of normed vector (vector along the last dim)\n",
    "        i.e. a (nbre_vector, n_dim) array'''\n",
    "    array_of_vector = np.asarray(array_of_vector)\n",
    "    norm = np.linalg.norm(array_of_vector, axis=-1, keepdims=True)\n",
    "    return  np.divide(array_of_vector, norm, where=norm>0)\n",
    "\n",
    "# test\n",
    "assert np.allclose(normed(np.array((2, 0, 0))),\n",
    "                   np.array((1, 0, 0)))\n",
    "assert np.allclose(normed(np.array([(0, 2, 0), (0, -3, 0), (0, 0, 0), (-1, 0, 0)])),\n",
    "                   np.array([(0, 1, 0), (0, -1, 0), (0, 0, 0), (-1, 0, 0)]))"
   ]
  },
  {
   "cell_type": "code",
   "execution_count": 3,
   "metadata": {},
   "outputs": [],
   "source": [
    "def plane_intersection(A, u, plane_center, plane_normal):\n",
    "    # Intersection of incident beams with sample plane:\n",
    "    A = np.asarray(A, dtype=np.float64)\n",
    "    u = np.asarray(u, dtype=np.float64)\n",
    "\n",
    "\n",
    "    AP_dot_n = np.inner((A - plane_center), plane_normal)\n",
    "    u_dot_n = np.inner(u, plane_normal)\n",
    "\n",
    "    t = - np.divide(AP_dot_n, u_dot_n,\n",
    "                    where=np.logical_not(np.isclose(u_dot_n, 0)))\n",
    "    t[t<0] = np.NaN\n",
    "    B = A + u*t[:, np.newaxis]\n",
    "    return B\n",
    "\n",
    "# test\n",
    "A = np.array([(1, 0, 0), (2, 1, 0), (1, 0, 1), (1, 0, 0),\n",
    "              (-1, 0, 0), (-1, 0, 0), (2, 0, 1), (2, 2, -2)])\n",
    "u = np.array([(-1, 0, 0), (-1, 0, 0), (-1, 0, 0), (-1, 0, -1),\n",
    "              (-1, 0, 0), (1, 0, 1), (1, 0, 0), (1, 0, 0)])\n",
    "\n",
    "plane_center = np.array((0, 0, 0))\n",
    "plane_normal = np.array((1, 0, 1))\n",
    "\n",
    "assert np.allclose(plane_intersection(A, u, plane_center, plane_normal),\n",
    "                   np.array([[ 0. ,  0. ,  0. ],\n",
    "                           [ 0. ,  1. ,  0. ],\n",
    "                           [-1. ,  0. ,  1. ],\n",
    "                           [ 0.5,  0. , -0.5],\n",
    "                           [ np.nan,  np.nan,  np.nan],\n",
    "                           [-0.5,  0. ,  0.5],\n",
    "                           [ np.nan,  np.nan,  np.nan],\n",
    "                           [ 2. ,  2. , -2. ]]), equal_nan=True)"
   ]
  },
  {
   "cell_type": "code",
   "execution_count": 90,
   "metadata": {},
   "outputs": [],
   "source": [
    "# inputs\n",
    "deuxtheta = np.pi/4\n",
    "rayon_gonio = 100 # mm\n",
    "\n",
    "# Incident beam\n",
    "N = 2\n",
    "Ax = np.ones((N, 1)) * rayon_gonio\n",
    "Ay = np.array([[0, .1], ]).T #(np.random.rand(N, 1)-0.5) * 10\n",
    "Az = np.array([[0, .1], ]).T #(np.random.rand(N, 1)-0.5) * 0.5\n",
    "\n",
    "\n",
    "u_incident_x = -np.ones((N, 1))\n",
    "u_incident_y = np.zeros((N, 1))\n",
    "u_incident_z = np.zeros((N, 1))\n",
    "\n",
    "A = np.hstack([Ax, Ay, Az])\n",
    "u_incident = normed( np.hstack([u_incident_x, u_incident_y, u_incident_z]) )\n",
    "\n",
    "# Define detector\n",
    "detector_position  = np.array((-rayon_gonio*np.cos(deuxtheta),\n",
    "                              0,\n",
    "                              +rayon_gonio*np.sin(deuxtheta)))\n",
    "detector_normal = normed(np.array((+np.cos(deuxtheta),\n",
    "                                  0,\n",
    "                                  -np.sin(deuxtheta))))\n",
    "detector_vertical = normed(np.array((0, 1, 0)))\n",
    "detector_horizontal = np.cross(detector_normal, detector_vertical)\n",
    "\n",
    "# Define sample\n",
    "omega = deuxtheta/2\n",
    "sample_position  = normed((0, 0, 0))\n",
    "sample_normal = normed((+np.sin(omega), 0, +np.cos(omega)))"
   ]
  },
  {
   "cell_type": "code",
   "execution_count": 91,
   "metadata": {},
   "outputs": [],
   "source": [
    "# Intersection of incident beams with sample plane:\n",
    "B = plane_intersection(A, u_incident, sample_position, sample_normal)"
   ]
  },
  {
   "cell_type": "code",
   "execution_count": 92,
   "metadata": {},
   "outputs": [
    {
     "data": {
      "image/png": "[encoded data removed]",
      "text/plain": [
       "<Figure size 432x288 with 1 Axes>"
      ]
     },
     "metadata": {
      "needs_background": "light"
     },
     "output_type": "display_data"
    }
   ],
   "source": [
    "plt.plot(A[:, 2], A[:, 1], 's', label='incident xz')\n",
    "plt.plot(B[:, 0], B[:, 1], 'x', label='sample xy')\n",
    "plt.axis('equal'); plt.legend();"
   ]
  },
  {
   "cell_type": "code",
   "execution_count": 124,
   "metadata": {},
   "outputs": [],
   "source": [
    "# Diffracted cone\n",
    "\n",
    "# detector base vector - relative to the cone axis\n",
    "v_plane = np.cross(detector_normal, u_incident) # vertical\n",
    "norm_v = np.linalg.norm(v_plane, axis=-1, keepdims=False)\n",
    "v_plane[np.isclose(norm_v, 0)] = detector_vertical\n",
    "v_plane = normed(v_plane)\n",
    "\n",
    "u_plane = np.cross(detector_normal, v_plane)\n",
    "\n",
    "# faisceau direct dans le plan du detecteur\n",
    "D = plane_intersection(A, u_incident,\n",
    "                       detector_position, detector_normal)\n",
    "\n",
    "# Inclinaison angle\n",
    "cos_beta = np.abs(np.dot(u_incident, detector_normal))[:, np.newaxis]\n",
    "sin_beta = np.linalg.norm( np.cross(u_incident, detector_normal),\n",
    "                          axis=-1 )[:, np.newaxis]"
   ]
  },
  {
   "cell_type": "markdown",
   "metadata": {},
   "source": [
    "Ellipse radius in the detector plane:\n",
    "\n",
    "$$rho(\\Gamma) = z_0 \\, \\frac{tan_{\\alpha} \\left(tan_{\\alpha} \\sin{\\left(\\beta \\right)} \\cos{\\left(\\Gamma \\right)} - \\sqrt{\\sin^{2}{\\left(\\Gamma \\right)} + \\cos^{2}{\\left(\\Gamma \\right)} \\cos^{2}{\\left(\\beta \\right)}}\\right)}{- tan_{\\alpha}^{2} \\sin^{2}{\\left(\\beta \\right)} \\cos^{2}{\\left(\\Gamma \\right)} + \\sin^{2}{\\left(\\Gamma \\right)} + \\cos^{2}{\\left(\\Gamma \\right)} \\cos^{2}{\\left(\\beta \\right)}}$$\n"
   ]
  },
  {
   "cell_type": "code",
   "execution_count": 113,
   "metadata": {},
   "outputs": [],
   "source": [
    "gamma_range = 5 *np.pi/180 # rad\n",
    "gamma_offset = 0\n",
    "gamma = np.linspace(-gamma_range+gamma_offset,\n",
    "                    +gamma_range+gamma_offset, 30)  # no Gamma=0... \n",
    "cos_Gamma = np.cos(gamma)\n",
    "sin_Gamma = np.sin(gamma)\n",
    "tan_alpha = np.tan( deuxtheta )#20*np.pi/180 )  # tan theta"
   ]
  },
  {
   "cell_type": "code",
   "execution_count": 114,
   "metadata": {},
   "outputs": [],
   "source": [
    "# Distance du plan par rapport au sommet du cone, sur  l'axe du cone\n",
    "z0 = np.linalg.norm(D - B, axis=-1, keepdims=True)"
   ]
  },
  {
   "cell_type": "code",
   "execution_count": 165,
   "metadata": {},
   "outputs": [],
   "source": [
    "racine = np.sqrt(cos_beta**2 * cos_Gamma**2 + sin_Gamma**2)\n",
    "up = tan_alpha*sin_beta*cos_Gamma - racine\n",
    "below = -tan_alpha**2 * sin_beta**2 * cos_Gamma**2 + sin_Gamma**2 + cos_Gamma**2*cos_beta**2\n",
    "rho = -np.divide(tan_alpha * z0 * up, below, where=np.abs(below)>0)  # not true for gamma=0"
   ]
  },
  {
   "cell_type": "code",
   "execution_count": 166,
   "metadata": {},
   "outputs": [
    {
     "data": {
      "image/png": "[encoded data removed]",
      "text/plain": [
       "<Figure size 432x288 with 1 Axes>"
      ]
     },
     "metadata": {
      "needs_background": "light"
     },
     "output_type": "display_data"
    }
   ],
   "source": [
    "plt.plot(rho*cos_Gamma, rho*sin_Gamma, '.');\n",
    "plt.axis('equal'); plt.title('ds le plan de ellipse');"
   ]
  },
  {
   "cell_type": "code",
   "execution_count": 167,
   "metadata": {},
   "outputs": [],
   "source": [
    "# Diffracted point on the detecteur plane, using absolute coordiantes\n",
    "C_from_axis = (rho*cos_Gamma)[:, :, np.newaxis] * u_plane[:, np.newaxis, :] \\\n",
    "             +(rho*sin_Gamma)[:, :, np.newaxis] * v_plane[:, np.newaxis, :]\n",
    "\n",
    "C = C_from_axis + D[:, np.newaxis, :]\n",
    "#C = C.reshape((-1, 3))"
   ]
  },
  {
   "cell_type": "code",
   "execution_count": 173,
   "metadata": {},
   "outputs": [
    {
     "data": {
      "image/png": "[encoded data removed]",
      "text/plain": [
       "<Figure size 360x720 with 1 Axes>"
      ]
     },
     "metadata": {
      "needs_background": "light"
     },
     "output_type": "display_data"
    }
   ],
   "source": [
    "# Projection back in the detecteur plane\n",
    "uy_direct_beam = np.dot(D, detector_vertical)\n",
    "uz_direct_beam = np.dot(D, detector_horizontal)\n",
    "\n",
    "uz = np.dot(C , detector_horizontal)\n",
    "uy = np.dot(C , detector_vertical)\n",
    "\n",
    "#plt.plot(A[:, 2], A[:, 1], 's')\n",
    "#plt.plot(D[:, 2], D[:, 1], 'x')\n",
    "plt.figure(figsize=(5, 10))\n",
    "plt.plot(uz, uy, '.');\n",
    "#plt.plot(uz_direct_beam, uy_direct_beam, 'x', alpha=0.5);\n",
    "plt.axis('equal');\n",
    "plt.title('detector plane -deuxTehta=%.2f°' % (180/np.pi*deuxtheta))\n",
    "plt.xlabel('z _dect (mm)'); plt.ylabel('y (mm)');"
   ]
  },
  {
   "cell_type": "code",
   "execution_count": null,
   "metadata": {},
   "outputs": [],
   "source": []
  },
  {
   "cell_type": "code",
   "execution_count": null,
   "metadata": {},
   "outputs": [],
   "source": []
  },
  {
   "cell_type": "code",
   "execution_count": null,
   "metadata": {},
   "outputs": [],
   "source": []
  }
 ],
 "metadata": {
  "kernelspec": {
   "display_name": "py3 venv",
   "language": "python",
   "name": "py3"
  },
  "language_info": {
   "codemirror_mode": {
    "name": "ipython",
    "version": 3
   },
   "file_extension": ".py",
   "mimetype": "text/x-python",
   "name": "python",
   "nbconvert_exporter": "python",
   "pygments_lexer": "ipython3",
   "version": "3.6.7"
  }
 },
 "nbformat": 4,
 "nbformat_minor": 2
}
