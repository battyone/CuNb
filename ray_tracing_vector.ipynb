{
 "cells": [
  {
   "cell_type": "code",
   "execution_count": 26,
   "metadata": {},
   "outputs": [],
   "source": [
    "import matplotlib.pylab as plt\n",
    "\n",
    "import numpy as np"
   ]
  },
  {
   "cell_type": "code",
   "execution_count": 4,
   "metadata": {},
   "outputs": [],
   "source": [
    "EPSILON = 1e-8"
   ]
  },
  {
   "cell_type": "code",
   "execution_count": 5,
   "metadata": {},
   "outputs": [],
   "source": [
    "def plane_intersection(ray, plane):\n",
    "    ''' Find the intersection point between a ray and a plane\n",
    "            ray: tuple (A, u) starting point and direction\n",
    "            plane: tuple (P, n, ux) origin, normal direction and in-plane x-axis\n",
    "            \n",
    "        Returns:\n",
    "            coordinates of the intersection point in the 3D ref. frame\n",
    "            coordinates of the intersection point in the plane ref. frame (u, v)\n",
    "    '''\n",
    "    A, u = ray\n",
    "    P, n, plane_x = plane\n",
    "    \n",
    "    A, P = np.asarray(A), np.asarray(P)\n",
    "    u, n, plane_x = np.asarray(u), np.asarray(n), np.asarray(plane_x)\n",
    "    \n",
    "    u_dot_n = np.inner(u, n)\n",
    "    AP_dot_n = np.inner(P - A, n)\n",
    "    \n",
    "    if u_dot_n >= -EPSILON and AP_dot_n >= -EPSILON:    \n",
    "        # print('do not colide')\n",
    "        return None, None\n",
    "    else:\n",
    "        t = AP_dot_n / u_dot_n  # time of collision\n",
    "        B = A + u*t   # collision point\n",
    "        \n",
    "        plane_y = np.cross(n, plane_x)\n",
    "        proj_x = np.inner(plane_x, B-P)\n",
    "        proj_y = np.inner(plane_y, B-P)\n",
    "        return B, (proj_x, proj_y)\n",
    "\n",
    "# test\n",
    "A = (1.2, 0, 0)\n",
    "u = (-1, 0, 0)\n",
    "ray = (A, u)\n",
    "\n",
    "P = (0, 0, 0)\n",
    "n = (1, 1, 4)\n",
    "plane_x = (-1, 1, 0)\n",
    "plane = (P, n, plane_x)\n",
    "\n",
    "assert np.allclose(plane_intersection(ray, plane)[0], [0., 0., 0.])\n"
   ]
  },
  {
   "cell_type": "code",
   "execution_count": 106,
   "metadata": {},
   "outputs": [],
   "source": [
    "N = 1000\n",
    "A = np.random.rand(N, 3)\n",
    "u = .1 * np.random.rand(N, 3)\n",
    "u[:, 0] += -.08\n",
    "A[:, 0] += 3\n",
    "\n",
    "plane_center = np.array((0, 0, 0))\n",
    "plane_normal = np.array((1, 0, 0)) \n",
    "\n",
    "AP_dot_n = np.inner((A - plane_center), plane_normal)\n",
    "\n",
    "u_dot_n = np.inner(u, plane_normal)\n",
    "\n",
    "t = - AP_dot_n / u_dot_n\n",
    "B = A + u*t[:, np.newaxis]"
   ]
  },
  {
   "cell_type": "code",
   "execution_count": 107,
   "metadata": {},
   "outputs": [],
   "source": [
    "B[t<0] = np.NaN"
   ]
  },
  {
   "cell_type": "markdown",
   "metadata": {},
   "source": [
    "# Go"
   ]
  },
  {
   "cell_type": "code",
   "execution_count": 343,
   "metadata": {},
   "outputs": [],
   "source": [
    "def norm(array_of_vector):\n",
    "    ''' return the array of normed vector (vector along the last dim)\n",
    "        i.e. a (nbre_vector, n_dim) array'''\n",
    "    array_of_vector = np.asarray(array_of_vector)\n",
    "    norm = np.linalg.norm(array_of_vector, axis=-1, keepdims=True)\n",
    "    return  np.divide(array_of_vector, norm, where=norm>0)\n",
    "\n",
    "# test\n",
    "assert np.allclose(norm(np.array((2, 0, 0))),\n",
    "                   np.array((1, 0, 0)))\n",
    "assert np.allclose(norm(np.array([(0, 2, 0), (0, -3, 0), (0, 0, 0), (-1, 0, 0)])),\n",
    "                   np.array([(0, 1, 0), (0, -1, 0), (0, 0, 0), (-1, 0, 0)]))"
   ]
  },
  {
   "cell_type": "code",
   "execution_count": 350,
   "metadata": {},
   "outputs": [],
   "source": [
    "# inputs\n",
    "N = 5\n",
    "A = np.random.rand(N, 3)\n",
    "u_incident = .1 * np.random.rand(N, 3)\n",
    "u_incident[:, 0] += -.08\n",
    "A[:, 0] += 3\n",
    "\n",
    "# Define detector\n",
    "deuxtheta = np.pi/4\n",
    "rayon_gonio = 420 # mm\n",
    "detector_position  = np.array((-rayon_gonio*np.cos(deuxtheta),\n",
    "                              0,\n",
    "                              +rayon_gonio*np.sin(deuxtheta)))\n",
    "detector_normal = norm(np.array((+np.cos(deuxtheta),\n",
    "                           0,\n",
    "                           -np.sin(deuxtheta))))\n",
    "detector_vertical = norm(np.array((0, 1, 0)))\n",
    "\n",
    "# Define sample\n",
    "sample_position  = norm((0, 0, 0))\n",
    "sample_normal = norm((+np.cos(deuxtheta/2), 0, -np.sin(deuxtheta/2)))\n"
   ]
  },
  {
   "cell_type": "code",
   "execution_count": 347,
   "metadata": {},
   "outputs": [],
   "source": [
    "# Intersection Incident beams with sample plane:\n",
    "AP_dot_n = np.inner((A - sample_position), sample_normal)\n",
    "\n",
    "u_dot_n = np.inner(u_incident, sample_normal)\n",
    "\n",
    "t = - AP_dot_n / u_dot_n\n",
    "B = A + u_incident*t[:, np.newaxis]"
   ]
  },
  {
   "cell_type": "code",
   "execution_count": 351,
   "metadata": {},
   "outputs": [],
   "source": [
    "v_plane = np.cross(detector_normal, u_incident)\n",
    "u_plane = np.cross(v_plane , detector_normal)\n",
    "\n",
    "beta = np.arccos( np.dot(u_incident, detector_normal) )"
   ]
  },
  {
   "cell_type": "code",
   "execution_count": 352,
   "metadata": {},
   "outputs": [
    {
     "data": {
      "text/plain": [
       "array([1.6303903 , 1.63847434, 1.59954499, 1.63768754, 1.59713146])"
      ]
     },
     "execution_count": 352,
     "metadata": {},
     "output_type": "execute_result"
    }
   ],
   "source": [
    "beta"
   ]
  },
  {
   "cell_type": "markdown",
   "metadata": {},
   "source": [
    "$$rho(\\Gamma) = \\frac{tan_{\\alpha} \\left(tan_{\\alpha} \\sin{\\left(\\beta \\right)} \\cos{\\left(\\Gamma \\right)} - \\sqrt{\\sin^{2}{\\left(\\Gamma \\right)} + \\cos^{2}{\\left(\\Gamma \\right)} \\cos^{2}{\\left(\\beta \\right)}}\\right)}{- tan_{\\alpha}^{2} \\sin^{2}{\\left(\\beta \\right)} \\cos^{2}{\\left(\\Gamma \\right)} + \\sin^{2}{\\left(\\Gamma \\right)} + \\cos^{2}{\\left(\\Gamma \\right)} \\cos^{2}{\\left(\\beta \\right)}}$$\n"
   ]
  },
  {
   "cell_type": "code",
   "execution_count": null,
   "metadata": {},
   "outputs": [],
   "source": []
  }
 ],
 "metadata": {
  "kernelspec": {
   "display_name": "py3 venv",
   "language": "python",
   "name": "py3"
  },
  "language_info": {
   "codemirror_mode": {
    "name": "ipython",
    "version": 3
   },
   "file_extension": ".py",
   "mimetype": "text/x-python",
   "name": "python",
   "nbconvert_exporter": "python",
   "pygments_lexer": "ipython3",
   "version": "3.6.7"
  }
 },
 "nbformat": 4,
 "nbformat_minor": 2
}
