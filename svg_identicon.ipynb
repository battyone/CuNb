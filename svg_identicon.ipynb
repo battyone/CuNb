{
 "cells": [
  {
   "cell_type": "code",
   "execution_count": 1,
   "metadata": {},
   "outputs": [],
   "source": [
    "import drawSvg as draw"
   ]
  },
  {
   "cell_type": "code",
   "execution_count": 2,
   "metadata": {},
   "outputs": [],
   "source": [
    "square_size = 20\n",
    "nx = 6\n",
    "ny = 5"
   ]
  },
  {
   "cell_type": "code",
   "execution_count": 11,
   "metadata": {},
   "outputs": [
    {
     "data": {
      "image/svg+xml": [
       "<?xml version=\"1.0\" encoding=\"UTF-8\"?>\n",
       "<svg xmlns=\"http://www.w3.org/2000/svg\" xmlns:xlink=\"http://www.w3.org/1999/xlink\"\n",
       "     width=\"120\" height=\"100\" viewBox=\"0 -100 120 100\">\n",
       "<defs>\n",
       "</defs>\n",
       "<rect x=\"0\" y=\"-100\" width=\"120\" height=\"100\" fill=\"white\" stroke-width=\"1\" stroke=\"black\" />\n",
       "<rect x=\"0\" y=\"-20\" width=\"20\" height=\"20\" fill=\"#1248ff\" />\n",
       "<rect x=\"100\" y=\"-20\" width=\"20\" height=\"20\" fill=\"#12ddff\" />\n",
       "<rect x=\"100\" y=\"-100\" width=\"20\" height=\"20\" fill=\"#12ddff\" />\n",
       "<rect x=\"100\" y=\"-60\" width=\"20\" height=\"20\" fill=\"#1277ff\" />\n",
       "</svg>"
      ],
      "text/plain": [
       "<drawSvg.drawing.Drawing at 0x7f9a8b6880f0>"
      ]
     },
     "execution_count": 11,
     "metadata": {},
     "output_type": "execute_result"
    }
   ],
   "source": [
    "d = draw.Drawing(square_size*nx, square_size*ny)\n",
    "\n",
    "d.append(draw.Rectangle(0,0,square_size*nx,square_size*ny, fill='white', stroke_width=1, stroke='black'))\n",
    "\n",
    "i, j = 0, 0\n",
    "d.append(draw.Rectangle(square_size*i, square_size*j,\n",
    "                        square_size*(i+1), square_size*(j+1),\n",
    "                        fill='#1248ff'))\n",
    "\n",
    "i, j = 5, 0\n",
    "d.append(draw.Rectangle(square_size*i, square_size*j,\n",
    "                        square_size, square_size,\n",
    "                        fill='#12ddff'))\n",
    "i, j = 5, 4\n",
    "d.append(draw.Rectangle(square_size*i, square_size*j,\n",
    "                        square_size, square_size,\n",
    "                        fill='#12ddff'))\n",
    "i, j = 5, 2\n",
    "d.append(draw.Rectangle(square_size*i, square_size*j,\n",
    "                        square_size, square_size,\n",
    "                        fill='#1277ff'))\n",
    "\n",
    "d"
   ]
  },
  {
   "cell_type": "code",
   "execution_count": 44,
   "metadata": {},
   "outputs": [],
   "source": [
    "d.clear()"
   ]
  },
  {
   "cell_type": "code",
   "execution_count": null,
   "metadata": {},
   "outputs": [],
   "source": []
  }
 ],
 "metadata": {
  "kernelspec": {
   "display_name": "py3 venv",
   "language": "python",
   "name": "py3"
  },
  "language_info": {
   "codemirror_mode": {
    "name": "ipython",
    "version": 3
   },
   "file_extension": ".py",
   "mimetype": "text/x-python",
   "name": "python",
   "nbconvert_exporter": "python",
   "pygments_lexer": "ipython3",
   "version": "3.6.8"
  }
 },
 "nbformat": 4,
 "nbformat_minor": 2
}
